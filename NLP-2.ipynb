{
 "cells": [
  {
   "cell_type": "markdown",
   "metadata": {},
   "source": [
    "## Bag of Words (BoW) "
   ]
  },
  {
   "cell_type": "code",
   "execution_count": 1,
   "metadata": {},
   "outputs": [],
   "source": [
    "import nltk\n",
    "import re\n",
    "import pandas as pd\n",
    "import numpy as np\n",
    "from nltk.corpus import stopwords\n",
    "from sklearn.feature_extraction.text import CountVectorizer # to prepare BoW and n_grams\n",
    "from sklearn.feature_extraction.text import TfidfVectorizer # to measure TF-IDF value "
   ]
  },
  {
   "cell_type": "code",
   "execution_count": 7,
   "metadata": {},
   "outputs": [],
   "source": [
    "data='''annotatorId\": 2, \"ratingOverall\": 5, \"ratingRoom\": 5, \"author\": \"travellerseattle\", \n",
    "\"hotelId\": \"277882\", \"reviewId\": \"277882:54\", \"ratingLocation\": 4, \"ratingCleanliness\": 5, \n",
    "\"ratingService\": 5, \"ratingBusiness\": 3, \"ratingValue\": 5, \"segmentLabels\": [{\"OTHER\": \"p\"}, \n",
    "{\"NOTRELATED\": \"x\"}, {\"OTHER\": \"p\"}, {\"SERVICE\": \"p\"}, {\"ROOMS\": \"p\"}, {\"CLEANLINESS\": \"p\", \n",
    "\"ROOMS\": \"p\"}, {\"FOOD\": \"p\"}, {\"FOOD\": \"p\"}, {\"LOCATION\": \"ip\"}, {\"OTHER\": \"p\"}, {\"OTHER\": \"p\"}, \n",
    "{\"OTHER\": \"p\"}], \"date\": \"May 15, 2007\", \"ratingCheckin\": 5, \n",
    "\"segments\": [\"LOVED THE HAMPTON INN SEAPORT!!!!!!!!!!!!!!!!!!\", \n",
    "\"Just returned from a 3 night stay.\", \"This is a FABULOUS hotel.\", \n",
    "\"The front desk staff, the doormen, the breakfast staff, \n",
    "EVERYONE is incredibly friendly and helpful and warm and welcoming.\", \n",
    "\"The rooms was fabulous too.\", \"Really comfy beds, great decorating, and super super clean.\", \n",
    "\"The breakfasts are great - fresh fruit, bagels, muffins, hot eggs and sausage, etc.\", \n",
    "\"Good coffee.\", \"Just around the corner from the hotel is a FABULOUS little Italian restaurant - Bon Amici.\", \n",
    "\"Highly recommend it.\", \"I will stay at this hotel everytime I come to New York.\", \n",
    "\"Can't say enough great things about it!!!!!\n",
    "annotatorId\": 2, \"ratingOverall\": 4, \"ratingRoom\": 4, \"author\": \"culturevulture2\", \n",
    "\"hotelId\": \"590144\", \"reviewId\": \"590144:48\", \"ratingLocation\": 5, \"ratingCleanliness\": 4, \n",
    "\"ratingService\": 4, \"ratingBusiness\": -1, \"ratingValue\": 4, \n",
    "\"segmentLabels\": [{\"OTHER\": \"p\"}, {\"NOTRELATED\": \"x\"}, {\"LOCATION\": \"p\"}, \n",
    "{\"ROOMS\": \"p\"}, {\"ROOMS\": \"x\"}, {\"ROOMS\": \"x\"}, {\"ROOMS\": \"x\"}, {\"CHECKIN\": \"n\"}, \n",
    "{\"CLEANLINESS\": \"n\"}, {\"VALUE\": \"p\"}], \"date\": \"Dec 22, 2007\", \"ratingCheckin\": 3, \n",
    "\"segments\": [\"We Will Stay Here Again\", \n",
    "\"This is the second time that we are staying at Lanson Place, Hong Kong.\", \n",
    "\"We loved its location in Causeway Bay-a stone's throw from the Causeway Bay MTR, \n",
    "great food outlets at Jardine's Bazaar, good shopping at Times Square.\", \n",
    "\"The room is big for HK standards and there is a small kitchenette if you need to heat up food in the microwave or cook a meal.\", \n",
    "\"This time, our room was in an L-shaped configuration.\", \n",
    "\"The bedroom was a little tight but the living and study space was slightly bigger.\", \n",
    "\"The furnishings and fittings are still in good condition.\", \n",
    "\"When we checked in for our stay, we were a little annoyed that we had to wait for our room to be ready even though it was 21/2 hours past the check-in time.\", \n",
    "\"I was a little taken aback too when one of the bath towels that I wanted to use had 5 holes on it.\", \"Nevertheless,\n",
    "the housekeeping team was prompt with providing us with good quality towels when we requested for it.We will stay here again when we next visit HK.'''"
   ]
  },
  {
   "cell_type": "code",
   "execution_count": 8,
   "metadata": {},
   "outputs": [
    {
     "data": {
      "text/plain": [
       "\"annotatorId 2 ratingOverall 5 ratingRoom 5 author travellerseattle hotelId 277882 reviewId 27788254 ratingLocation 4 ratingCleanliness 5 ratingService 5 ratingBusiness 3 ratingValue 5 segmentLabels OTHER p NOTRELATED x OTHER p SERVICE p ROOMS p CLEANLINESS p ROOMS p FOOD p FOOD p LOCATION ip OTHER p OTHER p OTHER p date May 15 2007 ratingCheckin 5 segments LOVED THE HAMPTON INN SEAPORT Just returned from a 3 night stay This is a FABULOUS hotel The front desk staff the doormen the breakfast staff EVERYONE is incredibly friendly and helpful and warm and welcoming The rooms was fabulous too Really comfy beds great decorating and super super clean The breakfasts are great  fresh fruit bagels muffins hot eggs and sausage etc Good coffee Just around the corner from the hotel is a FABULOUS little Italian restaurant  Bon Amici Highly recommend it I will stay at this hotel everytime I come to New York Can't say enough great things about itannotatorId 2 ratingOverall 4 ratingRoom 4 author culturevulture2 hotelId 590144 reviewId 59014448 ratingLocation 5 ratingCleanliness 4 ratingService 4 ratingBusiness 1 ratingValue 4 segmentLabels OTHER p NOTRELATED x LOCATION p ROOMS p ROOMS x ROOMS x ROOMS x CHECKIN n CLEANLINESS n VALUE p date Dec 22 2007 ratingCheckin 3 segments We Will Stay Here Again This is the second time that we are staying at Lanson Place Hong Kong We loved its location in Causeway Baya stone's throw from the Causeway Bay MTR great food outlets at Jardine's Bazaar good shopping at Times Square The room is big for HK standards and there is a small kitchenette if you need to heat up food in the microwave or cook a meal This time our room was in an Lshaped configuration The bedroom was a little tight but the living and study space was slightly bigger The furnishings and fittings are still in good condition When we checked in for our stay we were a little annoyed that we had to wait for our room to be ready even though it was 212 hours past the checkin time I was a little taken aback too when one of the bath towels that I wanted to use had 5 holes on it Neverthelessthe housekeeping team was prompt with providing us with good quality towels when we requested for itWe will stay here again when we next visit HK\""
      ]
     },
     "execution_count": 8,
     "metadata": {},
     "output_type": "execute_result"
    }
   ],
   "source": [
    "data1=re.sub('[^A-Za-z0-9\\' ]+', '', data) # caret means removal elements except in bracket, removal of punctuations\n",
    "data1"
   ]
  },
  {
   "cell_type": "code",
   "execution_count": 9,
   "metadata": {},
   "outputs": [
    {
     "data": {
      "text/plain": [
       "[\"annotatorId 2 ratingOverall 5 ratingRoom 5 author travellerseattle hotelId 277882 reviewId 27788254 ratingLocation 4 ratingCleanliness 5 ratingService 5 ratingBusiness 3 ratingValue 5 segmentLabels OTHER p NOTRELATED x OTHER p SERVICE p ROOMS p CLEANLINESS p ROOMS p FOOD p FOOD p LOCATION ip OTHER p OTHER p OTHER p date May 15 2007 ratingCheckin 5 segments LOVED THE HAMPTON INN SEAPORT Just returned from a 3 night stay This is a FABULOUS hotel The front desk staff the doormen the breakfast staff EVERYONE is incredibly friendly and helpful and warm and welcoming The rooms was fabulous too Really comfy beds great decorating and super super clean The breakfasts are great  fresh fruit bagels muffins hot eggs and sausage etc Good coffee Just around the corner from the hotel is a FABULOUS little Italian restaurant  Bon Amici Highly recommend it I will stay at this hotel everytime I come to New York Can't say enough great things about itannotatorId 2 ratingOverall 4 ratingRoom 4 author culturevulture2 hotelId 590144 reviewId 59014448 ratingLocation 5 ratingCleanliness 4 ratingService 4 ratingBusiness 1 ratingValue 4 segmentLabels OTHER p NOTRELATED x LOCATION p ROOMS p ROOMS x ROOMS x ROOMS x CHECKIN n CLEANLINESS n VALUE p date Dec 22 2007 ratingCheckin 3 segments We Will Stay Here Again This is the second time that we are staying at Lanson Place Hong Kong We loved its location in Causeway Baya stone's throw from the Causeway Bay MTR great food outlets at Jardine's Bazaar good shopping at Times Square The room is big for HK standards and there is a small kitchenette if you need to heat up food in the microwave or cook a meal This time our room was in an Lshaped configuration The bedroom was a little tight but the living and study space was slightly bigger The furnishings and fittings are still in good condition When we checked in for our stay we were a little annoyed that we had to wait for our room to be ready even though it was 212 hours past the checkin time I was a little taken aback too when one of the bath towels that I wanted to use had 5 holes on it Neverthelessthe housekeeping team was prompt with providing us with good quality towels when we requested for itWe will stay here again when we next visit HK\"]"
      ]
     },
     "execution_count": 9,
     "metadata": {},
     "output_type": "execute_result"
    }
   ],
   "source": [
    "sent_tokens=nltk.sent_tokenize(data1)\n",
    "sent_tokens"
   ]
  },
  {
   "cell_type": "code",
   "execution_count": 10,
   "metadata": {},
   "outputs": [
    {
     "name": "stdout",
     "output_type": "stream",
     "text": [
      "['annotatorId', '2', 'ratingOverall', '5', 'ratingRoom', '5', 'author', 'travellerseattle', 'hotelId', '277882', 'reviewId', '27788254', 'ratingLocation', '4', 'ratingCleanliness', '5', 'ratingService', '5', 'ratingBusiness', '3', 'ratingValue', '5', 'segmentLabels', 'OTHER', 'p', 'NOTRELATED', 'x', 'OTHER', 'p', 'SERVICE', 'p', 'ROOMS', 'p', 'CLEANLINESS', 'p', 'ROOMS', 'p', 'FOOD', 'p', 'FOOD', 'p', 'LOCATION', 'ip', 'OTHER', 'p', 'OTHER', 'p', 'OTHER', 'p', 'date', 'May', '15', '2007', 'ratingCheckin', '5', 'segments', 'LOVED', 'THE', 'HAMPTON', 'INN', 'SEAPORT', 'Just', 'returned', 'from', 'a', '3', 'night', 'stay', 'This', 'is', 'a', 'FABULOUS', 'hotel', 'The', 'front', 'desk', 'staff', 'the', 'doormen', 'the', 'breakfast', 'staff', 'EVERYONE', 'is', 'incredibly', 'friendly', 'and', 'helpful', 'and', 'warm', 'and', 'welcoming', 'The', 'rooms', 'was', 'fabulous', 'too', 'Really', 'comfy', 'beds', 'great', 'decorating', 'and', 'super', 'super', 'clean', 'The', 'breakfasts', 'are', 'great', 'fresh', 'fruit', 'bagels', 'muffins', 'hot', 'eggs', 'and', 'sausage', 'etc', 'Good', 'coffee', 'Just', 'around', 'the', 'corner', 'from', 'the', 'hotel', 'is', 'a', 'FABULOUS', 'little', 'Italian', 'restaurant', 'Bon', 'Amici', 'Highly', 'recommend', 'it', 'I', 'will', 'stay', 'at', 'this', 'hotel', 'everytime', 'I', 'come', 'to', 'New', 'York', 'Ca', \"n't\", 'say', 'enough', 'great', 'things', 'about', 'itannotatorId', '2', 'ratingOverall', '4', 'ratingRoom', '4', 'author', 'culturevulture2', 'hotelId', '590144', 'reviewId', '59014448', 'ratingLocation', '5', 'ratingCleanliness', '4', 'ratingService', '4', 'ratingBusiness', '1', 'ratingValue', '4', 'segmentLabels', 'OTHER', 'p', 'NOTRELATED', 'x', 'LOCATION', 'p', 'ROOMS', 'p', 'ROOMS', 'x', 'ROOMS', 'x', 'ROOMS', 'x', 'CHECKIN', 'n', 'CLEANLINESS', 'n', 'VALUE', 'p', 'date', 'Dec', '22', '2007', 'ratingCheckin', '3', 'segments', 'We', 'Will', 'Stay', 'Here', 'Again', 'This', 'is', 'the', 'second', 'time', 'that', 'we', 'are', 'staying', 'at', 'Lanson', 'Place', 'Hong', 'Kong', 'We', 'loved', 'its', 'location', 'in', 'Causeway', 'Baya', 'stone', \"'s\", 'throw', 'from', 'the', 'Causeway', 'Bay', 'MTR', 'great', 'food', 'outlets', 'at', 'Jardine', \"'s\", 'Bazaar', 'good', 'shopping', 'at', 'Times', 'Square', 'The', 'room', 'is', 'big', 'for', 'HK', 'standards', 'and', 'there', 'is', 'a', 'small', 'kitchenette', 'if', 'you', 'need', 'to', 'heat', 'up', 'food', 'in', 'the', 'microwave', 'or', 'cook', 'a', 'meal', 'This', 'time', 'our', 'room', 'was', 'in', 'an', 'Lshaped', 'configuration', 'The', 'bedroom', 'was', 'a', 'little', 'tight', 'but', 'the', 'living', 'and', 'study', 'space', 'was', 'slightly', 'bigger', 'The', 'furnishings', 'and', 'fittings', 'are', 'still', 'in', 'good', 'condition', 'When', 'we', 'checked', 'in', 'for', 'our', 'stay', 'we', 'were', 'a', 'little', 'annoyed', 'that', 'we', 'had', 'to', 'wait', 'for', 'our', 'room', 'to', 'be', 'ready', 'even', 'though', 'it', 'was', '212', 'hours', 'past', 'the', 'checkin', 'time', 'I', 'was', 'a', 'little', 'taken', 'aback', 'too', 'when', 'one', 'of', 'the', 'bath', 'towels', 'that', 'I', 'wanted', 'to', 'use', 'had', '5', 'holes', 'on', 'it', 'Neverthelessthe', 'housekeeping', 'team', 'was', 'prompt', 'with', 'providing', 'us', 'with', 'good', 'quality', 'towels', 'when', 'we', 'requested', 'for', 'itWe', 'will', 'stay', 'here', 'again', 'when', 'we', 'next', 'visit', 'HK']\n"
     ]
    },
    {
     "data": {
      "text/plain": [
       "396"
      ]
     },
     "execution_count": 10,
     "metadata": {},
     "output_type": "execute_result"
    }
   ],
   "source": [
    "word_tokens=nltk.word_tokenize(data1) # prepearing word tags\n",
    "print (word_tokens)\n",
    "len(word_tokens)"
   ]
  },
  {
   "cell_type": "markdown",
   "metadata": {},
   "source": [
    "# BoW"
   ]
  },
  {
   "cell_type": "code",
   "execution_count": 11,
   "metadata": {},
   "outputs": [
    {
     "name": "stdout",
     "output_type": "stream",
     "text": [
      "CountVectorizer(analyzer='word', binary=False, decode_error='strict',\n",
      "        dtype=<class 'numpy.int64'>, encoding='utf-8', input='content',\n",
      "        lowercase=True, max_df=1.0, max_features=None, min_df=1,\n",
      "        ngram_range=(1, 1), preprocessor=None,\n",
      "        stop_words=['i', 'me', 'my', 'myself', 'we', 'our', 'ours', 'ourselves', 'you', \"you're\", \"you've\", \"you'll\", \"you'd\", 'your', 'yours', 'yourself', 'yourselves', 'he', 'him', 'his', 'himself', 'she', \"she's\", 'her', 'hers', 'herself', 'it', \"it's\", 'its', 'itself', 'they', 'them', 'their', 'theirs',... 'shouldn', \"shouldn't\", 'wasn', \"wasn't\", 'weren', \"weren't\", 'won', \"won't\", 'wouldn', \"wouldn't\"],\n",
      "        strip_accents=None, token_pattern='(?u)\\\\b\\\\w\\\\w+\\\\b',\n",
      "        tokenizer=None, vocabulary=None)\n",
      "{'annotatorid': 10, 'ratingoverall': 109, 'ratingroom': 110, 'author': 13, 'travellerseattle': 151, 'hotelid': 69, '277882': 4, 'reviewid': 119, '27788254': 5, 'ratinglocation': 108, 'ratingcleanliness': 107, 'ratingservice': 111, 'ratingbusiness': 105, 'ratingvalue': 112, 'segmentlabels': 126, 'notrelated': 97, 'service': 128, 'rooms': 121, 'cleanliness': 30, 'food': 52, 'location': 84, 'ip': 74, 'date': 39, 'may': 87, '15': 0, '2007': 1, 'ratingcheckin': 106, 'segments': 127, 'loved': 85, 'hampton': 60, 'inn': 73, 'seaport': 124, 'returned': 118, 'night': 96, 'stay': 136, 'fabulous': 50, 'hotel': 68, 'front': 55, 'desk': 42, 'staff': 134, 'doormen': 43, 'breakfast': 24, 'everyone': 48, 'incredibly': 72, 'friendly': 54, 'helpful': 62, 'warm': 158, 'welcoming': 159, 'really': 114, 'comfy': 33, 'beds': 20, 'great': 59, 'decorating': 41, 'super': 141, 'clean': 29, 'breakfasts': 25, 'fresh': 53, 'fruit': 56, 'bagels': 14, 'muffins': 91, 'hot': 67, 'eggs': 44, 'sausage': 122, 'etc': 46, 'good': 58, 'coffee': 31, 'around': 12, 'corner': 37, 'little': 82, 'italian': 75, 'restaurant': 117, 'bon': 23, 'amici': 9, 'highly': 63, 'recommend': 115, 'everytime': 49, 'come': 32, 'new': 94, 'york': 160, 'say': 123, 'enough': 45, 'things': 144, 'itannotatorid': 76, 'culturevulture2': 38, '590144': 6, '59014448': 7, 'checkin': 28, 'value': 154, 'dec': 40, '22': 3, 'second': 125, 'time': 148, 'staying': 137, 'lanson': 81, 'place': 101, 'hong': 66, 'kong': 80, 'causeway': 26, 'baya': 17, 'stone': 139, 'throw': 146, 'bay': 16, 'mtr': 90, 'outlets': 99, 'jardine': 78, 'bazaar': 18, 'shopping': 129, 'times': 149, 'square': 133, 'room': 120, 'big': 21, 'hk': 64, 'standards': 135, 'small': 131, 'kitchenette': 79, 'need': 92, 'heat': 61, 'microwave': 89, 'cook': 36, 'meal': 88, 'lshaped': 86, 'configuration': 35, 'bedroom': 19, 'tight': 147, 'living': 83, 'study': 140, 'space': 132, 'slightly': 130, 'bigger': 22, 'furnishings': 57, 'fittings': 51, 'still': 138, 'condition': 34, 'checked': 27, 'annoyed': 11, 'wait': 156, 'ready': 113, 'even': 47, 'though': 145, '212': 2, 'hours': 70, 'past': 100, 'taken': 142, 'aback': 8, 'one': 98, 'bath': 15, 'towels': 150, 'wanted': 157, 'use': 153, 'holes': 65, 'neverthelessthe': 93, 'housekeeping': 71, 'team': 143, 'prompt': 102, 'providing': 103, 'us': 152, 'quality': 104, 'requested': 116, 'itwe': 77, 'next': 95, 'visit': 155}\n"
     ]
    }
   ],
   "source": [
    "stopwords1=(stopwords.words('english'))\n",
    "cv= CountVectorizer(stop_words=stopwords1) \n",
    "print (cv)\n",
    "cv.fit(sent_tokens) #training algorithm\n",
    "print (cv.vocabulary_)\n"
   ]
  },
  {
   "cell_type": "code",
   "execution_count": 13,
   "metadata": {},
   "outputs": [
    {
     "name": "stdout",
     "output_type": "stream",
     "text": [
      "  (0, 155)\t1\n",
      "  (0, 95)\t1\n",
      "  (0, 77)\t1\n",
      "  (0, 116)\t1\n",
      "  (0, 104)\t1\n",
      "  (0, 152)\t1\n",
      "  (0, 103)\t1\n",
      "  (0, 102)\t1\n",
      "  (0, 143)\t1\n",
      "  (0, 71)\t1\n",
      "  (0, 93)\t1\n",
      "  (0, 65)\t1\n",
      "  (0, 153)\t1\n",
      "  (0, 157)\t1\n",
      "  (0, 150)\t2\n",
      "  (0, 15)\t1\n",
      "  (0, 98)\t1\n",
      "  (0, 8)\t1\n",
      "  (0, 142)\t1\n",
      "  (0, 100)\t1\n",
      "  (0, 70)\t1\n",
      "  (0, 2)\t1\n",
      "  (0, 145)\t1\n",
      "  (0, 47)\t1\n",
      "  (0, 113)\t1\n",
      "  :\t:\n",
      "  (0, 0)\t1\n",
      "  (0, 87)\t1\n",
      "  (0, 39)\t2\n",
      "  (0, 74)\t1\n",
      "  (0, 84)\t3\n",
      "  (0, 52)\t4\n",
      "  (0, 30)\t2\n",
      "  (0, 121)\t7\n",
      "  (0, 128)\t1\n",
      "  (0, 97)\t2\n",
      "  (0, 126)\t2\n",
      "  (0, 112)\t2\n",
      "  (0, 105)\t2\n",
      "  (0, 111)\t2\n",
      "  (0, 107)\t2\n",
      "  (0, 108)\t2\n",
      "  (0, 5)\t1\n",
      "  (0, 119)\t2\n",
      "  (0, 4)\t1\n",
      "  (0, 69)\t2\n",
      "  (0, 151)\t1\n",
      "  (0, 13)\t2\n",
      "  (0, 110)\t2\n",
      "  (0, 109)\t2\n",
      "  (0, 10)\t1\n"
     ]
    }
   ],
   "source": [
    "cvt=cv.fit_transform(sent_tokens)\n",
    "print (cvt)"
   ]
  },
  {
   "cell_type": "code",
   "execution_count": 14,
   "metadata": {},
   "outputs": [
    {
     "data": {
      "text/plain": [
       "array([[1, 2, 1, 1, 1, 1, 1, 1, 1, 1, 1, 1, 1, 2, 1, 1, 1, 1, 1, 1, 1, 1,\n",
       "        1, 1, 1, 1, 2, 1, 2, 1, 2, 1, 1, 1, 1, 1, 1, 1, 1, 2, 1, 1, 1, 1,\n",
       "        1, 1, 1, 1, 1, 1, 3, 1, 4, 1, 1, 1, 1, 1, 4, 4, 1, 1, 1, 1, 2, 1,\n",
       "        1, 1, 3, 2, 1, 1, 1, 1, 1, 1, 1, 1, 1, 1, 1, 1, 4, 1, 3, 2, 1, 1,\n",
       "        1, 1, 1, 1, 1, 1, 1, 1, 1, 2, 1, 1, 1, 1, 1, 1, 1, 2, 2, 2, 2, 2,\n",
       "        2, 2, 2, 1, 1, 1, 1, 1, 1, 2, 3, 7, 1, 1, 1, 1, 2, 2, 1, 1, 1, 1,\n",
       "        1, 1, 2, 1, 5, 1, 1, 1, 1, 2, 1, 1, 1, 1, 1, 1, 3, 1, 2, 1, 1, 1,\n",
       "        1, 1, 1, 1, 1, 1, 1]], dtype=int64)"
      ]
     },
     "execution_count": 14,
     "metadata": {},
     "output_type": "execute_result"
    }
   ],
   "source": [
    "cvt.toarray() # converting sparse vector to numpy array"
   ]
  },
  {
   "cell_type": "code",
   "execution_count": 10,
   "metadata": {},
   "outputs": [
    {
     "data": {
      "text/plain": [
       "scipy.sparse.csr.csr_matrix"
      ]
     },
     "execution_count": 10,
     "metadata": {},
     "output_type": "execute_result"
    }
   ],
   "source": [
    "type(cvt)"
   ]
  },
  {
   "cell_type": "code",
   "execution_count": 54,
   "metadata": {},
   "outputs": [
    {
     "data": {
      "text/plain": [
       "(1, 161)"
      ]
     },
     "execution_count": 54,
     "metadata": {},
     "output_type": "execute_result"
    }
   ],
   "source": [
    "cvt.get_shape()\n"
   ]
  },
  {
   "cell_type": "code",
   "execution_count": 55,
   "metadata": {},
   "outputs": [
    {
     "data": {
      "text/plain": [
       "array([[1, 2, 1, 1, 1, 1, 1, 1, 1, 1, 1, 1, 1, 2, 1, 1, 1, 1, 1, 1, 1, 1,\n",
       "        1, 1, 1, 1, 2, 1, 2, 1, 2, 1, 1, 1, 1, 1, 1, 1, 1, 2, 1, 1, 1, 1,\n",
       "        1, 1, 1, 1, 1, 1, 3, 1, 4, 1, 1, 1, 1, 1, 4, 4, 1, 1, 1, 1, 2, 1,\n",
       "        1, 1, 3, 2, 1, 1, 1, 1, 1, 1, 1, 1, 1, 1, 1, 1, 4, 1, 3, 2, 1, 1,\n",
       "        1, 1, 1, 1, 1, 1, 1, 1, 1, 2, 1, 1, 1, 1, 1, 1, 1, 2, 2, 2, 2, 2,\n",
       "        2, 2, 2, 1, 1, 1, 1, 1, 1, 2, 3, 7, 1, 1, 1, 1, 2, 2, 1, 1, 1, 1,\n",
       "        1, 1, 2, 1, 5, 1, 1, 1, 1, 2, 1, 1, 1, 1, 1, 1, 3, 1, 2, 1, 1, 1,\n",
       "        1, 1, 1, 1, 1, 1, 1]], dtype=int64)"
      ]
     },
     "execution_count": 55,
     "metadata": {},
     "output_type": "execute_result"
    }
   ],
   "source": [
    "cvt.toarray() # converting sparse vector to numpy array"
   ]
  },
  {
   "cell_type": "markdown",
   "metadata": {},
   "source": [
    " 121 nr of word (rooms) is appearing 7 times and 52 nr of word(food) is appearing 4 times   "
   ]
  },
  {
   "cell_type": "code",
   "execution_count": 17,
   "metadata": {},
   "outputs": [
    {
     "data": {
      "text/plain": [
       "FreqDist({'not': 1, 'bad': 1})"
      ]
     },
     "execution_count": 17,
     "metadata": {},
     "output_type": "execute_result"
    }
   ],
   "source": [
    "positive_words=['good', 'very']\n",
    "negative_words=['not', 'bad']\n",
    "dist_positive= nltk.FreqDist(positive_words)\n",
    "dist_negative=nltk.FreqDist(negative_words)\n",
    "dist_positive\n",
    "dist_negative"
   ]
  },
  {
   "cell_type": "code",
   "execution_count": 15,
   "metadata": {},
   "outputs": [
    {
     "name": "stdout",
     "output_type": "stream",
     "text": [
      "{'annotatorid': 58, 'ratingoverall': 523, 'ratingroom': 526, 'author': 83, 'travellerseattle': 751, 'hotelid': 319, '277882': 12, 'reviewid': 554, '27788254': 15, 'ratinglocation': 520, 'ratingcleanliness': 517, 'ratingservice': 530, 'ratingbusiness': 510, 'ratingvalue': 533, 'segmentlabels': 590, 'other': 475, 'notrelated': 458, 'service': 598, 'rooms': 566, 'cleanliness': 149, 'food': 223, 'location': 413, 'ip': 350, 'date': 178, 'may': 428, '15': 0, '2007': 3, 'ratingcheckin': 513, 'segments': 593, 'loved': 420, 'the': 662, 'hampton': 284, 'inn': 347, 'seaport': 584, 'just': 387, 'returned': 551, 'from': 246, 'night': 455, 'stay': 624, 'this': 703, 'is': 353, 'fabulous': 213, 'hotel': 312, 'front': 252, 'desk': 189, 'staff': 616, 'doormen': 192, 'breakfast': 121, 'everyone': 207, 'incredibly': 344, 'friendly': 243, 'and': 41, 'helpful': 290, 'warm': 774, 'welcoming': 808, 'was': 777, 'too': 741, 'really': 539, 'comfy': 160, 'beds': 109, 'great': 270, 'decorating': 186, 'super': 645, 'clean': 146, 'breakfasts': 124, 'are': 64, 'fresh': 240, 'fruit': 255, 'bagels': 88, 'muffins': 440, 'hot': 309, 'eggs': 195, 'sausage': 578, 'etc': 201, 'good': 261, 'coffee': 154, 'around': 71, 'corner': 172, 'little': 401, 'italian': 372, 'restaurant': 548, 'bon': 118, 'amici': 35, 'highly': 297, 'recommend': 542, 'it': 365, 'will': 821, 'at': 74, 'everytime': 210, 'come': 157, 'to': 730, 'new': 449, 'york': 830, 'can': 130, 'say': 581, 'enough': 198, 'things': 700, 'about': 27, 'itannotatorid': 375, 'culturevulture2': 175, '590144': 18, '59014448': 21, 'checkin': 141, 'value': 763, 'dec': 183, '22': 9, 'we': 791, 'here': 293, 'again': 30, 'second': 587, 'time': 720, 'that': 656, 'staying': 633, 'lanson': 398, 'place': 498, 'hong': 306, 'kong': 395, 'its': 378, 'in': 333, 'causeway': 133, 'baya': 97, 'stone': 639, 'throw': 714, 'bay': 94, 'mtr': 437, 'outlets': 492, 'jardine': 384, 'bazaar': 100, 'shopping': 601, 'times': 727, 'square': 613, 'room': 559, 'big': 112, 'for': 232, 'hk': 300, 'standards': 621, 'there': 697, 'small': 607, 'kitchenette': 392, 'if': 330, 'you': 833, 'need': 443, 'heat': 287, 'up': 754, 'microwave': 434, 'or': 472, 'cook': 169, 'meal': 431, 'our': 486, 'an': 38, 'lshaped': 425, 'configuration': 166, 'bedroom': 106, 'tight': 717, 'but': 127, 'living': 410, 'study': 642, 'space': 610, 'slightly': 604, 'bigger': 115, 'furnishings': 258, 'fittings': 220, 'still': 636, 'condition': 163, 'when': 814, 'checked': 138, 'were': 811, 'annoyed': 61, 'had': 279, 'wait': 768, 'be': 103, 'ready': 536, 'even': 204, 'though': 711, '212': 6, 'hours': 324, 'past': 495, 'taken': 650, 'aback': 24, 'one': 469, 'of': 463, 'bath': 91, 'towels': 746, 'wanted': 771, 'use': 760, 'holes': 303, 'on': 466, 'neverthelessthe': 446, 'housekeeping': 327, 'team': 653, 'prompt': 501, 'with': 825, 'providing': 504, 'us': 757, 'quality': 507, 'requested': 545, 'itwe': 381, 'next': 452, 'visit': 766, 'annotatorid ratingoverall': 59, 'ratingoverall ratingroom': 524, 'ratingroom author': 527, 'author travellerseattle': 86, 'travellerseattle hotelid': 752, 'hotelid 277882': 320, '277882 reviewid': 13, 'reviewid 27788254': 555, '27788254 ratinglocation': 16, 'ratinglocation ratingcleanliness': 521, 'ratingcleanliness ratingservice': 518, 'ratingservice ratingbusiness': 531, 'ratingbusiness ratingvalue': 511, 'ratingvalue segmentlabels': 534, 'segmentlabels other': 591, 'other notrelated': 478, 'notrelated other': 461, 'other service': 484, 'service rooms': 599, 'rooms cleanliness': 569, 'cleanliness rooms': 150, 'rooms food': 571, 'food food': 224, 'food location': 228, 'location ip': 416, 'ip other': 351, 'other other': 481, 'other date': 476, 'date may': 181, 'may 15': 429, '15 2007': 1, '2007 ratingcheckin': 4, 'ratingcheckin segments': 514, 'segments loved': 594, 'loved the': 423, 'the hampton': 683, 'hampton inn': 285, 'inn seaport': 348, 'seaport just': 585, 'just returned': 390, 'returned from': 552, 'from night': 247, 'night stay': 456, 'stay this': 629, 'this is': 706, 'is fabulous': 356, 'fabulous hotel': 214, 'hotel the': 317, 'the front': 679, 'front desk': 253, 'desk staff': 190, 'staff the': 619, 'the doormen': 677, 'doormen the': 193, 'the breakfast': 667, 'breakfast staff': 122, 'staff everyone': 617, 'everyone is': 208, 'is incredibly': 359, 'incredibly friendly': 345, 'friendly and': 244, 'and helpful': 44, 'helpful and': 291, 'and warm': 54, 'warm and': 775, 'and welcoming': 56, 'welcoming the': 809, 'the rooms': 693, 'rooms was': 576, 'was fabulous': 780, 'fabulous too': 218, 'too really': 742, 'really comfy': 540, 'comfy beds': 161, 'beds great': 110, 'great decorating': 271, 'decorating and': 187, 'and super': 50, 'super super': 648, 'super clean': 646, 'clean the': 147, 'the breakfasts': 669, 'breakfasts are': 125, 'are great': 65, 'great fresh': 275, 'fresh fruit': 241, 'fruit bagels': 256, 'bagels muffins': 89, 'muffins hot': 441, 'hot eggs': 310, 'eggs and': 196, 'and sausage': 46, 'sausage etc': 579, 'etc good': 202, 'good coffee': 262, 'coffee just': 155, 'just around': 388, 'around the': 72, 'the corner': 675, 'corner from': 173, 'from the': 249, 'the hotel': 685, 'hotel is': 315, 'fabulous little': 216, 'little italian': 404, 'italian restaurant': 373, 'restaurant bon': 549, 'bon amici': 119, 'amici highly': 36, 'highly recommend': 298, 'recommend it': 543, 'it will': 370, 'will stay': 822, 'stay at': 625, 'at this': 79, 'this hotel': 704, 'hotel everytime': 313, 'everytime come': 211, 'come to': 158, 'to new': 735, 'new york': 450, 'york can': 831, 'can say': 131, 'say enough': 582, 'enough great': 199, 'great things': 277, 'things about': 701, 'about itannotatorid': 28, 'itannotatorid ratingoverall': 376, 'author culturevulture2': 84, 'culturevulture2 hotelid': 176, 'hotelid 590144': 322, '590144 reviewid': 19, 'reviewid 59014448': 557, '59014448 ratinglocation': 22, 'notrelated location': 459, 'location rooms': 418, 'rooms rooms': 573, 'rooms checkin': 567, 'checkin cleanliness': 142, 'cleanliness value': 152, 'value date': 764, 'date dec': 179, 'dec 22': 184, '22 2007': 10, 'segments we': 596, 'we will': 806, 'stay here': 627, 'here again': 294, 'again this': 31, 'is the': 363, 'the second': 695, 'second time': 588, 'time that': 723, 'that we': 659, 'we are': 792, 'are staying': 67, 'staying at': 634, 'at lanson': 77, 'lanson place': 399, 'place hong': 499, 'hong kong': 307, 'kong we': 396, 'we loved': 798, 'loved its': 421, 'its location': 379, 'location in': 414, 'in causeway': 336, 'causeway baya': 136, 'baya stone': 98, 'stone throw': 640, 'throw from': 715, 'the causeway': 671, 'causeway bay': 134, 'bay mtr': 95, 'mtr great': 438, 'great food': 273, 'food outlets': 230, 'outlets at': 493, 'at jardine': 75, 'jardine bazaar': 385, 'bazaar good': 101, 'good shopping': 268, 'shopping at': 602, 'at times': 81, 'times square': 728, 'square the': 614, 'the room': 691, 'room is': 560, 'is big': 354, 'big for': 113, 'for hk': 233, 'hk standards': 301, 'standards and': 622, 'and there': 52, 'there is': 698, 'is small': 361, 'small kitchenette': 608, 'kitchenette if': 393, 'if you': 331, 'you need': 834, 'need to': 444, 'to heat': 733, 'heat up': 288, 'up food': 755, 'food in': 226, 'in the': 342, 'the microwave': 689, 'microwave or': 435, 'or cook': 473, 'cook meal': 170, 'meal this': 432, 'this time': 709, 'time our': 721, 'our room': 487, 'room was': 564, 'was in': 782, 'in an': 334, 'an lshaped': 39, 'lshaped configuration': 426, 'configuration the': 167, 'the bedroom': 665, 'bedroom was': 107, 'was little': 784, 'little tight': 408, 'tight but': 718, 'but the': 128, 'the living': 687, 'living and': 411, 'and study': 48, 'study space': 643, 'space was': 611, 'was slightly': 789, 'slightly bigger': 605, 'bigger the': 116, 'the furnishings': 681, 'furnishings and': 259, 'and fittings': 42, 'fittings are': 221, 'are still': 69, 'still in': 637, 'in good': 340, 'good condition': 264, 'condition when': 164, 'when we': 817, 'we checked': 794, 'checked in': 139, 'in for': 338, 'for our': 237, 'our stay': 490, 'stay we': 631, 'we were': 804, 'were little': 812, 'little annoyed': 402, 'annoyed that': 62, 'we had': 796, 'had to': 282, 'to wait': 739, 'wait for': 769, 'room to': 562, 'to be': 731, 'be ready': 104, 'ready even': 537, 'even though': 205, 'though it': 712, 'it was': 368, 'was 212': 778, '212 hours': 7, 'hours past': 325, 'past the': 496, 'the checkin': 673, 'checkin time': 144, 'time was': 725, 'little taken': 406, 'taken aback': 651, 'aback too': 25, 'too when': 744, 'when one': 815, 'one of': 470, 'of the': 464, 'the bath': 663, 'bath towels': 92, 'towels that': 747, 'that wanted': 657, 'wanted to': 772, 'to use': 737, 'use had': 761, 'had holes': 280, 'holes on': 304, 'on it': 467, 'it neverthelessthe': 366, 'neverthelessthe housekeeping': 447, 'housekeeping team': 328, 'team was': 654, 'was prompt': 787, 'prompt with': 502, 'with providing': 828, 'providing us': 505, 'us with': 758, 'with good': 826, 'good quality': 266, 'quality towels': 508, 'towels when': 749, 'we requested': 802, 'requested for': 546, 'for itwe': 235, 'itwe will': 382, 'again when': 33, 'we next': 800, 'next visit': 453, 'visit hk': 767, 'annotatorid ratingoverall ratingroom': 60, 'ratingoverall ratingroom author': 525, 'ratingroom author travellerseattle': 529, 'author travellerseattle hotelid': 87, 'travellerseattle hotelid 277882': 753, 'hotelid 277882 reviewid': 321, '277882 reviewid 27788254': 14, 'reviewid 27788254 ratinglocation': 556, '27788254 ratinglocation ratingcleanliness': 17, 'ratinglocation ratingcleanliness ratingservice': 522, 'ratingcleanliness ratingservice ratingbusiness': 519, 'ratingservice ratingbusiness ratingvalue': 532, 'ratingbusiness ratingvalue segmentlabels': 512, 'ratingvalue segmentlabels other': 535, 'segmentlabels other notrelated': 592, 'other notrelated other': 480, 'notrelated other service': 462, 'other service rooms': 485, 'service rooms cleanliness': 600, 'rooms cleanliness rooms': 570, 'cleanliness rooms food': 151, 'rooms food food': 572, 'food food location': 225, 'food location ip': 229, 'location ip other': 417, 'ip other other': 352, 'other other other': 483, 'other other date': 482, 'other date may': 477, 'date may 15': 182, 'may 15 2007': 430, '15 2007 ratingcheckin': 2, '2007 ratingcheckin segments': 5, 'ratingcheckin segments loved': 515, 'segments loved the': 595, 'loved the hampton': 424, 'the hampton inn': 684, 'hampton inn seaport': 286, 'inn seaport just': 349, 'seaport just returned': 586, 'just returned from': 391, 'returned from night': 553, 'from night stay': 248, 'night stay this': 457, 'stay this is': 630, 'this is fabulous': 707, 'is fabulous hotel': 357, 'fabulous hotel the': 215, 'hotel the front': 318, 'the front desk': 680, 'front desk staff': 254, 'desk staff the': 191, 'staff the doormen': 620, 'the doormen the': 678, 'doormen the breakfast': 194, 'the breakfast staff': 668, 'breakfast staff everyone': 123, 'staff everyone is': 618, 'everyone is incredibly': 209, 'is incredibly friendly': 360, 'incredibly friendly and': 346, 'friendly and helpful': 245, 'and helpful and': 45, 'helpful and warm': 292, 'and warm and': 55, 'warm and welcoming': 776, 'and welcoming the': 57, 'welcoming the rooms': 810, 'the rooms was': 694, 'rooms was fabulous': 577, 'was fabulous too': 781, 'fabulous too really': 219, 'too really comfy': 743, 'really comfy beds': 541, 'comfy beds great': 162, 'beds great decorating': 111, 'great decorating and': 272, 'decorating and super': 188, 'and super super': 51, 'super super clean': 649, 'super clean the': 647, 'clean the breakfasts': 148, 'the breakfasts are': 670, 'breakfasts are great': 126, 'are great fresh': 66, 'great fresh fruit': 276, 'fresh fruit bagels': 242, 'fruit bagels muffins': 257, 'bagels muffins hot': 90, 'muffins hot eggs': 442, 'hot eggs and': 311, 'eggs and sausage': 197, 'and sausage etc': 47, 'sausage etc good': 580, 'etc good coffee': 203, 'good coffee just': 263, 'coffee just around': 156, 'just around the': 389, 'around the corner': 73, 'the corner from': 676, 'corner from the': 174, 'from the hotel': 251, 'the hotel is': 686, 'hotel is fabulous': 316, 'is fabulous little': 358, 'fabulous little italian': 217, 'little italian restaurant': 405, 'italian restaurant bon': 374, 'restaurant bon amici': 550, 'bon amici highly': 120, 'amici highly recommend': 37, 'highly recommend it': 299, 'recommend it will': 544, 'it will stay': 371, 'will stay at': 823, 'stay at this': 626, 'at this hotel': 80, 'this hotel everytime': 705, 'hotel everytime come': 314, 'everytime come to': 212, 'come to new': 159, 'to new york': 736, 'new york can': 451, 'york can say': 832, 'can say enough': 132, 'say enough great': 583, 'enough great things': 200, 'great things about': 278, 'things about itannotatorid': 702, 'about itannotatorid ratingoverall': 29, 'itannotatorid ratingoverall ratingroom': 377, 'ratingroom author culturevulture2': 528, 'author culturevulture2 hotelid': 85, 'culturevulture2 hotelid 590144': 177, 'hotelid 590144 reviewid': 323, '590144 reviewid 59014448': 20, 'reviewid 59014448 ratinglocation': 558, '59014448 ratinglocation ratingcleanliness': 23, 'other notrelated location': 479, 'notrelated location rooms': 460, 'location rooms rooms': 419, 'rooms rooms rooms': 575, 'rooms rooms checkin': 574, 'rooms checkin cleanliness': 568, 'checkin cleanliness value': 143, 'cleanliness value date': 153, 'value date dec': 765, 'date dec 22': 180, 'dec 22 2007': 185, '22 2007 ratingcheckin': 11, 'ratingcheckin segments we': 516, 'segments we will': 597, 'we will stay': 807, 'will stay here': 824, 'stay here again': 628, 'here again this': 295, 'again this is': 32, 'this is the': 708, 'is the second': 364, 'the second time': 696, 'second time that': 589, 'time that we': 724, 'that we are': 660, 'we are staying': 793, 'are staying at': 68, 'staying at lanson': 635, 'at lanson place': 78, 'lanson place hong': 400, 'place hong kong': 500, 'hong kong we': 308, 'kong we loved': 397, 'we loved its': 799, 'loved its location': 422, 'its location in': 380, 'location in causeway': 415, 'in causeway baya': 337, 'causeway baya stone': 137, 'baya stone throw': 99, 'stone throw from': 641, 'throw from the': 716, 'from the causeway': 250, 'the causeway bay': 672, 'causeway bay mtr': 135, 'bay mtr great': 96, 'mtr great food': 439, 'great food outlets': 274, 'food outlets at': 231, 'outlets at jardine': 494, 'at jardine bazaar': 76, 'jardine bazaar good': 386, 'bazaar good shopping': 102, 'good shopping at': 269, 'shopping at times': 603, 'at times square': 82, 'times square the': 729, 'square the room': 615, 'the room is': 692, 'room is big': 561, 'is big for': 355, 'big for hk': 114, 'for hk standards': 234, 'hk standards and': 302, 'standards and there': 623, 'and there is': 53, 'there is small': 699, 'is small kitchenette': 362, 'small kitchenette if': 609, 'kitchenette if you': 394, 'if you need': 332, 'you need to': 835, 'need to heat': 445, 'to heat up': 734, 'heat up food': 289, 'up food in': 756, 'food in the': 227, 'in the microwave': 343, 'the microwave or': 690, 'microwave or cook': 436, 'or cook meal': 474, 'cook meal this': 171, 'meal this time': 433, 'this time our': 710, 'time our room': 722, 'our room was': 489, 'room was in': 565, 'was in an': 783, 'in an lshaped': 335, 'an lshaped configuration': 40, 'lshaped configuration the': 427, 'configuration the bedroom': 168, 'the bedroom was': 666, 'bedroom was little': 108, 'was little tight': 786, 'little tight but': 409, 'tight but the': 719, 'but the living': 129, 'the living and': 688, 'living and study': 412, 'and study space': 49, 'study space was': 644, 'space was slightly': 612, 'was slightly bigger': 790, 'slightly bigger the': 606, 'bigger the furnishings': 117, 'the furnishings and': 682, 'furnishings and fittings': 260, 'and fittings are': 43, 'fittings are still': 222, 'are still in': 70, 'still in good': 638, 'in good condition': 341, 'good condition when': 265, 'condition when we': 165, 'when we checked': 818, 'we checked in': 795, 'checked in for': 140, 'in for our': 339, 'for our stay': 239, 'our stay we': 491, 'stay we were': 632, 'we were little': 805, 'were little annoyed': 813, 'little annoyed that': 403, 'annoyed that we': 63, 'that we had': 661, 'we had to': 797, 'had to wait': 283, 'to wait for': 740, 'wait for our': 770, 'for our room': 238, 'our room to': 488, 'room to be': 563, 'to be ready': 732, 'be ready even': 105, 'ready even though': 538, 'even though it': 206, 'though it was': 713, 'it was 212': 369, 'was 212 hours': 779, '212 hours past': 8, 'hours past the': 326, 'past the checkin': 497, 'the checkin time': 674, 'checkin time was': 145, 'time was little': 726, 'was little taken': 785, 'little taken aback': 407, 'taken aback too': 652, 'aback too when': 26, 'too when one': 745, 'when one of': 816, 'one of the': 471, 'of the bath': 465, 'the bath towels': 664, 'bath towels that': 93, 'towels that wanted': 748, 'that wanted to': 658, 'wanted to use': 773, 'to use had': 738, 'use had holes': 762, 'had holes on': 281, 'holes on it': 305, 'on it neverthelessthe': 468, 'it neverthelessthe housekeeping': 367, 'neverthelessthe housekeeping team': 448, 'housekeeping team was': 329, 'team was prompt': 655, 'was prompt with': 788, 'prompt with providing': 503, 'with providing us': 829, 'providing us with': 506, 'us with good': 759, 'with good quality': 827, 'good quality towels': 267, 'quality towels when': 509, 'towels when we': 750, 'when we requested': 820, 'we requested for': 803, 'requested for itwe': 547, 'for itwe will': 236, 'itwe will stay': 383, 'here again when': 296, 'again when we': 34, 'when we next': 819, 'we next visit': 801, 'next visit hk': 454}\n",
      "836\n",
      "  (0, 454)\t1\n",
      "  (0, 801)\t1\n",
      "  (0, 819)\t1\n",
      "  (0, 34)\t1\n",
      "  (0, 296)\t1\n",
      "  (0, 383)\t1\n",
      "  (0, 236)\t1\n",
      "  (0, 547)\t1\n",
      "  (0, 803)\t1\n",
      "  (0, 820)\t1\n",
      "  (0, 750)\t1\n",
      "  (0, 509)\t1\n",
      "  (0, 267)\t1\n",
      "  (0, 827)\t1\n",
      "  (0, 759)\t1\n",
      "  (0, 506)\t1\n",
      "  (0, 829)\t1\n",
      "  (0, 503)\t1\n",
      "  (0, 788)\t1\n",
      "  (0, 655)\t1\n",
      "  (0, 329)\t1\n",
      "  (0, 448)\t1\n",
      "  (0, 367)\t1\n",
      "  (0, 468)\t1\n",
      "  (0, 305)\t1\n",
      "  :\t:\n",
      "  (0, 428)\t1\n",
      "  (0, 178)\t2\n",
      "  (0, 350)\t1\n",
      "  (0, 413)\t3\n",
      "  (0, 223)\t4\n",
      "  (0, 149)\t2\n",
      "  (0, 566)\t7\n",
      "  (0, 598)\t1\n",
      "  (0, 458)\t2\n",
      "  (0, 475)\t6\n",
      "  (0, 590)\t2\n",
      "  (0, 533)\t2\n",
      "  (0, 510)\t2\n",
      "  (0, 530)\t2\n",
      "  (0, 517)\t2\n",
      "  (0, 520)\t2\n",
      "  (0, 15)\t1\n",
      "  (0, 554)\t2\n",
      "  (0, 12)\t1\n",
      "  (0, 319)\t2\n",
      "  (0, 751)\t1\n",
      "  (0, 83)\t2\n",
      "  (0, 526)\t2\n",
      "  (0, 523)\t2\n",
      "  (0, 58)\t1\n"
     ]
    }
   ],
   "source": [
    "cv= CountVectorizer(ngram_range=(1, 3)) #means unigram and bi gram , if 1,4 means - unigram, bigram, trigram and tetra gram\n",
    "cvt_ngram_counts=cv.fit_transform(sent_tokens)\n",
    "print (cv.vocabulary_)\n",
    "print (len(cv.vocabulary_))\n",
    "print (cvt_ngram_counts)"
   ]
  },
  {
   "cell_type": "code",
   "execution_count": 49,
   "metadata": {},
   "outputs": [
    {
     "name": "stdout",
     "output_type": "stream",
     "text": [
      "510\n",
      "(1, 510)\n"
     ]
    }
   ],
   "source": [
    "print (len(cv.vocabulary_))\n",
    "print ((cvt_ngram_counts.get_shape()))"
   ]
  },
  {
   "cell_type": "code",
   "execution_count": 53,
   "metadata": {},
   "outputs": [
    {
     "name": "stdout",
     "output_type": "stream",
     "text": [
      "  (0, 36)\t0.025424641809046068\n",
      "  (0, 324)\t0.050849283618092135\n",
      "  (0, 326)\t0.050849283618092135\n",
      "  (0, 51)\t0.050849283618092135\n",
      "  (0, 460)\t0.025424641809046068\n",
      "  (0, 199)\t0.050849283618092135\n",
      "  (0, 8)\t0.025424641809046068\n",
      "  (0, 344)\t0.050849283618092135\n",
      "  (0, 10)\t0.025424641809046068\n",
      "  (0, 322)\t0.050849283618092135\n",
      "  (0, 320)\t0.050849283618092135\n",
      "  (0, 328)\t0.050849283618092135\n",
      "  (0, 316)\t0.050849283618092135\n",
      "  (0, 330)\t0.050849283618092135\n",
      "  (0, 365)\t0.050849283618092135\n",
      "  (0, 296)\t0.1525478508542764\n",
      "  (0, 285)\t0.050849283618092135\n",
      "  (0, 370)\t0.025424641809046068\n",
      "  (0, 351)\t0.1779724926633225\n",
      "  (0, 94)\t0.050849283618092135\n",
      "  (0, 142)\t0.10169856723618427\n",
      "  (0, 256)\t0.0762739254271382\n",
      "  (0, 218)\t0.025424641809046068\n",
      "  (0, 113)\t0.050849283618092135\n",
      "  (0, 265)\t0.025424641809046068\n",
      "  :\t:\n",
      "  (0, 467)\t0.025424641809046068\n",
      "  (0, 175)\t0.025424641809046068\n",
      "  (0, 190)\t0.025424641809046068\n",
      "  (0, 291)\t0.025424641809046068\n",
      "  (0, 227)\t0.025424641809046068\n",
      "  (0, 278)\t0.025424641809046068\n",
      "  (0, 205)\t0.025424641809046068\n",
      "  (0, 406)\t0.025424641809046068\n",
      "  (0, 483)\t0.025424641809046068\n",
      "  (0, 311)\t0.025424641809046068\n",
      "  (0, 505)\t0.025424641809046068\n",
      "  (0, 313)\t0.025424641809046068\n",
      "  (0, 465)\t0.025424641809046068\n",
      "  (0, 504)\t0.025424641809046068\n",
      "  (0, 167)\t0.025424641809046068\n",
      "  (0, 315)\t0.025424641809046068\n",
      "  (0, 459)\t0.025424641809046068\n",
      "  (0, 491)\t0.025424641809046068\n",
      "  (0, 339)\t0.025424641809046068\n",
      "  (0, 149)\t0.025424641809046068\n",
      "  (0, 237)\t0.025424641809046068\n",
      "  (0, 22)\t0.025424641809046068\n",
      "  (0, 490)\t0.025424641809046068\n",
      "  (0, 282)\t0.025424641809046068\n",
      "  (0, 471)\t0.025424641809046068\n"
     ]
    }
   ],
   "source": [
    "tf_idf=TfidfVectorizer(ngram_range=(1,2))\n",
    "final_tf_idf=tf_idf.fit_transform(sent_tokens)\n",
    "\n",
    "print (final_tf_idf)"
   ]
  },
  {
   "cell_type": "code",
   "execution_count": null,
   "metadata": {},
   "outputs": [],
   "source": []
  }
 ],
 "metadata": {
  "kernelspec": {
   "display_name": "Python 3",
   "language": "python",
   "name": "python3"
  },
  "language_info": {
   "codemirror_mode": {
    "name": "ipython",
    "version": 3
   },
   "file_extension": ".py",
   "mimetype": "text/x-python",
   "name": "python",
   "nbconvert_exporter": "python",
   "pygments_lexer": "ipython3",
   "version": "3.6.5"
  }
 },
 "nbformat": 4,
 "nbformat_minor": 2
}
