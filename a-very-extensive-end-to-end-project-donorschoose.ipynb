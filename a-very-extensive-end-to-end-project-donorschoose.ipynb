{
 "cells": [
  {
   "cell_type": "markdown",
   "metadata": {
    "_cell_guid": "a894aee3-3889-4060-bc0f-efe78e09b41c",
    "_uuid": "7af11d0f985a3e133a0b6400b5b4bbb62d27420a"
   },
   "source": [
    "- <a href='#intro'>1. Introduction</a>  \n",
    "- <a href='#rtd'>2. Retrieving the Data</a>\n",
    "     - <a href='#ll'>2.1 Load libraries</a>\n",
    "     - <a href='#rrtd'>2.2 Read the Data</a>\n",
    "- <a href='#god'>3. Glimpse of Data</a>\n",
    "     - <a href='#oot'>3.1 Overview of tables</a>\n",
    "     - <a href='#sootd'>3.2 Statistical overview of the Data</a>\n",
    "- <a href='#dp'>4. Data preparation</a>\n",
    "     - <a href='#cfmd'> 4.1 Check for missing data</a>\n",
    "- <a href='#de'>5. Data Exploration</a>\n",
    "     - <a href='#ppan'>5.1 Project proposal is Approved or not ?</a>\n",
    "     - <a href='#d'>5.2 Distribution</a>\n",
    "         - <a href='#doss'>5.2.a Distribution of School states</a>\n",
    "         - <a href='#dpgc'>5.2.b Distribution of project_grade_category (school grade levels (PreK-2, 3-5, 6-8, and 9-12))</a>\n",
    "         - <a href='#dcotp'>5.2.c Distribution of category of the project</a>\n",
    "         - <a href='#dnppast'>5.2.d Distribution of number of previously posted applications by the submitting teacher</a>\n",
    "         - <a href='#dsotp'>5.2.e Distribution of subcategory of the project</a>\n",
    "         - <a href='#dopt'>5.2.f Distribution of Project titles</a>\n",
    "         - <a href='#doporr'>5.2.g Distribution of price of resource requested</a>\n",
    "         - <a href='#doqorr'>5.2.h Distribution of quantity of resource requested</a>\n",
    "         - <a href='#tpd'>5.2.i Teacher prefix Distribution</a>\n",
    "     - <a href='#trnfp'>5.3 Top resources needed for the project</a> \n",
    "     - <a href='#wcrr'>5.4 Word Cloud of resources requested</a>\n",
    "     - <a href='#vpppan'>5.5 Various popularities in terms of project acceptance rate and project rejection rate</a>\n",
    "         - <a href='#psstpan'>5.5.a Popular School states in terms of project acceptance rate and project rejection rate</a>\n",
    "         - <a href='#ptptppa'>5.5.b Popular Teacher Prefix in terms of project acceptance rate and project rejection rate</a>\n",
    "         - <a href='#psgltpp'>5.5.c Popular school grade levels in terms of project acceptance rate and project rejection rate</a>\n",
    "         - <a href='#pcoptppa'>5.5.d Popular category of the project in terms of project acceptance rate and project rejection rate</a>\n",
    "         - <a href='#psotpppan'>5.5.e Popular subcategory of the project in terms of project acceptance rate and project rejection rate</a>\n",
    "         - <a href='#ppttpan'>5.5.f Popular project titles in terms of project acceptance rate and project rejection rate</a>\n",
    "     - <a href='#ppuss'>5.6 Project Proposals by US States</a>\n",
    "     - <a href='#ppmaruss'>5.7 Project Proposals Mean Acceptance Rate by US States</a>\n",
    "     - <a href='#cmhmtd'>5.8 Correlation Matrix and HeatMap of training data</a>\n",
    "         - <a href='#tppiaic'>5.8.a Teacher_prefix and project_is_approved Intervals Correlation</a>\n",
    "         - <a href='#tnppppaic'>5.8.b Teacher_number_of_previously_posted_projects and project_is_approved Intervals Correlation</a>\n",
    "         - <a href='#cmaht'>5.8.c Correlation Matrix and Heatmap of training data</a>\n",
    "     - <a href='#psta'>5.9 Project Submission Time Analysis</a>\n",
    "         - <a href='#psma'>5.9.a Project Submission Month Analysis</a>\n",
    "         - <a href='#pswa'>5.9.b Project Submission Weekday Analysis</a>\n",
    "         - <a href='#psda'>5.9.c Project Submission Date Analysis</a>\n",
    "         - <a href='#psha'>5.9.d Project Submission Hour Analysis</a>\n",
    "     - <a href='#tkips1'>5.10 Top Keywords in project_essay_1</a>\n",
    "     - <a href='#tkipe2'>5.11 Top Keywords in project_essay_2</a>\n",
    "     - <a href='#tkinprs'>5.12 Top Keywords in project_resource_summary</a>\n",
    "     - <a href='#qvp'>5.13 Quantity V.S. Price</a>\n",
    "     - <a href='#gapc'>5.14 Gender Analysis</a>\n",
    "     - <a href='#mwdppes'>5.15 Month wise distribution of number of projects proposal submitted in each state</a>\n",
    "     - <a href='#prfrd'>5.16 Price requested for resources distribution</a> [I commented the code becuase of excessive rendering time but i wrote the results]\n",
    "         - <a href='#prfrbds'>5.16.a Price requested for resources distribution by different states</a>\n",
    "         - <a href='#prfrbtp'>5.16.b Price requested for resources distribution by Teacher prefixes</a>\n",
    "         - <a href='#prfrddga'>5.16.c Price requested for resources distribution by different Genders</a>\n",
    "         - <a href='#prfrddpgc'>5.16.d Price requested for resources distribution by different project_grade_category</a>\n",
    "     - <a href='#ca'>5.17 CA(California)</a>\n",
    "         - <a href='#potpic'>5.17.a Popularities of Teacher prefixes in California</a>\n",
    "         - <a href='#posglic'>5.17.b Popularities of school grade levels in California</a>\n",
    "         - <a href='#tptic'>5.17.c Top project titles in California</a>\n",
    "         - <a href='#topstic'>5.17.d Trend of project submission time in California</a>\n",
    "     - <a href='#TX'>5.18 TX(Texas)</a>\n",
    "         - <a href='#potpit'>5.18.a Popularities of Teacher prefixes in Texas</a>\n",
    "         - <a href='#posglit'>5.18.b Popularities of school grade levels in Texas</a>\n",
    "         - <a href='#tptit'>5.18.c Top project titles in Texas</a>\n",
    "         - <a href='#topstit'>5.18.d Trend of project submission time in Texas</a>\n",
    "- <a href='#fea'>6. Feature Engineering</a>\n",
    "    - <a href='#fcfpsd'>6.1 Features Created from project_submitted_datetime</a>\n",
    "    - <a href='#fcfpppr'>6.2 Features created from project_essay_1, project_essay_2, project_title, project_resource_summary</a>\n",
    "    - <a href='#fracttr'>6.3 Features created after combining the training data, test data with resource file</a>\n",
    "    - <a href='#gfc'>6.4 Gender feature creation</a>\n",
    "    - <a href='#ccftnf'>6.5 Converting Categorical featues to numericals features</a>\n",
    "    - <a href='#ruf'>6.6 Removing Unwanted features</a>\n",
    "- <a href='#bmlm'>7. Building Machine Learning Models</a>\n",
    "    - <a href='#lgbm'>7.1 Light GBM</a>\n",
    "    - <a href='#xgbst'>7.2 XGBoost</a>\n",
    "- <a href='#feva'>8. Further Evaluation</a>\n",
    "    - <a href='#rocaucc'>8.1 ROC AUC Curve</a>\n",
    "    - <a href='#prcur'>8.2 Precision Recall curve</a>\n",
    "    - <a href='#pmdtlgb'>8.3 Ploting Metrics during training of Light GBM</a>\n",
    "    - <a href='#fiblgm'>8.4 Feature importances by LightGBM</a>\n",
    "- <a href='#bsc'>9. Brief Summary/Conclusion :</a>"
   ]
  },
  {
   "cell_type": "markdown",
   "metadata": {
    "_cell_guid": "18eb1fbb-3963-44ff-82d6-4d2e2eb89ab6",
    "_uuid": "e77c4677d668b49b38b1733e073595b1970a104b"
   },
   "source": [
    "## <a id='intro'>1. Intoduction</a>"
   ]
  },
  {
   "cell_type": "markdown",
   "metadata": {
    "_cell_guid": "d0077364-2155-4416-8b15-b59b8f8569a0",
    "_uuid": "1cd34a387fa37086d0e08147ca1db1f76c407d08"
   },
   "source": [
    "**About DonorsChoose:**\n",
    "\n",
    "DonorsChoose.org is a United States–based 501(c)(3) nonprofit organization that allows individuals to donate directly to public school classroom projects. Founded in 2000 by former public school teacher Charles Best, DonorsChoose.org was among the first civic crowdfunding platforms of its kind. The organization has been given Charity Navigator’s highest rating every year since 2005. In January 2018, they announced that 1 million projects had been funded. In 77% of public schools in the United States, at least one project has been requested on DonorsChoose.org. Schools from wealthy areas are more likely to make technology requests, while schools from less affluent areas are more likely to request basic supplies. It's been noted that repeat donors on DonorsChoose typically donate to projects they have no prior relationship with, and most often fund projects serving financially challenged students.\n",
    "\n",
    "\n",
    "**Objective of this Notebook:**\n",
    "\n",
    "In this Notebook i will do Exploratory Analysis.\n",
    "\n",
    "**Objective of the competition:**\n",
    "\n",
    "DonorsChoose.org receives hundreds of thousands of project proposals each year for classroom projects in need of funding. Right now, a large number of volunteers is needed to manually screen each submission before it's approved to be posted on the DonorsChoose.org website.The goal of the competition is to predict whether or not a DonorsChoose.org project proposal submitted by a teacher will be approved, using the text of project descriptions as well as additional metadata about the project, teacher, and school. DonorsChoose.org can then use this information to identify projects most likely to need further review before approval.\n"
   ]
  },
  {
   "cell_type": "markdown",
   "metadata": {
    "_cell_guid": "beeacf6e-37bf-49d5-a0bd-bd2b69b34797",
    "_uuid": "658d7312dfc55bac97e111d9250dbe10062fbe56"
   },
   "source": [
    "# <a id='rtd'>2. Retrieving the Data</a>"
   ]
  },
  {
   "cell_type": "markdown",
   "metadata": {
    "_cell_guid": "6fa275d9-36ef-45dc-853c-2538047af434",
    "_uuid": "7ef0b9e924fae9615aa5fdb049ea2352fe1d5a14"
   },
   "source": [
    "## <a id='ll'>2.1 Load libraries</a>"
   ]
  },
  {
   "cell_type": "code",
   "execution_count": null,
   "metadata": {
    "_cell_guid": "79c7e3d0-c299-4dcb-8224-4455121ee9b0",
    "_kg_hide-input": true,
    "_uuid": "d629ff2d2480ee46fbb7e2d37f6b5fab8052498a",
    "collapsed": true
   },
   "outputs": [],
   "source": [
    "import pandas as pd # package for high-performance, easy-to-use data structures and data analysis\n",
    "import numpy as np # fundamental package for scientific computing with Python\n",
    "import matplotlib\n",
    "import matplotlib.pyplot as plt # for plotting\n",
    "import seaborn as sns # for making plots with seaborn\n",
    "color = sns.color_palette()\n",
    "import plotly.offline as py\n",
    "py.init_notebook_mode(connected=True)\n",
    "from plotly.offline import init_notebook_mode, iplot\n",
    "init_notebook_mode(connected=True)\n",
    "import plotly.graph_objs as go\n",
    "import plotly.offline as offline\n",
    "offline.init_notebook_mode()\n",
    "import plotly.tools as tls\n",
    "import squarify\n",
    "from mpl_toolkits.basemap import Basemap\n",
    "from numpy import array\n",
    "from matplotlib import cm\n",
    "\n",
    "# Supress unnecessary warnings so that presentation looks clean\n",
    "import warnings\n",
    "warnings.filterwarnings(\"ignore\")\n",
    "\n",
    "# Print all rows and columns\n",
    "pd.set_option('display.max_columns', None)\n",
    "pd.set_option('display.max_rows', None)\n",
    "\n",
    "from nltk.corpus import stopwords\n",
    "from textblob import TextBlob\n",
    "import datetime as dt\n",
    "import warnings\n",
    "import string\n",
    "import time\n",
    "# stop_words = []\n",
    "stop_words = list(set(stopwords.words('english')))\n",
    "warnings.filterwarnings('ignore')\n",
    "punctuation = string.punctuation"
   ]
  },
  {
   "cell_type": "code",
   "execution_count": null,
   "metadata": {
    "_cell_guid": "aadce46d-caa1-4a41-837c-4ed2748f7d2d",
    "_kg_hide-input": true,
    "_uuid": "9ec4e017a64a9a22718d8371b8eb8cc584e9f54b",
    "collapsed": true
   },
   "outputs": [],
   "source": [
    "from subprocess import check_output\n",
    "print(check_output([\"ls\", \"../input\"]).decode(\"utf8\"))"
   ]
  },
  {
   "cell_type": "markdown",
   "metadata": {
    "_cell_guid": "1b6c9640-0dd3-46f8-a80b-e63fbac0dcb9",
    "_uuid": "22b497e4397873f0d2e628b4ef98cb3a5efbd707"
   },
   "source": [
    "## <a id='rrtd'>2.2 Read tha Data</a>"
   ]
  },
  {
   "cell_type": "code",
   "execution_count": null,
   "metadata": {
    "_cell_guid": "98e325a8-61df-4eea-a207-54254976a256",
    "_kg_hide-input": true,
    "_uuid": "a4332ce210c5c626704d3375f6f274be0b614ad3",
    "collapsed": true
   },
   "outputs": [],
   "source": [
    "train_data = pd.read_csv(\"../input/donorschoose-application-screening/train.csv\")\n",
    "test_data = pd.read_csv(\"../input/donorschoose-application-screening/test.csv\")\n",
    "resources_data = pd.read_csv(\"../input/donorschoose-application-screening/resources.csv\")\n",
    "\n",
    "## Merging with train and test data ##\n",
    "train_resource = pd.merge(train_data, resources_data, on=\"id\", how='left')\n",
    "test_resource = pd.merge(test_data, resources_data, on=\"id\", how='left')"
   ]
  },
  {
   "cell_type": "code",
   "execution_count": null,
   "metadata": {
    "_cell_guid": "fdb5bf60-397a-43fa-a967-9d94b675bd32",
    "_kg_hide-input": true,
    "_uuid": "d5fd28c41dd05f0ead37726bb58711a2f20556d1",
    "collapsed": true
   },
   "outputs": [],
   "source": [
    "print(\"Size of training data : \",train_data.shape)\n",
    "print(\"Size of test data : \",test_data.shape)\n",
    "print(\"Size of resource data : \",resources_data.shape)\n",
    "print(\"Size of train_resource data : \",train_resource.shape)\n",
    "print(\"Size of test_resource data : \",test_resource.shape)"
   ]
  },
  {
   "cell_type": "markdown",
   "metadata": {
    "_cell_guid": "7148e58a-617c-4bd1-9cc9-6a0cb1bfa1db",
    "_uuid": "3096cdd37d5d3503a0d894200d68c420ab33d1fd"
   },
   "source": [
    "# <a id='god'>3. Glimpse of Data</a>"
   ]
  },
  {
   "cell_type": "markdown",
   "metadata": {
    "_cell_guid": "a8df79c8-dfdc-4b3e-a230-a7b3ced65a30",
    "_uuid": "ecd5f97ce1c45e36d3ce8f6841b6ec48816f834a"
   },
   "source": [
    "## <a id='oot'>3.1 Overview of tables</a>"
   ]
  },
  {
   "cell_type": "markdown",
   "metadata": {
    "_cell_guid": "abe7215a-7e50-41bb-a1f9-b18ca4157b17",
    "_uuid": "74208654445ce09914dde33643feb6d1a9311ab4"
   },
   "source": [
    "**Training Data**"
   ]
  },
  {
   "cell_type": "code",
   "execution_count": null,
   "metadata": {
    "_cell_guid": "6030730d-f894-43ac-a6c2-c939f31999dc",
    "_kg_hide-input": true,
    "_uuid": "a101de464fdc2715e35cfed2c2f93b4477f8d86a",
    "collapsed": true
   },
   "outputs": [],
   "source": [
    "train_data.head()"
   ]
  },
  {
   "cell_type": "markdown",
   "metadata": {
    "_cell_guid": "c2be024b-565d-4f87-935d-5e959b1c06cd",
    "_uuid": "b5be038d3a4b8b49fb4a27d13f58a2857ea7ab21"
   },
   "source": [
    "**Test Data**"
   ]
  },
  {
   "cell_type": "code",
   "execution_count": null,
   "metadata": {
    "_cell_guid": "f0586294-1af4-43c1-9a85-6bc666d26003",
    "_kg_hide-input": true,
    "_uuid": "0f4d8f882f71a4650f09b7080f2dbac0b098075f",
    "collapsed": true
   },
   "outputs": [],
   "source": [
    "test_data.head()"
   ]
  },
  {
   "cell_type": "markdown",
   "metadata": {
    "_cell_guid": "48079503-e381-4147-979e-377799549370",
    "_uuid": "99531cb30057cfa7791fec5759b27d6be46f3d1c"
   },
   "source": [
    "**Resource Data**"
   ]
  },
  {
   "cell_type": "code",
   "execution_count": null,
   "metadata": {
    "_cell_guid": "8178c745-2668-4c56-b4c4-97491fc3baa4",
    "_kg_hide-input": true,
    "_uuid": "de18d04109913122e0b4b83ff8ba8d72647ddaf0",
    "collapsed": true
   },
   "outputs": [],
   "source": [
    "resources_data.head()"
   ]
  },
  {
   "cell_type": "markdown",
   "metadata": {
    "_cell_guid": "3a4cf018-7ad3-410b-801f-261744b7c6e2",
    "_uuid": "d807298da8003e336ae202fa8b65a577b06881dd"
   },
   "source": [
    "**train_resource**"
   ]
  },
  {
   "cell_type": "code",
   "execution_count": null,
   "metadata": {
    "_cell_guid": "97dbbf9e-199c-4db7-9a05-d82e65fbea6d",
    "_kg_hide-input": true,
    "_uuid": "35fc5dc7b199c2c11f3f4c47ceff250f67cbaaeb",
    "collapsed": true
   },
   "outputs": [],
   "source": [
    "train_resource.head()"
   ]
  },
  {
   "cell_type": "markdown",
   "metadata": {
    "_cell_guid": "6a98c534-5ba4-43aa-b76d-d8a4ef231fa6",
    "_uuid": "400d44c73610e05a0fac7d1b6411092438796938"
   },
   "source": [
    "**test_resource**"
   ]
  },
  {
   "cell_type": "code",
   "execution_count": null,
   "metadata": {
    "_cell_guid": "f05e8d75-3ed4-4ad6-95da-97bb02473831",
    "_kg_hide-input": true,
    "_uuid": "382cb2fe79d1b80583bd7aac954fa0f2ca483cbf",
    "collapsed": true
   },
   "outputs": [],
   "source": [
    "test_resource.head()"
   ]
  },
  {
   "cell_type": "markdown",
   "metadata": {
    "_cell_guid": "7327013c-18df-44bc-8873-57efd6968ed9",
    "_uuid": "715e952c6b7c65a0360a48779b71ebd9983b176d"
   },
   "source": [
    "## <a id='sootd'>3.2 Statistical Overview of the Data</a>"
   ]
  },
  {
   "cell_type": "markdown",
   "metadata": {
    "_cell_guid": "e381f359-7d45-4774-8cb2-b2c8e45f6c14",
    "_uuid": "2e6b59e4da5e3fdd6880a9e7e1ace1e604e1ffdc"
   },
   "source": [
    "**Training Data some little info**"
   ]
  },
  {
   "cell_type": "code",
   "execution_count": null,
   "metadata": {
    "_cell_guid": "4d88f78e-8d29-4587-9844-6c1ae1443083",
    "_kg_hide-input": true,
    "_uuid": "af9760ac6bd48eee461aec082aa67172ef994ae9",
    "collapsed": true
   },
   "outputs": [],
   "source": [
    "train_data.info()"
   ]
  },
  {
   "cell_type": "markdown",
   "metadata": {
    "_cell_guid": "630b94ef-774d-4ca2-83d0-31b63699f4ce",
    "_uuid": "6ce8e00558cb540b6010b308a4670a1eb914c0a2"
   },
   "source": [
    "**Little description of training data for numerical features**\n"
   ]
  },
  {
   "cell_type": "code",
   "execution_count": null,
   "metadata": {
    "_cell_guid": "91df8d93-280f-49a6-b314-b2ae0028eb2d",
    "_kg_hide-input": true,
    "_uuid": "a5003ad0180638daac56301aa1d1c55e60d562f1",
    "collapsed": true
   },
   "outputs": [],
   "source": [
    "train_data.describe()"
   ]
  },
  {
   "cell_type": "markdown",
   "metadata": {
    "_cell_guid": "2cac8dd7-0423-417d-a066-092612b50c10",
    "_uuid": "2f12356e0e43c0cc7dcac8b8c77e4f8be315cc80"
   },
   "source": [
    "**Little description of training data for categorical features**\n"
   ]
  },
  {
   "cell_type": "code",
   "execution_count": null,
   "metadata": {
    "_cell_guid": "7249c385-1893-4230-be4e-869b86d27b95",
    "_kg_hide-input": true,
    "_uuid": "b4715c764f4558ba6686629a683521b8a11d263c",
    "collapsed": true
   },
   "outputs": [],
   "source": [
    "train_data.describe(include=[\"O\"])"
   ]
  },
  {
   "cell_type": "markdown",
   "metadata": {
    "_cell_guid": "fdbb688b-a016-438f-b7e0-f17a090e53f2",
    "_uuid": "341bcc9f1e025ab141bcdb33f5505ef1f68bc1e7"
   },
   "source": [
    "**Little description of train_resource data for numerical features**\n"
   ]
  },
  {
   "cell_type": "code",
   "execution_count": null,
   "metadata": {
    "_cell_guid": "bdb578bf-5371-49ab-b694-6f5785cb1dde",
    "_kg_hide-input": true,
    "_uuid": "7eb125543642000957e96ce74c74147434352bdf",
    "collapsed": true
   },
   "outputs": [],
   "source": [
    "train_resource.describe()"
   ]
  },
  {
   "cell_type": "markdown",
   "metadata": {
    "_cell_guid": "60fa05e8-eb47-4bfe-b45e-eba27777af4a",
    "_uuid": "8357291e3b6daa597fa87801699634c540defce5"
   },
   "source": [
    "**Little description of train_resource data for categorical features**\n"
   ]
  },
  {
   "cell_type": "code",
   "execution_count": null,
   "metadata": {
    "_cell_guid": "c0840082-dab2-4711-885f-7dca22a44f5e",
    "_kg_hide-input": true,
    "_uuid": "4a790242b831b1d27cc5aab03df5452b84ed7a52",
    "collapsed": true
   },
   "outputs": [],
   "source": [
    "train_resource.describe(include=[\"O\"])"
   ]
  },
  {
   "cell_type": "markdown",
   "metadata": {
    "_cell_guid": "30f362ea-04d5-4f6a-a26d-f81db4d0bf07",
    "_uuid": "268629ded1b1375d0b5187a92e7f91a35d032616"
   },
   "source": [
    "# <a id='dp'>4. Data preparation</a>"
   ]
  },
  {
   "cell_type": "markdown",
   "metadata": {
    "_cell_guid": "0c535f0a-0c19-424c-9bf7-b6b8d019fe77",
    "_uuid": "a593f2241a3fbcbc7d01acc604bd8c99d7af892a"
   },
   "source": [
    "## <a id='cfmd'>4.1 Checking for missing data</a>"
   ]
  },
  {
   "cell_type": "markdown",
   "metadata": {
    "_cell_guid": "7360eaef-c222-4770-9865-7652cef8876b",
    "_uuid": "765a171b401ecfdfbf1d4549001a4b29be34cbc8"
   },
   "source": [
    "**Missing data in train_data**"
   ]
  },
  {
   "cell_type": "code",
   "execution_count": null,
   "metadata": {
    "_cell_guid": "9672054d-a0a3-48dd-a6af-d914414c2bcb",
    "_kg_hide-input": true,
    "_uuid": "e134b25487f1cde3f12e5c2705113de290887824",
    "collapsed": true
   },
   "outputs": [],
   "source": [
    "# checking missing data in training data \n",
    "total = train_data.isnull().sum().sort_values(ascending = False)\n",
    "percent = (train_data.isnull().sum()/train_data.isnull().count()*100).sort_values(ascending = False)\n",
    "missing_train_data  = pd.concat([total, percent], axis=1, keys=['Total', 'Percent'])\n",
    "missing_train_data.head()"
   ]
  },
  {
   "cell_type": "markdown",
   "metadata": {
    "_cell_guid": "82328cb2-9c05-4618-a295-f210ce978e39",
    "_uuid": "0a7aca471ef9a6be7e1f33c4f8bd84c115f56932"
   },
   "source": [
    "* In training data, we can **project_essay_4** and **project_essay_3** having 96 % null values. so during prediction, better remove these 2 columns."
   ]
  },
  {
   "cell_type": "markdown",
   "metadata": {
    "_cell_guid": "e6dd180e-2e8f-4834-b6f9-b3c0abbfe608",
    "_uuid": "646d3c457a761ff1b18e5dd6d19087256de72a1b"
   },
   "source": [
    "**Missing data in test_data**"
   ]
  },
  {
   "cell_type": "code",
   "execution_count": null,
   "metadata": {
    "_cell_guid": "94d27b0b-c5cb-435e-9346-e46f191bc88f",
    "_kg_hide-input": true,
    "_uuid": "bda80c1062a7e0128d446b75e0601e51f95e4a87",
    "collapsed": true
   },
   "outputs": [],
   "source": [
    "# checking missing data in test data \n",
    "total = test_data.isnull().sum().sort_values(ascending = False)\n",
    "percent = (test_data.isnull().sum()/test_data.isnull().count()*100).sort_values(ascending = False)\n",
    "missing_test_data  = pd.concat([total, percent], axis=1, keys=['Total', 'Percent'])\n",
    "missing_test_data.head()"
   ]
  },
  {
   "cell_type": "markdown",
   "metadata": {
    "_cell_guid": "39a26284-65d5-4e8f-b41e-1d389cca46b1",
    "_uuid": "a5be167bb7fb457ac6c5e3de4ead1121a3278069"
   },
   "source": [
    "* In test data, we can **project_essay_4** and **project_essay_3** having 96 % null values. so during prediction, better remove these 2 columns."
   ]
  },
  {
   "cell_type": "markdown",
   "metadata": {
    "_cell_guid": "bd737042-d84a-45ab-901c-67ac785eec51",
    "_uuid": "1035227803820a0239ead939f01881c389691b16"
   },
   "source": [
    "**Missing data in resources_data**"
   ]
  },
  {
   "cell_type": "code",
   "execution_count": null,
   "metadata": {
    "_cell_guid": "f78f2f09-0c5a-4e3d-8f2a-508c578c7fbf",
    "_kg_hide-input": true,
    "_uuid": "ada9a8db7811970d07da5298a732fc3a11ea1d14",
    "collapsed": true
   },
   "outputs": [],
   "source": [
    "# checking missing data in resource data \n",
    "total = resources_data.isnull().sum().sort_values(ascending = False)\n",
    "percent = (resources_data.isnull().sum()/resources_data.isnull().count()*100).sort_values(ascending = False)\n",
    "missing_resources_data  = pd.concat([total, percent], axis=1, keys=['Total', 'Percent'])\n",
    "missing_resources_data.head()"
   ]
  },
  {
   "cell_type": "markdown",
   "metadata": {
    "_cell_guid": "47830c5a-2043-4fdb-b005-85f4df59a61e",
    "_uuid": "060bee9a11cbeca350639e89ccc65acb390bbb48"
   },
   "source": [
    "* In resource data, only **description** column having few null values. So we can ignore these values."
   ]
  },
  {
   "cell_type": "markdown",
   "metadata": {
    "_cell_guid": "6dd2cee6-1f55-4876-bd75-b4a890317a2b",
    "_uuid": "491d43965913de8ed570ff22c083255a7b2bfc86"
   },
   "source": [
    "# <a id='de'>5. Data Exploration</a>"
   ]
  },
  {
   "cell_type": "markdown",
   "metadata": {
    "_cell_guid": "39e9fb6b-67da-46ad-a96c-6bcd49284fbe",
    "_uuid": "56d48b1efff17ade3570855cc01a461d81c87e33"
   },
   "source": [
    "## <a id='ppan'>5.1 Project proposal is Approved or not ?</a>"
   ]
  },
  {
   "cell_type": "code",
   "execution_count": null,
   "metadata": {
    "_cell_guid": "3529000e-d51f-44f1-84f2-6dc7de192c7e",
    "_kg_hide-input": true,
    "_uuid": "6c44e3680850f4fe8e8e6371045faf1b2cb2e655",
    "collapsed": true
   },
   "outputs": [],
   "source": [
    "temp = train_data['project_is_approved'].value_counts()\n",
    "labels = temp.index\n",
    "sizes = (temp / temp.sum())*100\n",
    "trace = go.Pie(labels=labels, values=sizes, hoverinfo='label+percent')\n",
    "layout = go.Layout(title='Project proposal is approved or not')\n",
    "data = [trace]\n",
    "fig = go.Figure(data=data, layout=layout)\n",
    "py.iplot(fig)"
   ]
  },
  {
   "cell_type": "markdown",
   "metadata": {
    "_cell_guid": "7b832465-dd87-4d03-8af5-60cd5513fd79",
    "_uuid": "d1cf457a81d8903ea36b855c500790ba170c0e7b"
   },
   "source": [
    "* Training data is highly imbalanced that is approx. 85 % projetcs were approved and 15 % project were not approved. Majority imbalanced class is positive."
   ]
  },
  {
   "cell_type": "markdown",
   "metadata": {
    "_cell_guid": "2eb185cc-400f-4178-a625-140f62c88021",
    "_uuid": "b6110ae5e6bfd66771710cf27914d636ade468e2"
   },
   "source": [
    "## <a id='d'>5.2 Distribution</a>"
   ]
  },
  {
   "cell_type": "markdown",
   "metadata": {
    "_cell_guid": "4edecfe6-7159-4acb-bc9d-e2c51b7b50ad",
    "_uuid": "1d853439400c9983d74499993e672c87d61b90df"
   },
   "source": [
    "### <a id='doss'>5.2.a Distribution of School states</a>"
   ]
  },
  {
   "cell_type": "code",
   "execution_count": null,
   "metadata": {
    "_cell_guid": "f48fca2d-a8c3-4642-8c91-5c61195ff09c",
    "_kg_hide-input": true,
    "_uuid": "2ab35e60d03e2f95272f7efb8741f182fead9640",
    "collapsed": true
   },
   "outputs": [],
   "source": [
    "temp = train_data[\"school_state\"].value_counts()\n",
    "#print(\"Total number of states : \",len(temp))\n",
    "trace = go.Bar(\n",
    "    x = temp.index,\n",
    "    y = (temp / temp.sum())*100,\n",
    ")\n",
    "data = [trace]\n",
    "layout = go.Layout(\n",
    "    title = \"Distribution of School states in % \",\n",
    "    xaxis=dict(\n",
    "        title='State Name',\n",
    "        tickfont=dict(\n",
    "            size=14,\n",
    "            color='rgb(107, 107, 107)'\n",
    "        )\n",
    "    ),\n",
    "    yaxis=dict(\n",
    "        title='Count of project proposals submitted in %',\n",
    "        titlefont=dict(\n",
    "            size=16,\n",
    "            color='rgb(107, 107, 107)'\n",
    "        ),\n",
    "        tickfont=dict(\n",
    "            size=14,\n",
    "            color='rgb(107, 107, 107)'\n",
    "        )\n",
    ")\n",
    ")\n",
    "fig = go.Figure(data=data, layout=layout)\n",
    "py.iplot(fig, filename='schoolStateNames')"
   ]
  },
  {
   "cell_type": "markdown",
   "metadata": {
    "_cell_guid": "f344420c-ff38-4195-8e16-73613a61406f",
    "_uuid": "55f9f6ce3ea3bb3b99f7ddd429526f2e58f608ef"
   },
   "source": [
    "* Out of 50 states, **California(CA)** having higher number of projects proposal submitted **approx. 14 %**  followed by **Texas(TX)(7 %)** and **Tennessee(NY)(7 %)**."
   ]
  },
  {
   "cell_type": "markdown",
   "metadata": {
    "_cell_guid": "a96cb155-83e4-4676-aab4-3531262362a5",
    "_uuid": "73de02f2766e36fd14461bfe375ebc30261ace44"
   },
   "source": [
    "### <a id='dpgc'>5.2.b Distribution of project_grade_category (school grade levels (PreK-2, 3-5, 6-8, and 9-12))</a>"
   ]
  },
  {
   "cell_type": "code",
   "execution_count": null,
   "metadata": {
    "_cell_guid": "012c5194-277b-44d4-8b6f-67fc04dcefd9",
    "_kg_hide-input": true,
    "_uuid": "df585ae03026afdcb6e145b0268be1da9e1de6c6",
    "collapsed": true
   },
   "outputs": [],
   "source": [
    "temp = train_data[\"project_grade_category\"].value_counts()\n",
    "print(\"Total number of project grade categories : \", len(temp))\n",
    "trace = go.Bar(\n",
    "    x = temp.index,\n",
    "    y = (temp / temp.sum())*100,\n",
    ")\n",
    "data = [trace]\n",
    "layout = go.Layout(\n",
    "    title = \"Distribution of project_grade_category (school grade levels) in %\",\n",
    "    xaxis=dict(\n",
    "        title='school grade levels',\n",
    "        tickfont=dict(\n",
    "            size=14,\n",
    "            color='rgb(107, 107, 107)'\n",
    "        )\n",
    "    ),\n",
    "    yaxis=dict(\n",
    "        title='Count of project proposals submitted in % ',\n",
    "        titlefont=dict(\n",
    "            size=16,\n",
    "            color='rgb(107, 107, 107)'\n",
    "        ),\n",
    "        tickfont=dict(\n",
    "            size=14,\n",
    "            color='rgb(107, 107, 107)'\n",
    "        )\n",
    ")\n",
    ")\n",
    "fig = go.Figure(data=data, layout=layout)\n",
    "py.iplot(fig, filename='schoolStateNames')"
   ]
  },
  {
   "cell_type": "markdown",
   "metadata": {
    "_cell_guid": "c52e85b8-53bd-4311-8310-a272cb2f66ba",
    "_uuid": "605de9e1f053fb653977b98e54680c82015abc80"
   },
   "source": [
    "* Out of 4 school grade levels, Project proposals submission in school grade levels is higher for **Grades Prek-2** which is approximately **41 %** followed by **Grades 3-5** which has approx. **34 %**."
   ]
  },
  {
   "cell_type": "markdown",
   "metadata": {
    "_cell_guid": "6bdaf56e-de54-41bb-95ef-923dfd492802",
    "_uuid": "e23263ede8bb15249695cb5dd62134cec42403fe"
   },
   "source": [
    "### <a id='dcotp'>5.2.c Distribution of category of the project</a>"
   ]
  },
  {
   "cell_type": "code",
   "execution_count": null,
   "metadata": {
    "_cell_guid": "0cce8981-d561-409a-9199-bf8cc51178b4",
    "_kg_hide-input": true,
    "_uuid": "c6127b0475d44b0f5698757b471575eefa62e4a3",
    "collapsed": true
   },
   "outputs": [],
   "source": [
    "temp = train_data[\"project_subject_categories\"].value_counts().head(10)\n",
    "print(\"Total number of project subject categories : \", len(train_data[\"project_subject_categories\"].value_counts()))\n",
    "trace = go.Bar(\n",
    "    x = temp.index,\n",
    "    y = (temp / temp.sum())*100,\n",
    ")\n",
    "data = [trace]\n",
    "layout = go.Layout(\n",
    "    title = \"Distribution of category of the project in %\",\n",
    "    xaxis=dict(\n",
    "        title='category of the project',\n",
    "        tickfont=dict(\n",
    "            size=14,\n",
    "            color='rgb(107, 107, 107)'\n",
    "        )\n",
    "    ),\n",
    "    yaxis=dict(\n",
    "        title='Count of project proposals submitted in %',\n",
    "        titlefont=dict(\n",
    "            size=16,\n",
    "            color='rgb(107, 107, 107)'\n",
    "        ),\n",
    "        tickfont=dict(\n",
    "            size=14,\n",
    "            color='rgb(107, 107, 107)'\n",
    "        )\n",
    ")\n",
    ")\n",
    "fig = go.Figure(data=data, layout=layout)\n",
    "py.iplot(fig, filename='schoolStateNames')"
   ]
  },
  {
   "cell_type": "markdown",
   "metadata": {
    "_cell_guid": "3c970255-d90f-4cc2-b456-3d4582cb6bff",
    "_uuid": "24a061ffade962969b9322f831ca44f7b9b6a3ff"
   },
   "source": [
    "* Out of 51 Project categories,  Project proposals submission for project categories is higher  for  **Literacy & Language** which is approx. **27 %** followed by **Math & Science** which has approx. **20 %**."
   ]
  },
  {
   "cell_type": "markdown",
   "metadata": {
    "_cell_guid": "27471050-05f1-48b7-95e6-bc1154d59d19",
    "_uuid": "a3baba677a8e014bffcaceffe5395df90d9f5338"
   },
   "source": [
    "### <a id='dnppast'>5.2.d Distribution of number of previously posted applications by the submitting teacher</a>"
   ]
  },
  {
   "cell_type": "code",
   "execution_count": null,
   "metadata": {
    "_cell_guid": "652b6238-a1a6-4c04-bd74-61518a78ce72",
    "_kg_hide-input": true,
    "_uuid": "cd6dcb5b93ace7c088b118751179fb68b422cd3e",
    "collapsed": true
   },
   "outputs": [],
   "source": [
    "plt.figure(figsize = (12, 8))\n",
    "\n",
    "sns.distplot(train_data['teacher_number_of_previously_posted_projects'])\n",
    "plt.xlabel('number of previously posted applications by the submitting teacher', fontsize=12)\n",
    "plt.title(\"Histogram of number of previously posted applications by the submitting teacher\")\n",
    "plt.show() \n",
    "plt.figure(figsize = (12, 8))\n",
    "plt.scatter(range(train_data.shape[0]), np.sort(train_data.teacher_number_of_previously_posted_projects.values))\n",
    "plt.xlabel('number of previously posted applications by the submitting teacher', fontsize=12)\n",
    "plt.title(\"Distribution of number of previously posted applications by the submitting teacher\")\n",
    "plt.show()"
   ]
  },
  {
   "cell_type": "markdown",
   "metadata": {
    "_cell_guid": "7ce52ee2-5d6f-4c75-8ed1-79d6191c9da6",
    "_uuid": "b7e22cf15c002c0730401d01edebb269be355bba"
   },
   "source": [
    "   ### <a id='dsotp'>5.2.e Distribution of subcategory of the project</a>"
   ]
  },
  {
   "cell_type": "code",
   "execution_count": null,
   "metadata": {
    "_cell_guid": "efb28285-994c-416f-b39f-a8d44c052bfa",
    "_kg_hide-input": true,
    "_uuid": "158d9ba397b0662eea7cc404d0f7dd6edba9c127",
    "collapsed": true
   },
   "outputs": [],
   "source": [
    "temp = train_data[\"project_subject_subcategories\"].value_counts().head(10)\n",
    "print(\"Total sub-categories of the projects : \",len(train_data[\"project_subject_subcategories\"]))\n",
    "trace = go.Bar(\n",
    "    x = temp.index,\n",
    "    y = (temp / temp.sum())*100,\n",
    ")\n",
    "data = [trace]\n",
    "layout = go.Layout(\n",
    "    title = \"Distribution of subcategory of the project in %\",\n",
    "    xaxis=dict(\n",
    "        title='subcategory of the project',\n",
    "        tickfont=dict(\n",
    "            size=14,\n",
    "            color='rgb(107, 107, 107)'\n",
    "        )\n",
    "    ),\n",
    "    yaxis=dict(\n",
    "        title='Count of project proposals submitted in %',\n",
    "        titlefont=dict(\n",
    "            size=16,\n",
    "            color='rgb(107, 107, 107)'\n",
    "        ),\n",
    "        tickfont=dict(\n",
    "            size=14,\n",
    "            color='rgb(107, 107, 107)'\n",
    "        )\n",
    ")\n",
    ")\n",
    "fig = go.Figure(data=data, layout=layout)\n",
    "py.iplot(fig, filename='schoolStateNames')"
   ]
  },
  {
   "cell_type": "markdown",
   "metadata": {
    "_cell_guid": "4b99ac2e-fcff-4d08-9560-db8fbdf6b3bf",
    "_uuid": "c50d5d5fab0aec287f85dddf6ae7bddbd9ae43d9"
   },
   "source": [
    "* Out of 1,82,020 Project subcategories, Project proposals submission for project sub-categoriesis is higher  for **Literacy** which is approx. **16 % ** followed by **Literacy & Mathematics** which has approx. **16 %** ."
   ]
  },
  {
   "cell_type": "markdown",
   "metadata": {
    "_cell_guid": "38b06692-3963-45c3-b9ff-821861712767",
    "_uuid": "e8d068d006d99c22c879a0d87f70276ee90c8238"
   },
   "source": [
    "### <a id='dopt'>5.2.f Distribution of Project titles</a>"
   ]
  },
  {
   "cell_type": "code",
   "execution_count": null,
   "metadata": {
    "_cell_guid": "4619a6bc-756a-497d-b371-28f9f822bc0f",
    "_kg_hide-input": true,
    "_uuid": "a34f6d034fcf8e7bdf86aa994cd0497c4cc10cc8",
    "collapsed": true
   },
   "outputs": [],
   "source": [
    "temp = train_data[\"project_title\"].value_counts().head(10)\n",
    "print(\"Total project titles are : \", len(train_data[\"project_title\"]))\n",
    "trace = go.Bar(\n",
    "    x = temp.index,\n",
    "    y = (temp / temp.sum())*100,\n",
    ")\n",
    "data = [trace]\n",
    "layout = go.Layout(\n",
    "    title = \"Distribution of Distribution of Project titles in %\",\n",
    "    xaxis=dict(\n",
    "        title='Project Title',\n",
    "        tickfont=dict(\n",
    "            size=14,\n",
    "            color='rgb(107, 107, 107)'\n",
    "        )\n",
    "    ),\n",
    "    yaxis=dict(\n",
    "        title='Count of project proposals submitted in %',\n",
    "        titlefont=dict(\n",
    "            size=16,\n",
    "            color='rgb(107, 107, 107)'\n",
    "        ),\n",
    "        tickfont=dict(\n",
    "            size=14,\n",
    "            color='rgb(107, 107, 107)'\n",
    "        )\n",
    ")\n",
    ")\n",
    "fig = go.Figure(data=data, layout=layout)\n",
    "py.iplot(fig, filename='schoolStateNames')"
   ]
  },
  {
   "cell_type": "markdown",
   "metadata": {
    "_cell_guid": "efac141b-c2dc-43b9-bf37-24e1e261d306",
    "_uuid": "d4e842a3bd8bf3f6b416fa90d213012c6c77c4e8"
   },
   "source": [
    "* Out of 1,82,080 project titles, Project proposals submission for project titles is higher for **Flexible seating** which is approx. **27 %** followed by **Whiggle while your work** which has approx. **14 %**."
   ]
  },
  {
   "cell_type": "markdown",
   "metadata": {
    "_cell_guid": "fc17241f-fa0b-469d-887a-fe483469e80d",
    "_uuid": "568af3236566ff28c6e0589b97543391e68262d2",
    "collapsed": true
   },
   "source": [
    "### <a id='doporr'>5.2.g Distribution of price of resource requested</a>"
   ]
  },
  {
   "cell_type": "code",
   "execution_count": null,
   "metadata": {
    "_cell_guid": "44f57130-c3b0-42eb-855a-89b4911772e3",
    "_kg_hide-input": true,
    "_uuid": "80f902691a818a1d6813967257a56cbfc72ec934",
    "collapsed": true
   },
   "outputs": [],
   "source": [
    "plt.figure(figsize = (12, 8))\n",
    "\n",
    "sns.distplot(train_resource['price'])\n",
    "plt.xlabel('Price', fontsize=12)\n",
    "plt.title(\"Histogran of price of resource requested\")\n",
    "plt.show() \n",
    "plt.figure(figsize = (12, 8))\n",
    "plt.scatter(range(train_resource.shape[0]), np.sort(train_resource.price.values))\n",
    "plt.xlabel('price', fontsize=12)\n",
    "plt.title(\"Distribution of price of resource requested\")\n",
    "plt.show()"
   ]
  },
  {
   "cell_type": "markdown",
   "metadata": {
    "_cell_guid": "47662510-65fb-4f29-a470-8a9baa4f4f37",
    "_uuid": "a5b37eba7ddfe876d7bf31366661f6141cd5f7dd",
    "collapsed": true
   },
   "source": [
    "### <a id='doqorr'>5.2.h Distribution of quantity of resource requested</a>"
   ]
  },
  {
   "cell_type": "code",
   "execution_count": null,
   "metadata": {
    "_cell_guid": "76d3ffef-762f-4d69-ab69-da98bda2170d",
    "_kg_hide-input": true,
    "_uuid": "0d4f13957139a3ac72c28095c021db5ec4466ef6",
    "collapsed": true
   },
   "outputs": [],
   "source": [
    "plt.figure(figsize = (12, 8))\n",
    "\n",
    "sns.distplot(train_resource['price'])\n",
    "plt.xlabel('quantity', fontsize=12)\n",
    "plt.title(\"Histogran of quantity of resource requested\")\n",
    "plt.show() \n",
    "plt.figure(figsize = (12, 8))\n",
    "plt.scatter(range(train_resource.shape[0]), np.sort(train_resource.quantity.values))\n",
    "plt.xlabel('price', fontsize=12)\n",
    "plt.title(\"Distribution of quantity of resource requested\")\n",
    "plt.show()"
   ]
  },
  {
   "cell_type": "markdown",
   "metadata": {
    "_cell_guid": "54927593-ff7c-4a6b-9b74-1bfbc530da40",
    "_uuid": "0026579c6b752c73c5b86fd9ae2bd44b59f2fdf7"
   },
   "source": [
    "### <a id='tpd'>5.2.i Teacher prefix Distribution</a>"
   ]
  },
  {
   "cell_type": "code",
   "execution_count": null,
   "metadata": {
    "_cell_guid": "372f70ef-2614-4cef-bf0c-ea34227902f5",
    "_kg_hide-input": true,
    "_uuid": "9dec0886a2d9773dcbdbced7a8d27924723f00c6",
    "collapsed": true
   },
   "outputs": [],
   "source": [
    "temp = train_data[\"teacher_prefix\"].value_counts()\n",
    "trace = go.Bar(\n",
    "    x = temp.index,\n",
    "    y = (temp / temp.sum())*100,\n",
    ")\n",
    "data = [trace]\n",
    "layout = go.Layout(\n",
    "    title = \"Teacher prefix Distribution in %\",\n",
    "    xaxis=dict(\n",
    "        title='Teacher prefix',\n",
    "        tickfont=dict(\n",
    "            size=14,\n",
    "            color='rgb(107, 107, 107)'\n",
    "        )\n",
    "    ),\n",
    "    yaxis=dict(\n",
    "        title='Count of project proposals submitted in %',\n",
    "        titlefont=dict(\n",
    "            size=16,\n",
    "            color='rgb(107, 107, 107)'\n",
    "        ),\n",
    "        tickfont=dict(\n",
    "            size=14,\n",
    "            color='rgb(107, 107, 107)'\n",
    "        )\n",
    ")\n",
    ")\n",
    "fig = go.Figure(data=data, layout=layout)\n",
    "py.iplot(fig)"
   ]
  },
  {
   "cell_type": "markdown",
   "metadata": {
    "_cell_guid": "3eb3155c-2dcc-4679-abab-c0a72b544a24",
    "_uuid": "7a856a19477ce7a96bebcc6cd472fbfe51011cf3"
   },
   "source": [
    "* Higher number of project proposal submitted by **married womens** which is approx. **53 %**  followed by **unmarried womens** which has approx. **37 %**.\n",
    "* Project proposal submitted by **Teacher** which is approx. **2 %** is vey low as compared to **Mrs., Ms., Mr**."
   ]
  },
  {
   "cell_type": "markdown",
   "metadata": {
    "_cell_guid": "a2f4264c-dfa9-4572-b000-d664b45c1ddf",
    "_uuid": "225ca0bd412d29bd9920f69ef1d12d63d99e2347"
   },
   "source": [
    "## <a id='trnfp'>5.3 Top resources needed for the project</a>"
   ]
  },
  {
   "cell_type": "code",
   "execution_count": null,
   "metadata": {
    "_cell_guid": "7b32d7fe-b5d6-4012-8367-2f7ccdbf8b05",
    "_kg_hide-input": true,
    "_uuid": "a47465bff3fb7a1d5363cccf69ac5a6ed0f745f2",
    "collapsed": true
   },
   "outputs": [],
   "source": [
    "import re\n",
    "from nltk.corpus import stopwords\n",
    "\n",
    "REPLACE_BY_SPACE_RE = re.compile('[/(){}\\[\\]\\|@,;]')\n",
    "BAD_SYMBOLS_RE = re.compile('[^0-9a-z #+_]')\n",
    "STOPWORDS = set(stopwords.words('english'))\n",
    "def text_prepare(text):\n",
    "    \"\"\"\n",
    "        text: a string\n",
    "        \n",
    "        return: modified initial string\n",
    "    \"\"\"\n",
    "    text = text.lower()# lowercase text  \n",
    "    text = REPLACE_BY_SPACE_RE.sub(' ',text)# replace REPLACE_BY_SPACE_RE symbols by space in text    \n",
    "    text = BAD_SYMBOLS_RE.sub('',text)# delete symbols which are in BAD_SYMBOLS_RE from text    \n",
    "    temp = [s.strip() for s in text.split() if s not in STOPWORDS]# delete stopwords from text\n",
    "    new_text = ''\n",
    "    for i in temp:\n",
    "        new_text +=i+' '\n",
    "    text = new_text\n",
    "    return text.strip()"
   ]
  },
  {
   "cell_type": "code",
   "execution_count": null,
   "metadata": {
    "_cell_guid": "c137cc93-2703-4d10-96ac-f3c1d3485cc2",
    "_kg_hide-input": true,
    "_uuid": "b1d07d8ab9d3502f916be5bc70ea08bc2ba61c42",
    "collapsed": true
   },
   "outputs": [],
   "source": [
    "temp_data = train_data.dropna(subset=['project_resource_summary'])\n",
    "# converting into lowercase\n",
    "temp_data['project_resource_summary'] = temp_data['project_resource_summary'].apply(lambda x: \" \".join(x.lower() for x in x.split()))\n",
    "temp_data['project_resource_summary'] = temp_data['project_resource_summary'].map(text_prepare)\n",
    "\n",
    "\n",
    "from wordcloud import WordCloud\n",
    "\n",
    "wordcloud = WordCloud(max_font_size=50, width=600, height=300).generate(' '.join(temp_data['project_resource_summary'].values))\n",
    "plt.figure(figsize=(15,8))\n",
    "plt.imshow(wordcloud)\n",
    "plt.title(\"Top resources needed for the project\", fontsize=35)\n",
    "plt.axis(\"off\")\n",
    "plt.show() "
   ]
  },
  {
   "cell_type": "markdown",
   "metadata": {
    "_cell_guid": "ea9fa3ed-8117-4f9c-90a8-ba0c13876b01",
    "_uuid": "4e67c49d046005b97794db19274986c5eb7b2351"
   },
   "source": [
    "## <a id='wcrr'>5.4 Word Cloud of resources requested</a>"
   ]
  },
  {
   "cell_type": "code",
   "execution_count": null,
   "metadata": {
    "_cell_guid": "d441d942-ed9e-4fc8-b032-941927d861ba",
    "_kg_hide-input": true,
    "_uuid": "46c1d97e8fc00a3153fd7077f4c8aca1d88cb490",
    "collapsed": true
   },
   "outputs": [],
   "source": [
    "temp_data = train_resource.dropna(subset=['description'])\n",
    "# converting into lowercase\n",
    "temp_data['description'] = temp_data['description'].apply(lambda x: \" \".join(x.lower() for x in x.split()))\n",
    "temp_data['description'] = temp_data['description'].map(text_prepare)\n",
    "\n",
    "\n",
    "from wordcloud import WordCloud\n",
    "\n",
    "wordcloud = WordCloud(max_font_size=50, width=600, height=300).generate(' '.join(temp_data['description'].values))\n",
    "plt.figure(figsize=(15,8))\n",
    "plt.imshow(wordcloud)\n",
    "plt.title(\"Word Cloud of resources requested\", fontsize=35)\n",
    "plt.axis(\"off\")\n",
    "plt.show() "
   ]
  },
  {
   "cell_type": "markdown",
   "metadata": {
    "_cell_guid": "8d0666d2-1ba3-4d78-a462-12b61ffd264c",
    "_uuid": "71f6e083fb54a2cd0a7c8984403fd92ca80c9308"
   },
   "source": [
    "## <a id='vpppan'>5.5 Various popularities in terms of project acceptance rate and project rejection rate</a>"
   ]
  },
  {
   "cell_type": "markdown",
   "metadata": {
    "_cell_guid": "233b0f1b-abaa-4bed-b945-a20aa95e1c9b",
    "_uuid": "dc44711e4037bcc91d527abdab62aaa894f71c5a"
   },
   "source": [
    "### <a id='psstpan'>5.5.a Popular School states in terms of project acceptance rate and project rejection rate</a>"
   ]
  },
  {
   "cell_type": "code",
   "execution_count": null,
   "metadata": {
    "_cell_guid": "ea6ce13b-dea7-4387-b41b-9b8841d6b11d",
    "_kg_hide-input": true,
    "_uuid": "138ee05695b9c56b4ff2675295e968e9cc7216c7",
    "collapsed": true
   },
   "outputs": [],
   "source": [
    "temp = train_data[\"school_state\"].value_counts()\n",
    "#print(temp.values)\n",
    "temp_y0 = []\n",
    "temp_y1 = []\n",
    "for val in temp.index:\n",
    "    temp_y1.append(np.sum(train_data[\"project_is_approved\"][train_data[\"school_state\"]==val] == 1))\n",
    "    temp_y0.append(np.sum(train_data[\"project_is_approved\"][train_data[\"school_state\"]==val] == 0))    \n",
    "trace1 = go.Bar(\n",
    "    x = temp.index,\n",
    "    y = temp_y1,\n",
    "    name='Accepted Proposals'\n",
    ")\n",
    "trace2 = go.Bar(\n",
    "    x = temp.index,\n",
    "    y = temp_y0, \n",
    "    name='Rejected Proposals'\n",
    ")\n",
    "\n",
    "data = [trace1, trace2]\n",
    "layout = go.Layout(\n",
    "    title = \"Popular School states in terms of project acceptance rate and project rejection rate\",\n",
    "    barmode='stack',\n",
    "    width = 1000\n",
    ")\n",
    "\n",
    "fig = go.Figure(data=data, layout=layout)\n",
    "py.iplot(fig)"
   ]
  },
  {
   "cell_type": "markdown",
   "metadata": {
    "_cell_guid": "7668573e-9c22-4370-8cfe-04dce9875534",
    "_uuid": "8c3fa249120c3d1ed1a64552f195277897782391"
   },
   "source": [
    "### <a id='ptptppa'>5.5.b Popular Teacher Prefix in terms of project acceptance rate and project rejection rate</a>"
   ]
  },
  {
   "cell_type": "code",
   "execution_count": null,
   "metadata": {
    "_cell_guid": "4fefec7f-c2a4-43d2-8e10-cba2f942e981",
    "_kg_hide-input": true,
    "_uuid": "a1a9508764217f7831f410b799ae9021525c1241",
    "collapsed": true
   },
   "outputs": [],
   "source": [
    "temp = train_data[\"teacher_prefix\"].value_counts()\n",
    "temp_y0 = []\n",
    "temp_y1 = []\n",
    "for val in temp.index:\n",
    "    temp_y1.append(np.sum(train_data[\"project_is_approved\"][train_data[\"teacher_prefix\"]==val] == 1))\n",
    "    temp_y0.append(np.sum(train_data[\"project_is_approved\"][train_data[\"teacher_prefix\"]==val] == 0))    \n",
    "trace1 = go.Bar(\n",
    "    x = temp.index,\n",
    "    y = temp_y1,\n",
    "    name='Accepted Proposals'\n",
    ")\n",
    "trace2 = go.Bar(\n",
    "    x = temp.index,\n",
    "    y = temp_y0, \n",
    "    name='Rejected Proposals'\n",
    ")\n",
    "\n",
    "data = [trace1, trace2]\n",
    "layout = go.Layout(\n",
    "    title = \"Popular Teacher prefixes in terms of project acceptance rate and project rejection rate\",\n",
    "    barmode='stack',\n",
    "    width = 1000\n",
    ")\n",
    "\n",
    "fig = go.Figure(data=data, layout=layout)\n",
    "py.iplot(fig)"
   ]
  },
  {
   "cell_type": "markdown",
   "metadata": {
    "_cell_guid": "6d42f856-35b0-4e52-9da1-0605cd81d717",
    "_uuid": "2fc00825a9972f72ebb97731ddf1a4d49cb4592b"
   },
   "source": [
    "### <a id='psgltpp'>5.5.c Popular school grade levels in terms of project acceptance rate and project rejection rate</a>"
   ]
  },
  {
   "cell_type": "code",
   "execution_count": null,
   "metadata": {
    "_cell_guid": "1c2b420d-6b41-4720-a1a2-e8dfc24d6a30",
    "_kg_hide-input": true,
    "_uuid": "7c3879fd8baaed47950c49e8e51bebc0c10af20d",
    "collapsed": true
   },
   "outputs": [],
   "source": [
    "temp = train_data[\"project_grade_category\"].value_counts()\n",
    "#print(temp.values)\n",
    "temp_y0 = []\n",
    "temp_y1 = []\n",
    "for val in temp.index:\n",
    "    temp_y1.append(np.sum(train_data[\"project_is_approved\"][train_data[\"project_grade_category\"]==val] == 1))\n",
    "    temp_y0.append(np.sum(train_data[\"project_is_approved\"][train_data[\"project_grade_category\"]==val] == 0))    \n",
    "trace1 = go.Bar(\n",
    "    x = temp.index,\n",
    "    y = temp_y1,\n",
    "    name='Accepted Proposals'\n",
    ")\n",
    "trace2 = go.Bar(\n",
    "    x = temp.index,\n",
    "    y = temp_y0, \n",
    "    name='Rejected Proposals'\n",
    ")\n",
    "\n",
    "data = [trace1, trace2]\n",
    "layout = go.Layout(\n",
    "    title = \"Popular school grade levels in terms of project acceptance rate and project rejection rate\",\n",
    "    barmode='stack',\n",
    "    width = 1000\n",
    ")\n",
    "\n",
    "fig = go.Figure(data=data, layout=layout)\n",
    "py.iplot(fig)"
   ]
  },
  {
   "cell_type": "markdown",
   "metadata": {
    "_cell_guid": "8da0c3c4-166b-4438-92f0-73de954f92fa",
    "_uuid": "65296ab195af10c0d0b47f2c242415bfe6a31cf0"
   },
   "source": [
    "### <a id='pcoptppa'>5.5.d Popular category of the project in terms of project acceptance rate and project rejection rate</a>"
   ]
  },
  {
   "cell_type": "code",
   "execution_count": null,
   "metadata": {
    "_cell_guid": "dc61fa2d-ec9a-4a57-a6aa-88dc3c2d2efc",
    "_kg_hide-input": true,
    "_uuid": "676d6740e9ebf1929db614fb85730e4f4ec486c3",
    "collapsed": true
   },
   "outputs": [],
   "source": [
    "temp = train_data[\"project_subject_categories\"].value_counts()\n",
    "#print(temp.values)\n",
    "temp_y0 = []\n",
    "temp_y1 = []\n",
    "for val in temp.index:\n",
    "    temp_y1.append(np.sum(train_data[\"project_is_approved\"][train_data[\"project_subject_categories\"]==val] == 1))\n",
    "    temp_y0.append(np.sum(train_data[\"project_is_approved\"][train_data[\"project_subject_categories\"]==val] == 0))    \n",
    "trace1 = go.Bar(\n",
    "    x = temp.index,\n",
    "    y = temp_y1,\n",
    "    name='Accepted Proposals'\n",
    ")\n",
    "trace2 = go.Bar(\n",
    "    x = temp.index,\n",
    "    y = temp_y0, \n",
    "    name='Rejected Proposals'\n",
    ")\n",
    "\n",
    "data = [trace1, trace2]\n",
    "layout = go.Layout(\n",
    "    title = \"Popular category of the project in terms of project acceptance rate and project rejection rate\",\n",
    "    barmode='stack',\n",
    "    width = 1000\n",
    ")\n",
    "\n",
    "fig = go.Figure(data=data, layout=layout)\n",
    "py.iplot(fig)"
   ]
  },
  {
   "cell_type": "markdown",
   "metadata": {
    "_cell_guid": "38d2123b-9214-4ea6-bbd6-650038847287",
    "_uuid": "a77160cc0c869b967684ef223bfea202cba3d83a"
   },
   "source": [
    "### <a id='psotpppan'>5.5.e Popular subcategory of the project in terms of project acceptance rate and project rejection rate</a>"
   ]
  },
  {
   "cell_type": "code",
   "execution_count": null,
   "metadata": {
    "_cell_guid": "a112030d-c957-45f2-adea-ee30beb3fdfd",
    "_kg_hide-input": true,
    "_uuid": "5e1ddbc0fc17b0039d0ba774910d716866fd60c3",
    "collapsed": true
   },
   "outputs": [],
   "source": [
    "temp = train_data[\"project_subject_subcategories\"].value_counts()\n",
    "#print(temp.values)\n",
    "temp_y0 = []\n",
    "temp_y1 = []\n",
    "for val in temp.index:\n",
    "    temp_y1.append(np.sum(train_data[\"project_is_approved\"][train_data[\"project_subject_subcategories\"]==val] == 1))\n",
    "    temp_y0.append(np.sum(train_data[\"project_is_approved\"][train_data[\"project_subject_subcategories\"]==val] == 0))    \n",
    "trace1 = go.Bar(\n",
    "    x = temp.index,\n",
    "    y = temp_y1,\n",
    "    name='Accepted Proposals'\n",
    ")\n",
    "trace2 = go.Bar(\n",
    "    x = temp.index,\n",
    "    y = temp_y0, \n",
    "    name='Rejected Proposals'\n",
    ")\n",
    "\n",
    "data = [trace1, trace2]\n",
    "layout = go.Layout(\n",
    "    title = \"Popular subcategory of the project in terms of project acceptance rate and project rejection rate\",\n",
    "    barmode='stack',\n",
    "    width = 1000\n",
    ")\n",
    "\n",
    "fig = go.Figure(data=data, layout=layout)\n",
    "py.iplot(fig)"
   ]
  },
  {
   "cell_type": "markdown",
   "metadata": {
    "_cell_guid": "60b1cf51-4b92-4803-9611-4ee43e221ac4",
    "_uuid": "d766a847e1c7990510b697267af4e9c0b005db63"
   },
   "source": [
    "### <a id='ppttpan'>5.5.f Popular project titles in terms of project acceptance rate and project rejection rate</a>"
   ]
  },
  {
   "cell_type": "code",
   "execution_count": null,
   "metadata": {
    "_cell_guid": "e05ae8c7-7c5f-49ed-ba6d-a9411db5e7f4",
    "_kg_hide-input": true,
    "_uuid": "aa315de4e27a2e140e828d92134dc8b0ea2c60c6",
    "collapsed": true
   },
   "outputs": [],
   "source": [
    "temp = train_data[\"project_title\"].value_counts().head(20)\n",
    "#print(temp.values)\n",
    "temp_y0 = []\n",
    "temp_y1 = []\n",
    "for val in temp.index:\n",
    "    temp_y1.append(np.sum(train_data[\"project_is_approved\"][train_data[\"project_title\"]==val] == 1))\n",
    "    temp_y0.append(np.sum(train_data[\"project_is_approved\"][train_data[\"project_title\"]==val] == 0))    \n",
    "trace1 = go.Bar(\n",
    "    x = temp.index,\n",
    "    y = temp_y1,\n",
    "    name='Accepted Proposals'\n",
    ")\n",
    "trace2 = go.Bar(\n",
    "    x = temp.index,\n",
    "    y = temp_y0, \n",
    "    name='Rejected Proposals'\n",
    ")\n",
    "\n",
    "data = [trace1, trace2]\n",
    "layout = go.Layout(\n",
    "    title = \"Popular project titles in terms of project acceptance rate and project rejection rate\",\n",
    "    barmode='stack',\n",
    "    width = 1000\n",
    ")\n",
    "\n",
    "fig = go.Figure(data=data, layout=layout)\n",
    "py.iplot(fig)"
   ]
  },
  {
   "cell_type": "markdown",
   "metadata": {
    "_cell_guid": "dac99375-a65c-4174-9a48-a7e7bb1c0712",
    "_uuid": "ef22b09117f50fea424e303ab78457c21abc5370"
   },
   "source": [
    "## <a id='ppuss'>5.6 Project Proposals by US States</a>"
   ]
  },
  {
   "cell_type": "code",
   "execution_count": null,
   "metadata": {
    "_cell_guid": "05e4eb31-b27a-427c-b379-2ad97fbd6d5d",
    "_kg_hide-input": true,
    "_uuid": "fecc267c7b14c93669bb51858a9faca613efd59a",
    "collapsed": true
   },
   "outputs": [],
   "source": [
    "temp = pd.DataFrame(train_data[\"school_state\"].value_counts()).reset_index()\n",
    "temp.columns = ['state_code', 'num_proposals']\n",
    "\n",
    "data = [dict(\n",
    "        type='choropleth',\n",
    "        locations= temp['state_code'],\n",
    "        locationmode='USA-states',\n",
    "        z=temp['num_proposals'].astype(float),\n",
    "        text=temp['state_code'],\n",
    "        colorscale='Red',\n",
    "        marker=dict(line=dict(width=0.7)),\n",
    "        colorbar=dict(autotick=False, tickprefix='', title='Number of project proposals'),\n",
    ")]\n",
    "layout = dict(title = 'Project Proposals by US States',geo = dict(\n",
    "            scope='usa',\n",
    "            projection=dict( type='albers usa' ),\n",
    "            showlakes = True,\n",
    "            lakecolor = 'rgb(255, 255, 255)'),\n",
    "             )\n",
    "fig = dict(data=data, layout=layout)\n",
    "py.iplot(fig, validate=False)"
   ]
  },
  {
   "cell_type": "markdown",
   "metadata": {
    "_cell_guid": "41f0b662-78c3-4926-9dec-ac3e85578cf9",
    "_uuid": "430b62f75cde7901df2bd4739278ea6e078c4282"
   },
   "source": [
    "## <a id='ppmaruss'>5.7 Project Proposals Mean Acceptance Rate by US States</a>"
   ]
  },
  {
   "cell_type": "code",
   "execution_count": null,
   "metadata": {
    "_cell_guid": "90654d5b-9797-449f-8fb8-8a70b2192a12",
    "_kg_hide-input": true,
    "_uuid": "96b46f162b58cc2e2bb0c590ffdb42cdf496d13f",
    "collapsed": true
   },
   "outputs": [],
   "source": [
    "temp = pd.DataFrame(train_data.groupby(\"school_state\")[\"project_is_approved\"].apply(np.mean)).reset_index()\n",
    "temp.columns = ['state_code', 'num_proposals']\n",
    "\n",
    "data = [dict(\n",
    "        type='choropleth',\n",
    "        locations= temp['state_code'],\n",
    "        locationmode='USA-states',\n",
    "        z=temp['num_proposals'].astype(float),\n",
    "        text=temp['state_code'],\n",
    "        colorscale='Red',\n",
    "        marker=dict(line=dict(width=0.7)),\n",
    "        colorbar=dict(autotick=False, tickprefix='', title='Number of project proposals'),\n",
    ")]\n",
    "layout = dict(title = 'Project Proposals Mean Acceptance Rate by US States',geo = dict(\n",
    "            scope='usa',\n",
    "            projection=dict( type='albers usa' ),\n",
    "            showlakes = True,\n",
    "            lakecolor = 'rgb(255, 255, 255)'),\n",
    "             )\n",
    "fig = dict(data=data, layout=layout)\n",
    "py.iplot(fig, validate=False)"
   ]
  },
  {
   "cell_type": "markdown",
   "metadata": {
    "_cell_guid": "0ad15d01-06f6-41a3-9baf-d017fb4ba2d0",
    "_uuid": "ec6a1ed92a3f0a7a776d54eccacb43cb6c5babf5"
   },
   "source": [
    "## <a id='cmhmtd'>5.8 Correlation Matrix and HeatMap of training data</a>"
   ]
  },
  {
   "cell_type": "markdown",
   "metadata": {
    "_cell_guid": "3f2c5c55-1712-4b39-a36c-4c0cbd074867",
    "_uuid": "bc225f12b066eb6836f8c7437369873cfdb1d377"
   },
   "source": [
    "### <a id='tppiaic'>5.8.a Teacher_prefix and project_is_approved Intervals Correlation</a>"
   ]
  },
  {
   "cell_type": "code",
   "execution_count": null,
   "metadata": {
    "_cell_guid": "b1c8ce59-231c-4bb9-a1a1-5e7bcc0dd74d",
    "_kg_hide-input": true,
    "_uuid": "403c8250524dea5ad0269604ee3a75525ecb1e23",
    "collapsed": true
   },
   "outputs": [],
   "source": [
    "cols = ['teacher_prefix', 'project_is_approved']\n",
    "cm = sns.light_palette(\"red\", as_cmap=True)\n",
    "pd.crosstab(train_data[cols[0]], train_data[cols[1]]).style.background_gradient(cmap = cm)"
   ]
  },
  {
   "cell_type": "markdown",
   "metadata": {
    "_cell_guid": "70782622-d12e-445f-a798-a419381c93e6",
    "_uuid": "f7d3e87989e6740e7175c73f7d240cbe2fa0a408"
   },
   "source": [
    "### <a id='tnppppaic'>5.8.b Teacher_number_of_previously_posted_projects and project_is_approved Intervals Correlation</a>"
   ]
  },
  {
   "cell_type": "code",
   "execution_count": null,
   "metadata": {
    "_cell_guid": "8e1a284d-7351-4440-898b-8a4aecdf5e4f",
    "_kg_hide-input": true,
    "_uuid": "4d3c1e9ec3e536f666a3a0f8e53a4c1073a4282a",
    "collapsed": true,
    "scrolled": false
   },
   "outputs": [],
   "source": [
    "cols = ['teacher_number_of_previously_posted_projects', 'project_is_approved']\n",
    "cm = sns.light_palette(\"red\", as_cmap=True)\n",
    "pd.crosstab(train_data[cols[0]], train_data[cols[1]]).style.background_gradient(cmap = cm)"
   ]
  },
  {
   "cell_type": "markdown",
   "metadata": {
    "_cell_guid": "f2b6302e-4f27-4ab5-95d3-03601fc2d2cb",
    "_uuid": "894d527b252d57d9520efb7b0304f368abd4c15d"
   },
   "source": [
    "*  Number of previously posted applications by the submitting teacher was** Zero(0)** having more number of acceptance rate."
   ]
  },
  {
   "cell_type": "markdown",
   "metadata": {
    "_cell_guid": "ac7bc40c-17d8-42b5-8f99-91300385b008",
    "_uuid": "dfdedf2070a36602d226db63f17255b6275875dd"
   },
   "source": [
    "### <a id='cmaht'>5.8.c Correlation Matrix and Heatmap of training data</a>"
   ]
  },
  {
   "cell_type": "code",
   "execution_count": null,
   "metadata": {
    "_cell_guid": "449681b7-b395-46ff-98e2-d7ade18e40ad",
    "_kg_hide-input": true,
    "_uuid": "a0250b124d49dd08aab8a5146da47280acecd6b0",
    "collapsed": true
   },
   "outputs": [],
   "source": [
    "#Correlation Matrix\n",
    "corr = train_data.corr()\n",
    "plt.figure(figsize=(12,12))\n",
    "sns.heatmap(corr, \n",
    "            xticklabels=corr.columns.values,\n",
    "            yticklabels=corr.columns.values, annot=True, cmap='cubehelix', square=True)\n",
    "plt.title('Correlation between different features')\n",
    "corr"
   ]
  },
  {
   "cell_type": "markdown",
   "metadata": {
    "_cell_guid": "95c5ca69-20d3-468a-ba16-09325ea95c16",
    "_uuid": "1c846e3e8e389d6aa0ffa563e2d6e9589a19bb30"
   },
   "source": [
    "## <a id='psta'>5.9 Project Submission Time Analysis</a>"
   ]
  },
  {
   "cell_type": "code",
   "execution_count": null,
   "metadata": {
    "_cell_guid": "8b4253f2-fd29-4eda-be9e-efd1217d94f3",
    "_kg_hide-input": true,
    "_uuid": "6767bf602096f74cc3536f1fbdf7aed53e006b85",
    "collapsed": true
   },
   "outputs": [],
   "source": [
    "train_data[\"project_submitted_datetime\"] = pd.to_datetime(train_data[\"project_submitted_datetime\"])\n",
    "train_data[\"month_created\"] = train_data[\"project_submitted_datetime\"].dt.month\n",
    "train_data[\"weekday_created\"] = train_data[\"project_submitted_datetime\"].dt.weekday\n",
    "train_data[\"date_created\"] = train_data[\"project_submitted_datetime\"].dt.date\n",
    "train_data[\"hour_created\"] = train_data[\"project_submitted_datetime\"].dt.hour"
   ]
  },
  {
   "cell_type": "markdown",
   "metadata": {
    "_cell_guid": "cf93cbd2-b6b8-448e-ad3d-5d835f459ce1",
    "_uuid": "1deb323a7dd610c91c39191269a72f60731bd57e"
   },
   "source": [
    "### <a id='psma'>5.9.a Project Submission Month Analysis</a>"
   ]
  },
  {
   "cell_type": "code",
   "execution_count": null,
   "metadata": {
    "_cell_guid": "7133e452-e18c-4603-817a-3c4dbddbf6e2",
    "_kg_hide-input": true,
    "_uuid": "a96bc978987362f6c1bcf788719f2e386fecf419",
    "collapsed": true
   },
   "outputs": [],
   "source": [
    "temp = train_data[\"month_created\"].value_counts()\n",
    "#print(temp.values)\n",
    "temp_y0 = []\n",
    "temp_y1 = []\n",
    "for val in temp.index:\n",
    "    temp_y1.append(np.sum(train_data[\"project_is_approved\"][train_data[\"month_created\"]==val] == 1))\n",
    "    temp_y0.append(np.sum(train_data[\"project_is_approved\"][train_data[\"month_created\"]==val] == 0))\n",
    "    \n",
    "trace1 = go.Bar(\n",
    "    x = temp.index,\n",
    "    y = temp_y1,\n",
    "    name='Accepted Proposals'\n",
    ")\n",
    "trace2 = go.Bar(\n",
    "    x = temp.index,\n",
    "    y = temp_y0, \n",
    "    name='Rejected Proposals'\n",
    ")\n",
    "\n",
    "data = [trace1, trace2]\n",
    "layout = go.Layout(\n",
    "    title = \"Project Proposal Submission Month Distribution\",\n",
    "    barmode='stack',\n",
    "    width = 1000\n",
    ")\n",
    "\n",
    "fig = go.Figure(data=data, layout=layout)\n",
    "py.iplot(fig)\n"
   ]
  },
  {
   "cell_type": "markdown",
   "metadata": {
    "_cell_guid": "2bab7a80-c963-4938-9de1-786c054ea049",
    "_uuid": "3cd3e4413f3cf79075b32eeb871868f5f47a609e"
   },
   "source": [
    "* **August month** has the second  number of proposals followed by **September month** ."
   ]
  },
  {
   "cell_type": "markdown",
   "metadata": {
    "_cell_guid": "73e9c6c4-b956-4e93-a078-797a77a74931",
    "_uuid": "5a4d7e7f22b5c8c673b082db70f74b8ed4467fc6"
   },
   "source": [
    "### <a id='pswa'>5.9.b Project Submission Weekday Analysis</a>"
   ]
  },
  {
   "cell_type": "code",
   "execution_count": null,
   "metadata": {
    "_cell_guid": "2a9468a1-42fb-4b82-90ac-91ff73af2450",
    "_kg_hide-input": true,
    "_uuid": "f2a4012da2dd1c51b862abf19b8a0bb8eb282d72",
    "collapsed": true
   },
   "outputs": [],
   "source": [
    "temp = train_data[\"weekday_created\"].value_counts()\n",
    "#print(temp.values)\n",
    "temp_y0 = []\n",
    "temp_y1 = []\n",
    "for val in temp.index:\n",
    "    temp_y1.append(np.sum(train_data[\"project_is_approved\"][train_data[\"weekday_created\"]==val] == 1))\n",
    "    temp_y0.append(np.sum(train_data[\"project_is_approved\"][train_data[\"weekday_created\"]==val] == 0))\n",
    " \n",
    "temp.index = [\"Mon\", \"Tue\", \"Wed\", \"Thu\", \"Fri\", \"Sat\", \"Sun\"]\n",
    "trace1 = go.Bar(\n",
    "    x = temp.index,\n",
    "    y = temp_y1,\n",
    "    name='Accepted Proposals'\n",
    ")\n",
    "trace2 = go.Bar(\n",
    "    x = temp.index,\n",
    "    y = temp_y0, \n",
    "    name='Rejected Proposals'\n",
    ")\n",
    "\n",
    "data = [trace1, trace2]\n",
    "layout = go.Layout(\n",
    "    title = \"Project Proposal Submission weekday Distribution\",\n",
    "    barmode='stack',\n",
    "    width = 1000\n",
    ")\n",
    "\n",
    "fig = go.Figure(data=data, layout=layout)\n",
    "py.iplot(fig)"
   ]
  },
  {
   "cell_type": "markdown",
   "metadata": {
    "_cell_guid": "9a6ce942-1d43-4d6d-977d-cd9b09b3f7b9",
    "_uuid": "5e48f73f558fbc1aa190da8939494b872a9deb1f"
   },
   "source": [
    "* The number of proposals decreases as we move towards the end of the week."
   ]
  },
  {
   "cell_type": "markdown",
   "metadata": {
    "_cell_guid": "5b7aa0fc-fac9-418b-beba-e47dc7b628f4",
    "_uuid": "e0ee2418432f2ef70c51d8e35a9c51758e86c7fa"
   },
   "source": [
    "### <a id='psda'>5.9.c Project Submission Date Analysis</a>"
   ]
  },
  {
   "cell_type": "code",
   "execution_count": null,
   "metadata": {
    "_cell_guid": "3086d6e9-6796-456e-8379-ec86ef315f97",
    "_kg_hide-input": true,
    "_uuid": "c4be3550e848449f83f8475020dbfe298f8ef72c",
    "collapsed": true
   },
   "outputs": [],
   "source": [
    "temp = train_data[\"date_created\"].value_counts()\n",
    "#print(temp.values)\n",
    "temp_y0 = []\n",
    "temp_y1 = []\n",
    "for val in temp.index:\n",
    "    temp_y1.append(np.sum(train_data[\"project_is_approved\"][train_data[\"date_created\"]==val] == 1))\n",
    "    temp_y0.append(np.sum(train_data[\"project_is_approved\"][train_data[\"date_created\"]==val] == 0))\n",
    " \n",
    "trace1 = go.Bar(\n",
    "    x = temp.index,\n",
    "    y = temp_y1,\n",
    "    name='Accepted Proposals'\n",
    ")\n",
    "trace2 = go.Bar(\n",
    "    x = temp.index,\n",
    "    y = temp_y0, \n",
    "    name='Rejected Proposals'\n",
    ")\n",
    "\n",
    "data = [trace1, trace2]\n",
    "layout = go.Layout(\n",
    "    title = \"Project Proposal Submission date Distribution\",\n",
    "    barmode='stack',\n",
    "    width = 1000\n",
    ")\n",
    "\n",
    "fig = go.Figure(data=data, layout=layout)\n",
    "py.iplot(fig)"
   ]
  },
  {
   "cell_type": "markdown",
   "metadata": {
    "_cell_guid": "add75395-5e07-4fcf-ab10-052c65f6ff93",
    "_uuid": "5de85bcc23ddc655b4685edbd26a52ca30015558"
   },
   "source": [
    "* Looks like we have approximately one years' worth of data (May 2016 to April 2017) given in the training set.\n",
    "* There is a sudden spike on a single day (Sep 1, 2016) with respect to the number of proposals (may be some specific reason?)"
   ]
  },
  {
   "cell_type": "markdown",
   "metadata": {
    "_cell_guid": "f489d455-bda4-4d73-8fea-56b5ad55f4c0",
    "_uuid": "1e59a3f0e655e28f2ac88a7ab124eb8a33261250"
   },
   "source": [
    "### <a id='psha'>5.9.d Project Submission Hour Analysis</a>"
   ]
  },
  {
   "cell_type": "code",
   "execution_count": null,
   "metadata": {
    "_cell_guid": "fe9eb463-7674-4376-9a9a-e193d50be813",
    "_kg_hide-input": true,
    "_uuid": "062ae899b900d83a029e7c917c54d33826bfd32d",
    "collapsed": true
   },
   "outputs": [],
   "source": [
    "temp = train_data[\"hour_created\"].value_counts()\n",
    "#print(temp.values)\n",
    "temp_y0 = []\n",
    "temp_y1 = []\n",
    "for val in temp.index:\n",
    "    temp_y1.append(np.sum(train_data[\"project_is_approved\"][train_data[\"hour_created\"]==val] == 1))\n",
    "    temp_y0.append(np.sum(train_data[\"project_is_approved\"][train_data[\"hour_created\"]==val] == 0))\n",
    " \n",
    "trace1 = go.Bar(\n",
    "    x = temp.index,\n",
    "    y = temp_y1,\n",
    "    name='Accepted Proposals'\n",
    ")\n",
    "trace2 = go.Bar(\n",
    "    x = temp.index,\n",
    "    y = temp_y0, \n",
    "    name='Rejected Proposals'\n",
    ")\n",
    "\n",
    "data = [trace1, trace2]\n",
    "layout = go.Layout(\n",
    "    title = \"Project Proposal Submission Hour Distribution\",\n",
    "    barmode='stack',\n",
    "    width = 1000\n",
    ")\n",
    "\n",
    "fig = go.Figure(data=data, layout=layout)\n",
    "py.iplot(fig)"
   ]
  },
  {
   "cell_type": "markdown",
   "metadata": {
    "_cell_guid": "b9d5780f-0bbe-4de9-bf9b-bf71a2c75774",
    "_uuid": "3c67647886bd6b8f70169d553b14af40799cf78b"
   },
   "source": [
    "* From Hours 03 to 05, number of proposals decreases.\n",
    "* Hours 06 to 14, number of proposals increases.\n",
    "* At Hour 14 has more number of proposals."
   ]
  },
  {
   "cell_type": "markdown",
   "metadata": {
    "_cell_guid": "c34a89d0-364a-4769-ac2e-6a1d0a335344",
    "_uuid": "4ab513da2d0afab3752df724de7966fcd76e47d1"
   },
   "source": [
    "## <a id='tkips1'>5.10 Top Keywords in project_essay_1</a>"
   ]
  },
  {
   "cell_type": "code",
   "execution_count": null,
   "metadata": {
    "_cell_guid": "21449073-4d7a-4be3-9a10-c8904f3c1c45",
    "_kg_hide-input": true,
    "_uuid": "a15fc6cf1e4a58e936a45f98b58bd64dfb523df1",
    "collapsed": true
   },
   "outputs": [],
   "source": [
    "temp_data = train_data.dropna(subset=['project_essay_1'])\n",
    "# converting into lowercase\n",
    "temp_data['project_essay_1'] = temp_data['project_essay_1'].apply(lambda x: \" \".join(x.lower() for x in x.split()))\n",
    "temp_data['project_essay_1'] = temp_data['project_essay_1'].map(text_prepare)\n",
    "\n",
    "\n",
    "from wordcloud import WordCloud\n",
    "\n",
    "wordcloud = WordCloud(max_font_size=50, width=600, height=300).generate(' '.join(temp_data['project_essay_1'].values))\n",
    "plt.figure(figsize=(15,8))\n",
    "plt.imshow(wordcloud)\n",
    "plt.title(\"Top Keywords in project_essay_1\", fontsize=35)\n",
    "plt.axis(\"off\")\n",
    "plt.show() "
   ]
  },
  {
   "cell_type": "markdown",
   "metadata": {
    "_cell_guid": "d37646fa-a2a9-4bfa-8090-9deb7e74da74",
    "_uuid": "b369809e881dbb6ccf16bb694e6c1cbd28509a75"
   },
   "source": [
    "## <a id='tkipe2'>5.11 Top keywords in project_essay_2</a>"
   ]
  },
  {
   "cell_type": "code",
   "execution_count": null,
   "metadata": {
    "_cell_guid": "0962bcba-c354-40ea-9be9-d25cfeefd3f1",
    "_kg_hide-input": true,
    "_uuid": "a2e2f591beace376a2f70bc546c6f97d61d2b2be",
    "collapsed": true
   },
   "outputs": [],
   "source": [
    "temp_data = train_data.dropna(subset=['project_essay_2'])\n",
    "# converting into lowercase\n",
    "temp_data['project_essay_2'] = temp_data['project_essay_2'].apply(lambda x: \" \".join(x.lower() for x in x.split()))\n",
    "temp_data['project_essay_2'] = temp_data['project_essay_2'].map(text_prepare)\n",
    "\n",
    "\n",
    "from wordcloud import WordCloud\n",
    "\n",
    "wordcloud = WordCloud(max_font_size=50, width=600, height=300).generate(' '.join(temp_data['project_essay_2'].values))\n",
    "plt.figure(figsize=(15,8))\n",
    "plt.imshow(wordcloud)\n",
    "plt.title(\"Top Keywords in project_essay_2\", fontsize=35)\n",
    "plt.axis(\"off\")\n",
    "plt.show() "
   ]
  },
  {
   "cell_type": "markdown",
   "metadata": {
    "_cell_guid": "14010bc8-fcdf-423f-9f98-ca4d0d9d1c8b",
    "_uuid": "c250c696bd239b9e0e062fba3c3915aef1fdd1e7"
   },
   "source": [
    "## <a id='tkinprs'>5.12 Top Keywords in project_resource_summary</a>"
   ]
  },
  {
   "cell_type": "code",
   "execution_count": null,
   "metadata": {
    "_cell_guid": "c12c5216-a4f4-4641-b42a-8b95dfc29034",
    "_kg_hide-input": true,
    "_uuid": "8b371e7a59849a05e4ffc1059aadca8d4f85605b",
    "collapsed": true
   },
   "outputs": [],
   "source": [
    "temp_data = train_data.dropna(subset=['project_resource_summary'])\n",
    "# converting into lowercase\n",
    "temp_data['project_resource_summary'] = temp_data['project_resource_summary'].apply(lambda x: \" \".join(x.lower() for x in x.split()))\n",
    "temp_data['project_resource_summary'] = temp_data['project_resource_summary'].map(text_prepare)\n",
    "\n",
    "\n",
    "from wordcloud import WordCloud\n",
    "\n",
    "wordcloud = WordCloud(max_font_size=50, width=600, height=300).generate(' '.join(temp_data['project_resource_summary'].values))\n",
    "plt.figure(figsize=(15,8))\n",
    "plt.imshow(wordcloud)\n",
    "plt.title(\"Top Keywords in project_resource_summary2\", fontsize=35)\n",
    "plt.axis(\"off\")\n",
    "plt.show() "
   ]
  },
  {
   "cell_type": "markdown",
   "metadata": {
    "_cell_guid": "ce4346fb-6ca9-42f0-9b85-d061b3be8db1",
    "_uuid": "caba5181073acf037eccb6116c19b98df7d4ffba"
   },
   "source": [
    "##  <a id='qvp'>5.13 Quantity V.S. Price</a>"
   ]
  },
  {
   "cell_type": "code",
   "execution_count": null,
   "metadata": {
    "_cell_guid": "75eddb52-e5ed-4016-86bb-ac2193ef7ee4",
    "_kg_hide-input": true,
    "_uuid": "e9c35330d58a471785a2e8b7b69394512e6ee0d6",
    "collapsed": true
   },
   "outputs": [],
   "source": [
    "#iplot([go.Scatter(x=train_resource['quantity'], y=train_resource['price'], mode='markers')])\n",
    "iplot([go.Histogram2dContour(x=train_resource.head(1000)['quantity'], \n",
    "                             y=train_resource.head(1000)['price'], \n",
    "                             contours=go.Contours(coloring='heatmap')),\n",
    "       go.Scatter(x=train_resource.head(5000)['quantity'], y=train_resource.head(1000)['price'], mode='markers')])"
   ]
  },
  {
   "cell_type": "code",
   "execution_count": null,
   "metadata": {
    "_cell_guid": "98647912-a8df-4591-956a-1aa254b2d747",
    "_kg_hide-input": true,
    "_uuid": "db09c6fca7c7fbb7d2c5e129065889d3e1051c7b",
    "collapsed": true
   },
   "outputs": [],
   "source": [
    "populated_states = train_resource[:50]\n",
    "\n",
    "data = [go.Scatter(\n",
    "    y = populated_states['quantity'],\n",
    "    x = populated_states['price'],\n",
    "    mode='markers+text',\n",
    "    marker=dict(\n",
    "        size= np.log(populated_states.price) - 2,\n",
    "        color=populated_states['quantity'],\n",
    "        colorscale='Portland',\n",
    "        showscale=True\n",
    "    ),\n",
    "    text=populated_states['school_state'],\n",
    "    textposition=[\"top center\"]\n",
    ")]\n",
    "layout = go.Layout(\n",
    "    title='Quantity V.S. Price',\n",
    "    xaxis= dict(title='price'),\n",
    "    yaxis=dict(title='Quantity')\n",
    ")\n",
    "fig = go.Figure(data=data, layout=layout)\n",
    "py.iplot(fig)"
   ]
  },
  {
   "cell_type": "markdown",
   "metadata": {
    "_cell_guid": "4f95fd02-3f42-4b7f-bda7-61d0650ab093",
    "_uuid": "f37a553f3ace48aac095207d7a545ad959fea2a2"
   },
   "source": [
    "## <a id ='gapc'> 5.14 Gender Analysis</a>"
   ]
  },
  {
   "cell_type": "markdown",
   "metadata": {
    "_cell_guid": "49094703-7fce-48b6-8b03-4f177f9a7353",
    "_uuid": "cd5f5a096391d49b614219ba58644427a2ba855e"
   },
   "source": [
    "We will create a new column from teacher_prefix and mapping follow as :\n",
    "\n",
    "* Mrs, Ms --> Female\n",
    "* Mr. --> Male\n",
    "* Teacher, Dr --> Unknown"
   ]
  },
  {
   "cell_type": "code",
   "execution_count": null,
   "metadata": {
    "_cell_guid": "3a7761b9-9f8f-4657-9ecb-afefb4a1f2a8",
    "_kg_hide-input": true,
    "_uuid": "a37926da330c860f05efc5999079cc1f880794b4",
    "collapsed": true
   },
   "outputs": [],
   "source": [
    "# Creating the gender column\n",
    "gender_mapping = {\"Mrs.\": \"Female\", \"Ms.\":\"Female\", \"Mr.\":\"Male\", \"Teacher\":\"Unknown\", \"Dr.\":\"Unknown\", np.nan:\"Unknown\"  }\n",
    "train_data[\"gender\"] = train_data.teacher_prefix.map(gender_mapping)\n",
    "test_data[\"gender\"] = test_data.teacher_prefix.map(gender_mapping)\n",
    "train_resource[\"gender\"] = train_resource.teacher_prefix.map(gender_mapping)\n",
    "test_resource[\"gender\"] = test_resource.teacher_prefix.map(gender_mapping)"
   ]
  },
  {
   "cell_type": "code",
   "execution_count": null,
   "metadata": {
    "_cell_guid": "7a49e0de-d9b9-46d5-843a-1bf12eae7a77",
    "_kg_hide-input": true,
    "_uuid": "29e4ad6ad03f06163e0d92e7225f4074cb3351d9",
    "collapsed": true
   },
   "outputs": [],
   "source": [
    "temp = train_data[\"gender\"].value_counts()\n",
    "trace = go.Bar(\n",
    "    x = temp.index,\n",
    "    y = (temp / temp.sum())*100,\n",
    ")\n",
    "data = [trace]\n",
    "layout = go.Layout(\n",
    "    title = \"Gender in terms of projects proposals submitted in % \",\n",
    "    xaxis=dict(\n",
    "        title='Gender',\n",
    "        tickfont=dict(\n",
    "            size=14,\n",
    "            color='rgb(107, 107, 107)'\n",
    "        )\n",
    "    ),\n",
    "    yaxis=dict(\n",
    "        title='Count of project proposals submitted in % ',\n",
    "        titlefont=dict(\n",
    "            size=16,\n",
    "            color='rgb(107, 107, 107)'\n",
    "        ),\n",
    "        tickfont=dict(\n",
    "            size=14,\n",
    "            color='rgb(107, 107, 107)'\n",
    "        )\n",
    ")\n",
    ")\n",
    "fig = go.Figure(data=data, layout=layout)\n",
    "py.iplot(fig)"
   ]
  },
  {
   "cell_type": "markdown",
   "metadata": {
    "_cell_guid": "af8c8d85-c544-444c-a01d-afb5d86961e8",
    "_uuid": "658dd388b704f10751d0619e1e66d33f812a8f8e"
   },
   "source": [
    "* Female having more count which is approx. **88 %** than Male which has **10 %** in terms of projects proposals submissions."
   ]
  },
  {
   "cell_type": "markdown",
   "metadata": {
    "_cell_guid": "f6abbffa-0bf5-4770-8628-c783843d428f",
    "_uuid": "18a6acdfc8bfd22d308964a08dd3b6a8aa9fa94c"
   },
   "source": [
    "# <a id='mwdppes'>5.15 Month wise distribution of number of projects proposal submitted in each state</a>"
   ]
  },
  {
   "cell_type": "code",
   "execution_count": null,
   "metadata": {
    "_cell_guid": "3f4243d9-7b9e-4dcb-9e8e-a322cea96a33",
    "_kg_hide-input": true,
    "_uuid": "b7be26d28721400be13f70fd09f4a811c14abbd7",
    "collapsed": true
   },
   "outputs": [],
   "source": [
    "#train_data['Month_wise'] = kiva_loans_data.date.dt.year\n",
    "train_resource[\"project_submitted_datetime\"] = pd.to_datetime(train_resource[\"project_submitted_datetime\"])\n",
    "train_resource[\"month_created\"] = train_resource[\"project_submitted_datetime\"].dt.month\n",
    "loan = train_resource.groupby(['school_state', 'month_created'])['price'].mean().unstack()\n",
    "loan = loan.sort_values([3], ascending=False)\n",
    "f, ax = plt.subplots(figsize=(15, 20)) \n",
    "loan = loan.fillna(0)\n",
    "temp = sns.heatmap(loan, cmap='Reds')\n",
    "plt.show()"
   ]
  },
  {
   "cell_type": "markdown",
   "metadata": {
    "_cell_guid": "d262cbb3-25ee-4d9e-b117-de1d2ef02355",
    "_uuid": "ac846026ffc98f3f22d2424ccefe82fccc0c8855"
   },
   "source": [
    "* USA state **WY** was having more price requested for resources in **March** month than others."
   ]
  },
  {
   "cell_type": "markdown",
   "metadata": {
    "_cell_guid": "496d2e3a-38a6-41ac-bf2f-fb355c525c88",
    "_uuid": "dd22d51cd15082f3c05e68dc7d99083f43434d9f"
   },
   "source": [
    "## <a id='prfrd'>5.16 Price requested for resources distribution</a>"
   ]
  },
  {
   "cell_type": "markdown",
   "metadata": {
    "_cell_guid": "71286018-e331-44a9-9fac-a1d5688ff93a",
    "_kg_hide-input": true,
    "_uuid": "42996b6a1483f6e02f4ae1338a26ebdfbe182ff9"
   },
   "source": [
    "### <a id='prfrbds'>5.16.a Price requested for resources distribution by different states</a>"
   ]
  },
  {
   "cell_type": "code",
   "execution_count": null,
   "metadata": {
    "_cell_guid": "82a59d6e-0523-4bf6-9af1-58c949a5dc78",
    "_kg_hide-input": true,
    "_uuid": "e3f8bec47929e7b74e6d697fd635d40b280a98ee",
    "collapsed": true
   },
   "outputs": [],
   "source": [
    "# trace = []\n",
    "# for name, group in train_resource.groupby(\"school_state\"):\n",
    "#     trace.append ( \n",
    "#         go.Box(\n",
    "#             x=group[\"price\"].values,\n",
    "#             name=name\n",
    "#         )\n",
    "#     )\n",
    "# layout = go.Layout(\n",
    "#     title='price requested for resources distributiom by different states ',\n",
    "#     width = 800,\n",
    "#     height = 800\n",
    "# )\n",
    "# #data = [trace0, trace1]\n",
    "# fig = go.Figure(data=trace, layout=layout)\n",
    "# py.iplot(fig)"
   ]
  },
  {
   "cell_type": "markdown",
   "metadata": {
    "_cell_guid": "2895761b-5905-406f-a24d-3cd372e0c974",
    "_uuid": "e7189a9e6747877ef71a2d96e1a07c38f5c66e79"
   },
   "source": [
    "* As we can see most of the price requested for resources is between **0 to 2k dollar**."
   ]
  },
  {
   "cell_type": "markdown",
   "metadata": {
    "_cell_guid": "c0898c67-7568-4970-9271-8202474acb4a",
    "_uuid": "184f9a4e371d5d0ebca0571d9ed0aff6e81a8bd6"
   },
   "source": [
    "### <a id='prfrbtp'>5.16.b Price requested for resources distribution by Teacher prefixes</a>"
   ]
  },
  {
   "cell_type": "code",
   "execution_count": null,
   "metadata": {
    "_cell_guid": "2b6ebeb9-b182-4de4-9108-194ebbd26809",
    "_kg_hide-input": true,
    "_uuid": "dbac57c445276967197bc9be0ac17d6439166131",
    "collapsed": true
   },
   "outputs": [],
   "source": [
    "# trace = []\n",
    "# for name, group in train_resource.groupby(\"teacher_prefix\"):\n",
    "#     trace.append ( \n",
    "#         go.Box(\n",
    "#             x=group[\"price\"].values,\n",
    "#             name=name\n",
    "#         )\n",
    "#     )\n",
    "# layout = go.Layout(\n",
    "#     title='price requested for resources distributiom by techer_prefixes ',\n",
    "#     width = 800,\n",
    "#     height = 800\n",
    "# )\n",
    "# #data = [trace0, trace1]\n",
    "# fig = go.Figure(data=trace, layout=layout)\n",
    "# py.iplot(fig)"
   ]
  },
  {
   "cell_type": "markdown",
   "metadata": {
    "_cell_guid": "9d1fb058-66da-4eb5-b304-8701e2f8f61e",
    "_uuid": "d1c5c2c9c7685d6d815bd32d7f90bdc0612c463c"
   },
   "source": [
    "* Mostly price requested for resources is \n",
    "   * 0 to 2k Dollar by **teacher** prefix\n",
    "   * 0 to 4k Dolar by **Ms. , Mrs. and Mr.** prefixes \n",
    "   * 0 to 500 Dollar by **Dr.** prefix."
   ]
  },
  {
   "cell_type": "markdown",
   "metadata": {
    "_cell_guid": "56a1b866-0d56-4205-8b52-ad1f5cdc0d93",
    "_uuid": "7c8de8af81bec5b208574ac978a5cbae53e75329"
   },
   "source": [
    "### <a id='prfrddga'>5.16.c Price requested for resources distribution by different Genders</a>"
   ]
  },
  {
   "cell_type": "code",
   "execution_count": null,
   "metadata": {
    "_cell_guid": "91a50852-f4fb-46cb-89d6-ed1dda976e16",
    "_kg_hide-input": true,
    "_uuid": "6095aaaf47da73fdd9966db7b33ef9b9bfc32d0f",
    "collapsed": true
   },
   "outputs": [],
   "source": [
    "# trace = []\n",
    "# for name, group in train_resource.groupby(\"gender\"):\n",
    "#     trace.append ( \n",
    "#         go.Box(\n",
    "#             x=group[\"price\"].values,\n",
    "#             name=name\n",
    "#         )\n",
    "#     )\n",
    "# layout = go.Layout(\n",
    "#     title='price requested for resources distributiom by different genders ',\n",
    "#     width = 800,\n",
    "#     height = 800\n",
    "# )\n",
    "# #data = [trace0, trace1]\n",
    "# fig = go.Figure(data=trace, layout=layout)\n",
    "# py.iplot(fig)"
   ]
  },
  {
   "cell_type": "markdown",
   "metadata": {
    "_cell_guid": "4b6e1cd3-e82e-4dcd-a738-b8ab8dee5992",
    "_uuid": "0d35dbf220cd5f1e6a05b7cf36f01b1f738cd77b"
   },
   "source": [
    "* Mostly price requested for resources is \n",
    "   * 0 to 2k Dollar by **Unknowns**\n",
    "   * 0 to 4k Dolar by **Males** \n",
    "   * 0 to 5k Dollar by **Females**."
   ]
  },
  {
   "cell_type": "markdown",
   "metadata": {
    "_cell_guid": "43c6d4c7-6976-49a2-9632-cda5e75ed976",
    "_uuid": "dafd204e522189d976701fee7372376db31aa613"
   },
   "source": [
    "### <a id='prfrddpgc'>5.16.d Price requested for resources distribution by different project_grade_category</a>"
   ]
  },
  {
   "cell_type": "code",
   "execution_count": null,
   "metadata": {
    "_cell_guid": "b2d772db-83e5-455a-b981-7700e0197c71",
    "_kg_hide-input": true,
    "_uuid": "127893c61aafb1c8d51bc45bc27bd0938392fb55",
    "collapsed": true
   },
   "outputs": [],
   "source": [
    "# trace = []\n",
    "# for name, group in train_resource.groupby(\"project_grade_category\"):\n",
    "#     trace.append ( \n",
    "#         go.Box(\n",
    "#             x=group[\"price\"].values,\n",
    "#             name=name\n",
    "#         )\n",
    "#     )\n",
    "# layout = go.Layout(\n",
    "#     title='price requested for resources distributiom by different project_grade_categories ',\n",
    "#     width = 800,\n",
    "#     height = 800\n",
    "# )\n",
    "# #data = [trace0, trace1]\n",
    "# fig = go.Figure(data=trace, layout=layout)\n",
    "# py.iplot(fig)"
   ]
  },
  {
   "cell_type": "markdown",
   "metadata": {
    "_cell_guid": "7bf9da4f-77f4-43f8-9ee9-6cf7cb0610b8",
    "_uuid": "1b6cd4ae65bfa949da282e906fcb626cdc0ccd02"
   },
   "source": [
    "* Mostly price requested for resources is between approx. ** 0 to 4k** **Dollar**  for all type of project grade categories."
   ]
  },
  {
   "cell_type": "markdown",
   "metadata": {
    "_cell_guid": "5323ddee-4eb9-4f8c-b25b-ccd70b4e15c7",
    "_uuid": "c04ebb1fd3675441ca1bf35e67d1b400143c40ca"
   },
   "source": [
    "## <a id='ca'>5.17 CA(California)</a>"
   ]
  },
  {
   "cell_type": "markdown",
   "metadata": {
    "_cell_guid": "eb15f89d-0795-4337-afe9-969f044e7c90",
    "_uuid": "53059b3c02d21adb45f53eaf2a9bfd25160d6f2e"
   },
   "source": [
    "### <a id='potpic'>5.17.a Popularities of Teacher prefixes in California</a>"
   ]
  },
  {
   "cell_type": "code",
   "execution_count": null,
   "metadata": {
    "_cell_guid": "95e91950-8b29-4d93-9ac8-29d2fd2fd91f",
    "_kg_hide-input": true,
    "_uuid": "fbeefe636306db9aebba38c0d004cce3079a23c0",
    "collapsed": true
   },
   "outputs": [],
   "source": [
    "temp1 = pd.DataFrame(train_data[train_data[\"school_state\"]=='CA'])\n",
    "temp = temp1[\"teacher_prefix\"].value_counts()\n",
    "temp_y0 = []\n",
    "temp_y1 = []\n",
    "for val in temp.index:\n",
    "    temp_y1.append(np.sum(train_data[\"project_is_approved\"][train_data[\"teacher_prefix\"]==val] == 1))\n",
    "    temp_y0.append(np.sum(train_data[\"project_is_approved\"][train_data[\"teacher_prefix\"]==val] == 0))    \n",
    "trace1 = go.Bar(\n",
    "    x = temp.index,\n",
    "    y = temp_y1,\n",
    "    name='Accepted Proposals'\n",
    ")\n",
    "trace2 = go.Bar(\n",
    "    x = temp.index,\n",
    "    y = temp_y0, \n",
    "    name='Rejected Proposals'\n",
    ")\n",
    "\n",
    "data = [trace1, trace2]\n",
    "layout = go.Layout(\n",
    "    title = \"Popular Teacher prefixes in terms of project proposal approved or not in California\",\n",
    "    barmode='stack',\n",
    "    width = 1000\n",
    ")\n",
    "\n",
    "fig = go.Figure(data=data, layout=layout)\n",
    "py.iplot(fig)"
   ]
  },
  {
   "cell_type": "markdown",
   "metadata": {
    "_cell_guid": "a31310b6-180e-4e38-8948-9620957e66d8",
    "_uuid": "c643c79eb37788c97a769712bd24eebca946278d"
   },
   "source": [
    "### <a id='posglic'>5.17.b Popularities of school grade levels in California</a>"
   ]
  },
  {
   "cell_type": "code",
   "execution_count": null,
   "metadata": {
    "_cell_guid": "94dba20a-cafd-46a2-a23d-7cbaf9cb0e73",
    "_kg_hide-input": true,
    "_uuid": "6585227a91d6a1ae88a8d241c474d61f72edc467",
    "collapsed": true
   },
   "outputs": [],
   "source": [
    "temp = temp1[\"project_grade_category\"].value_counts()\n",
    "#print(temp.values)\n",
    "temp_y0 = []\n",
    "temp_y1 = []\n",
    "for val in temp.index:\n",
    "    temp_y1.append(np.sum(train_data[\"project_is_approved\"][train_data[\"project_grade_category\"]==val] == 1))\n",
    "    temp_y0.append(np.sum(train_data[\"project_is_approved\"][train_data[\"project_grade_category\"]==val] == 0))    \n",
    "trace1 = go.Bar(\n",
    "    x = temp.index,\n",
    "    y = temp_y1,\n",
    "    name='Accepted Proposals'\n",
    ")\n",
    "trace2 = go.Bar(\n",
    "    x = temp.index,\n",
    "    y = temp_y0, \n",
    "    name='Rejected Proposals'\n",
    ")\n",
    "\n",
    "data = [trace1, trace2]\n",
    "layout = go.Layout(\n",
    "    title = \"Popular school grade levels in terms of project proposal approved or not in California\",\n",
    "    barmode='stack',\n",
    "    width = 1000\n",
    ")\n",
    "\n",
    "fig = go.Figure(data=data, layout=layout)\n",
    "py.iplot(fig)"
   ]
  },
  {
   "cell_type": "markdown",
   "metadata": {
    "_cell_guid": "bf479b70-41ee-4de9-afcb-1058a04d667b",
    "_uuid": "a71f8b1700cb5eb6784fb7a602a707ee4114762f"
   },
   "source": [
    "### <a id='tptic'>5.17.c Top project titles in California</a>"
   ]
  },
  {
   "cell_type": "code",
   "execution_count": null,
   "metadata": {
    "_cell_guid": "cdc29607-f28c-4a5f-8cb4-d37c980beba8",
    "_kg_hide-input": true,
    "_uuid": "65ba9de4b70cfacd6487cd91feac216982099d6f",
    "collapsed": true
   },
   "outputs": [],
   "source": [
    "project_title_data = temp1['project_title']\n",
    "percentages = round(project_title_data.value_counts() / len(project_title_data) * 100, 2)[:13]\n",
    "trace = go.Pie(labels=percentages.keys(), values=percentages.values, hoverinfo='label+percent', \n",
    "                textfont=dict(size=18, color='#000000'))\n",
    "data = [trace]\n",
    "layout = go.Layout(width=800, height=800, title='Top project titles in California',titlefont= dict(size=20), \n",
    "                   legend=dict(x=0.1,y=-5))\n",
    "\n",
    "fig = go.Figure(data=data, layout=layout)\n",
    "offline.iplot(fig, show_link=False)"
   ]
  },
  {
   "cell_type": "markdown",
   "metadata": {
    "_cell_guid": "3167104b-6fb9-4da1-9751-77365dd9b073",
    "_uuid": "fb7a47cd63c5067075bf7308c4bcf0eb9475e7c1"
   },
   "source": [
    "### <a id='topstic'>5.17.d Trend of project submission time in California</a>"
   ]
  },
  {
   "cell_type": "code",
   "execution_count": null,
   "metadata": {
    "_cell_guid": "0466ae63-3f91-4eed-a7f3-57f60d380f13",
    "_kg_hide-input": true,
    "_uuid": "6e4573a32c0ba39b69ecc5c7ba23eaf3de8bd1e1",
    "collapsed": true
   },
   "outputs": [],
   "source": [
    "temp = temp1[\"date_created\"].value_counts()\n",
    "#print(temp.values)\n",
    "temp_y0 = []\n",
    "temp_y1 = []\n",
    "for val in temp.index:\n",
    "    temp_y1.append(np.sum(train_data[\"project_is_approved\"][train_data[\"date_created\"]==val] == 1))\n",
    "    temp_y0.append(np.sum(train_data[\"project_is_approved\"][train_data[\"date_created\"]==val] == 0))\n",
    "    \n",
    "trace1 = go.Bar(\n",
    "    x = temp.index,\n",
    "    y = temp_y1,\n",
    "    name='Accepted Proposals'\n",
    ")\n",
    "trace2 = go.Bar(\n",
    "    x = temp.index,\n",
    "    y = temp_y0, \n",
    "    name='Rejected Proposals'\n",
    ")\n",
    "\n",
    "data = [trace1, trace2]\n",
    "layout = go.Layout(\n",
    "    title = \"Project Proposal Submission Date Distribution in California\",\n",
    "    barmode='stack',\n",
    "    width = 1000\n",
    ")\n",
    "\n",
    "fig = go.Figure(data=data, layout=layout)\n",
    "py.iplot(fig)\n"
   ]
  },
  {
   "cell_type": "markdown",
   "metadata": {
    "_cell_guid": "dddf9bef-408d-43c9-82ca-fb2fd7e3f991",
    "_uuid": "60312466b40ffe9f834c3749e8a67bcf849c7f6a"
   },
   "source": [
    "## <a id='TX'>5.18 TX(Texas)</a>"
   ]
  },
  {
   "cell_type": "markdown",
   "metadata": {
    "_cell_guid": "e07d0f43-bb0e-4e68-a83e-b65167b811f0",
    "_uuid": "5161dafb47d1a8b0db7556cfe942523d87d1fcf2"
   },
   "source": [
    "### <a id='potpit'>5.18.a Popularities of Teacher prefixes in Texas</a>"
   ]
  },
  {
   "cell_type": "code",
   "execution_count": null,
   "metadata": {
    "_cell_guid": "6bf40716-6c6e-4c0c-bef3-694c023038d5",
    "_kg_hide-input": true,
    "_uuid": "139f4d4e93208e5d676ece9999d9114423e1eb71",
    "collapsed": true
   },
   "outputs": [],
   "source": [
    "temp1 = pd.DataFrame(train_data[train_data[\"school_state\"]=='TX'])\n",
    "temp = temp1[\"teacher_prefix\"].value_counts()\n",
    "temp_y0 = []\n",
    "temp_y1 = []\n",
    "for val in temp.index:\n",
    "    temp_y1.append(np.sum(train_data[\"project_is_approved\"][train_data[\"teacher_prefix\"]==val] == 1))\n",
    "    temp_y0.append(np.sum(train_data[\"project_is_approved\"][train_data[\"teacher_prefix\"]==val] == 0))    \n",
    "trace1 = go.Bar(\n",
    "    x = temp.index,\n",
    "    y = temp_y1,\n",
    "    name='Accepted Proposals'\n",
    ")\n",
    "trace2 = go.Bar(\n",
    "    x = temp.index,\n",
    "    y = temp_y0, \n",
    "    name='Rejected Proposals'\n",
    ")\n",
    "\n",
    "data = [trace1, trace2]\n",
    "layout = go.Layout(\n",
    "    title = \"Popular Teacher prefixes in terms of project proposal approved or not in Texas\",\n",
    "    barmode='stack',\n",
    "    width = 1000\n",
    ")\n",
    "\n",
    "fig = go.Figure(data=data, layout=layout)\n",
    "py.iplot(fig)"
   ]
  },
  {
   "cell_type": "markdown",
   "metadata": {
    "_cell_guid": "b5a874ee-c94e-4c29-a8c1-a7362d7c7955",
    "_uuid": "d8400d234f1e57a7b6790286febf061cb3999b7c"
   },
   "source": [
    "### <a id='posglit'>5.18.b Popularities of school grade levels in Texas</a>"
   ]
  },
  {
   "cell_type": "code",
   "execution_count": null,
   "metadata": {
    "_cell_guid": "602b7a0b-fc1d-4a59-b8ef-932db89eb1d6",
    "_kg_hide-input": true,
    "_uuid": "e5f6d5cfcc5407a168bc98447352304302fb585d",
    "collapsed": true
   },
   "outputs": [],
   "source": [
    "temp = temp1[\"project_grade_category\"].value_counts()\n",
    "#print(temp.values)\n",
    "temp_y0 = []\n",
    "temp_y1 = []\n",
    "for val in temp.index:\n",
    "    temp_y1.append(np.sum(train_data[\"project_is_approved\"][train_data[\"project_grade_category\"]==val] == 1))\n",
    "    temp_y0.append(np.sum(train_data[\"project_is_approved\"][train_data[\"project_grade_category\"]==val] == 0))    \n",
    "trace1 = go.Bar(\n",
    "    x = temp.index,\n",
    "    y = temp_y1,\n",
    "    name='Accepted Proposals'\n",
    ")\n",
    "trace2 = go.Bar(\n",
    "    x = temp.index,\n",
    "    y = temp_y0, \n",
    "    name='Rejected Proposals'\n",
    ")\n",
    "\n",
    "data = [trace1, trace2]\n",
    "layout = go.Layout(\n",
    "    title = \"Popular school grade levels in terms of project proposal approved or not in Texas\",\n",
    "    barmode='stack',\n",
    "    width = 1000\n",
    ")\n",
    "\n",
    "fig = go.Figure(data=data, layout=layout)\n",
    "py.iplot(fig)"
   ]
  },
  {
   "cell_type": "markdown",
   "metadata": {
    "_cell_guid": "dca06f14-a8df-43db-834d-36af4eaf89f4",
    "_uuid": "38706fd983c76dfbcfe7b757b12b9bca07186d1d"
   },
   "source": [
    "### <a id='tptit'>5.18.c Top project titles in Texas</a>"
   ]
  },
  {
   "cell_type": "code",
   "execution_count": null,
   "metadata": {
    "_cell_guid": "cba823f5-087a-45dc-8565-c499beb2dfa0",
    "_kg_hide-input": true,
    "_uuid": "30ae0de865ab53db4806c0e256be78cb6b4cf0f7",
    "collapsed": true
   },
   "outputs": [],
   "source": [
    "project_title_data = temp1['project_title']\n",
    "percentages = round(project_title_data.value_counts() / len(project_title_data) * 100, 2)[:13]\n",
    "trace = go.Pie(labels=percentages.keys(), values=percentages.values, hoverinfo='label+percent', \n",
    "                textfont=dict(size=18, color='#000000'))\n",
    "data = [trace]\n",
    "layout = go.Layout(width=800, height=800, title='Top project titles in Texas',titlefont= dict(size=20), \n",
    "                   legend=dict(x=0.1,y=-5))\n",
    "\n",
    "fig = go.Figure(data=data, layout=layout)\n",
    "offline.iplot(fig, show_link=False)"
   ]
  },
  {
   "cell_type": "markdown",
   "metadata": {
    "_cell_guid": "006335c0-da2c-40da-88c0-65c8ba2ef32d",
    "_uuid": "2576be4f33355dedbe7d6ea3c178183c09bf1779"
   },
   "source": [
    "### <a id='topstit'>5.18.d Trend of project submission time in Texas</a>"
   ]
  },
  {
   "cell_type": "code",
   "execution_count": null,
   "metadata": {
    "_cell_guid": "ba6264d2-b5c8-44fd-89ac-0debf87bcd42",
    "_kg_hide-input": true,
    "_uuid": "c95be2a5f5a85c7b458f8f7684bfc96cf81b04fe",
    "collapsed": true
   },
   "outputs": [],
   "source": [
    "temp = temp1[\"date_created\"].value_counts()\n",
    "#print(temp.values)\n",
    "temp_y0 = []\n",
    "temp_y1 = []\n",
    "for val in temp.index:\n",
    "    temp_y1.append(np.sum(train_data[\"project_is_approved\"][train_data[\"date_created\"]==val] == 1))\n",
    "    temp_y0.append(np.sum(train_data[\"project_is_approved\"][train_data[\"date_created\"]==val] == 0))\n",
    "    \n",
    "trace1 = go.Bar(\n",
    "    x = temp.index,\n",
    "    y = temp_y1,\n",
    "    name='Accepted Proposals'\n",
    ")\n",
    "trace2 = go.Bar(\n",
    "    x = temp.index,\n",
    "    y = temp_y0, \n",
    "    name='Rejected Proposals'\n",
    ")\n",
    "\n",
    "data = [trace1, trace2]\n",
    "layout = go.Layout(\n",
    "    title = \"Project Proposal Submission Date Distribution in Texas\",\n",
    "    barmode='stack',\n",
    "    width = 1000\n",
    ")\n",
    "\n",
    "fig = go.Figure(data=data, layout=layout)\n",
    "py.iplot(fig)"
   ]
  },
  {
   "cell_type": "markdown",
   "metadata": {
    "_cell_guid": "374cb47b-dd72-497d-afe7-d02ac6f96999",
    "_uuid": "473829584d44a1c02a5014d97aad3139922ef7c6"
   },
   "source": [
    "# <a id='fea'>6. Feature Engineering</a>"
   ]
  },
  {
   "cell_type": "code",
   "execution_count": null,
   "metadata": {
    "_cell_guid": "ddef879f-cc2b-48a9-9407-f0a8539c3656",
    "_kg_hide-input": true,
    "_uuid": "648778e3d574c27665347fedde973d30de5013bb",
    "collapsed": true
   },
   "outputs": [],
   "source": [
    "cols_to_use = ['id','teacher_id','teacher_prefix','school_state','project_submitted_datetime','project_grade_category',\n",
    "               'project_subject_categories','project_subject_subcategories','project_title','project_essay_1','project_essay_2',\n",
    "               'project_resource_summary','teacher_number_of_previously_posted_projects']\n",
    "y=train_data['project_is_approved']"
   ]
  },
  {
   "cell_type": "code",
   "execution_count": null,
   "metadata": {
    "_cell_guid": "eafb7b89-6447-4e23-bfea-85e8240707a7",
    "_kg_hide-input": true,
    "_uuid": "26122cef7163474195c72c35e16490d79fa66672",
    "collapsed": true
   },
   "outputs": [],
   "source": [
    "train_data = train_data[cols_to_use]\n",
    "test_data = test_data[cols_to_use]"
   ]
  },
  {
   "cell_type": "markdown",
   "metadata": {
    "_cell_guid": "335a2f1f-a437-47e2-83ad-b5175d933fde",
    "_uuid": "aa27596d905b6bf4c185dadcf3bc1e772605c21b"
   },
   "source": [
    "## <a id='fcfpsd'>6.1 Features Created from project_submitted_datetime</a>"
   ]
  },
  {
   "cell_type": "markdown",
   "metadata": {
    "_cell_guid": "b03d0ba3-bc82-4b93-88af-4eed3ef7e5f0",
    "_uuid": "5da2751e22e63e9fcca4dd9956c7ffc35c1116d3"
   },
   "source": [
    "Total 6 features created from project_submitted_datetime :\n",
    "* **year**\n",
    "* **month**\n",
    "* **weekday**\n",
    "* **hour**\n",
    "* **month_day**\n",
    "* **year_day**"
   ]
  },
  {
   "cell_type": "code",
   "execution_count": null,
   "metadata": {
    "_cell_guid": "ec26bad5-81d9-4eab-9b06-c735ca0cc2b0",
    "_kg_hide-input": true,
    "_uuid": "21ea9d1df5640e743674ebae4e114b21e28a9378",
    "collapsed": true
   },
   "outputs": [],
   "source": [
    "start_time=time.time()\n",
    "# *******train data *********\n",
    "# extracting datetime features using project_submitted_datetime \n",
    "train_data['project_submitted_datetime'] = pd.to_datetime(train_data['project_submitted_datetime'])\n",
    "test_data['project_submitted_datetime'] = pd.to_datetime(test_data['project_submitted_datetime'])\n",
    "\n",
    "train_data[\"year\"] = train_data[\"project_submitted_datetime\"].dt.year\n",
    "train_data[\"month\"] = train_data[\"project_submitted_datetime\"].dt.month\n",
    "train_data['weekday'] = train_data['project_submitted_datetime'].dt.weekday\n",
    "train_data[\"hour\"] = train_data[\"project_submitted_datetime\"].dt.hour\n",
    "train_data[\"month_Day\"] = train_data['project_submitted_datetime'].dt.day\n",
    "train_data[\"year_Day\"] = train_data['project_submitted_datetime'].dt.dayofyear\n",
    "train_data = train_data.drop('project_submitted_datetime', axis=1)\n",
    "\n",
    "# ****** test data *********\n",
    "test_data[\"year\"] = test_data[\"project_submitted_datetime\"].dt.year\n",
    "test_data[\"month\"] = test_data[\"project_submitted_datetime\"].dt.month\n",
    "test_data['weekday'] = test_data['project_submitted_datetime'].dt.weekday\n",
    "test_data[\"hour\"] = test_data[\"project_submitted_datetime\"].dt.hour\n",
    "test_data[\"month_Day\"] = test_data['project_submitted_datetime'].dt.day\n",
    "test_data[\"year_Day\"] = test_data['project_submitted_datetime'].dt.dayofyear\n",
    "test_data = test_data.drop('project_submitted_datetime', axis=1)\n",
    "\n",
    "end_time=time.time()\n",
    "print(\"total time in the cuurent cell \",end_time-start_time,\"s\")"
   ]
  },
  {
   "cell_type": "markdown",
   "metadata": {
    "_cell_guid": "7e03df50-70a7-4931-a7ae-65ae742f01aa",
    "_uuid": "da7da21f5166ba549be4e8a6c209431ac803b9ce"
   },
   "source": [
    "## <a id='fcfpppr'>6.2 Features created from project_essay_1, project_essay_2, project_title, project_resource_summary</a>"
   ]
  },
  {
   "cell_type": "markdown",
   "metadata": {
    "_cell_guid": "c79d34d3-9463-4de4-adf6-ea1aba44d845",
    "_uuid": "0bda590b5b66accf4f1369543a57bd1d6de08b53"
   },
   "source": [
    "Here we created total 11 features :\n",
    "* **e1_length**\n",
    "* **e2_length**\n",
    "* **project_title_len**\n",
    "* **project_resource_summary_len**\n",
    "* **char_count**\n",
    "* **word_count**\n",
    "* **word_density**\n",
    "* **punctuation_count**\n",
    "* **title_word_count**\n",
    "* **upper_case_word_count**\n",
    "* **stopword_count**"
   ]
  },
  {
   "cell_type": "code",
   "execution_count": null,
   "metadata": {
    "_cell_guid": "66c8a900-0bfe-439c-8fdb-34f36ba9d0ae",
    "_kg_hide-input": true,
    "_uuid": "9603e65c2b33a4dac13fd6f93e5869e8f5e9a08d",
    "collapsed": true
   },
   "outputs": [],
   "source": [
    "start_time=time.time()\n",
    "\n",
    "# Thanks sban for such a great features engineering\n",
    "# https://www.kaggle.com/shivamb/extensive-feature-engineering-updated/notebook\n",
    "# *******train data *********\n",
    "train_data['e1_length'] = train_data['project_essay_1'].apply(lambda x: len(str(x))) # Essay1 length\n",
    "train_data['e2_length'] = train_data['project_essay_2'].apply(lambda x: len(str(x))) # Essay2 length\n",
    "train_data['project_title_len'] = train_data['project_title'].apply(lambda x: len(str(x))) # Title length\n",
    "train_data['project_resource_summary_len'] = train_data['project_resource_summary'].apply(lambda x: len(str(x))) # project resource summary length\n",
    "\n",
    "# combine the project essays to create a complete essay text\n",
    "train_data['text'] = train_data.apply(lambda row: ' '.join([str(row['project_essay_1']), \n",
    "                                            str(row['project_essay_2']), \n",
    "                                            ]), axis=1)\n",
    "\n",
    "# extract features from text\n",
    "train_data['char_count'] = train_data['text'].apply(len)\n",
    "train_data['word_count'] = train_data['text'].apply(lambda x: len(x.split()))\n",
    "train_data['word_density'] = train_data['char_count'] / (train_data['word_count']+1)\n",
    "train_data['punctuation_count'] = train_data['text'].apply(lambda x: len(\"\".join(_ for _ in x if _ in punctuation))) \n",
    "train_data['title_word_count'] = train_data['text'].apply(lambda x: len([wrd for wrd in x.split() if wrd.istitle()]))\n",
    "train_data['upper_case_word_count'] = train_data['text'].apply(lambda x: len([wrd for wrd in x.split() if wrd.isupper()]))\n",
    "train_data['stopword_count'] = train_data['text'].apply(lambda x: len([wrd for wrd in x.split() if wrd.lower() in stop_words]))\n",
    "\n",
    "# ****** test data *********\n",
    "test_data['e1_length'] = test_data['project_essay_1'].apply(lambda x: len(str(x))) # Essay1 length\n",
    "test_data['e2_length'] = test_data['project_essay_2'].apply(lambda x: len(str(x))) # Essay2 length\n",
    "test_data['project_title_len'] = test_data['project_title'].apply(lambda x: len(str(x))) # Title length\n",
    "test_data['project_resource_summary_len'] = test_data['project_resource_summary'].apply(lambda x: len(str(x))) # project resource summary length\n",
    "\n",
    "# combine the project essays to create a complete essay text\n",
    "test_data['text'] = test_data.apply(lambda row: ' '.join([str(row['project_essay_1']), \n",
    "                                            str(row['project_essay_2']), \n",
    "                                            ]), axis=1)\n",
    "\n",
    "# extract features from text\n",
    "test_data['char_count'] = test_data['text'].apply(len)\n",
    "test_data['word_count'] = test_data['text'].apply(lambda x: len(x.split()))\n",
    "test_data['word_density'] = test_data['char_count'] / (test_data['word_count']+1)\n",
    "test_data['punctuation_count'] = test_data['text'].apply(lambda x: len(\"\".join(_ for _ in x if _ in punctuation))) \n",
    "test_data['title_word_count'] = test_data['text'].apply(lambda x: len([wrd for wrd in x.split() if wrd.istitle()]))\n",
    "test_data['upper_case_word_count'] = test_data['text'].apply(lambda x: len([wrd for wrd in x.split() if wrd.isupper()]))\n",
    "test_data['stopword_count'] = test_data['text'].apply(lambda x: len([wrd for wrd in x.split() if wrd.lower() in stop_words]))\n",
    "\n",
    "end_time=time.time()\n",
    "print(\"total time in the cuurent cell \",end_time-start_time,\"s\")"
   ]
  },
  {
   "cell_type": "markdown",
   "metadata": {
    "_cell_guid": "3238ac11-8b94-4e5a-baa6-0e39669d7cd2",
    "_uuid": "0db1f2903d1a1b9427f4576b4fe13e7f256332eb"
   },
   "source": [
    "## <a id='fracttr'>6.3 Features created after combining the training data, test data with resource file</a>"
   ]
  },
  {
   "cell_type": "markdown",
   "metadata": {
    "_cell_guid": "76edc629-eac4-4b88-a3b2-bdcdd1f2623a",
    "_uuid": "dbd9082fbd28d358fe98fb7c7f3549cecd77c3fe"
   },
   "source": [
    "Here we created total 4 features :\n",
    "\n",
    "* **resources_total**\n",
    "* **resources_total_mean**\n",
    "* **resources_quantity_sum**\n",
    "* **resources_quantity_count**"
   ]
  },
  {
   "cell_type": "code",
   "execution_count": null,
   "metadata": {
    "_cell_guid": "67bf474a-db04-4295-a4f6-ff002529b86b",
    "_kg_hide-input": true,
    "_uuid": "e95c48f7c99d1430ce17a30b4f1af473ae85c44b",
    "collapsed": true
   },
   "outputs": [],
   "source": [
    "start_time=time.time()\n",
    "\n",
    "# Combine resources file\n",
    "# Thanks, the1owl! \n",
    "# https://www.kaggle.com/the1owl/the-choice-is-yours\n",
    "\n",
    "resources_data['resources_total'] = resources_data['quantity'] * resources_data['price']\n",
    "\n",
    "dfr_sum = resources_data.groupby(['id'], as_index=False)[['resources_total']].sum()\n",
    "dfr_mean = resources_data.groupby(['id'], as_index=False)[['resources_total']].mean()\n",
    "dfr_mean = dfr_mean.rename(columns={'resources_total':'resources_total_mean'})\n",
    "dfq_sum = resources_data.groupby(['id'], as_index=False)[['quantity']].sum()\n",
    "dfq_sum = dfq_sum.rename(columns={'quantity':'resources_quantity_sum'})\n",
    "dfq_count = resources_data.groupby(['id'], as_index=False)[['quantity']].count()\n",
    "dfq_count = dfq_count.rename(columns={'quantity':'resources_quantity_count'})\n",
    "\n",
    "# ****** train data ************\n",
    "train_data = pd.merge(train_data, dfr_sum, how='left', on='id').fillna(-1)\n",
    "train_data = pd.merge(train_data, dfr_mean, how='left', on='id').fillna(-1)\n",
    "train_data = pd.merge(train_data, dfq_sum, how='left', on='id').fillna(-1)\n",
    "train_data = pd.merge(train_data, dfq_count, how='left', on='id').fillna(-1)\n",
    "\n",
    "# ****** test data ***************\n",
    "test_data = pd.merge(test_data, dfr_sum, how='left', on='id').fillna(-1)\n",
    "test_data = pd.merge(test_data, dfr_mean, how='left', on='id').fillna(-1)\n",
    "test_data = pd.merge(test_data, dfq_sum, how='left', on='id').fillna(-1)\n",
    "test_data = pd.merge(test_data, dfq_count, how='left', on='id').fillna(-1)\n",
    "\n",
    "end_time=time.time()\n",
    "print(\"total time in the cuurent cell \",end_time-start_time,\"s\")"
   ]
  },
  {
   "cell_type": "markdown",
   "metadata": {
    "_cell_guid": "7ffe36bc-e4a3-4b15-a678-c48e814cdae5",
    "_uuid": "03890aeecaf122119c5b2ede1ae0c9b8673c40de"
   },
   "source": [
    "## <a id='gfc'>6.4 Gender feature creation</a>"
   ]
  },
  {
   "cell_type": "markdown",
   "metadata": {
    "_cell_guid": "3b4ec805-4028-4a5d-b2a2-4d8f55c26b9b",
    "_uuid": "3fc3cf62b56cadccdaed72c805a866a29e6d117a"
   },
   "source": [
    "Here we created **gender** feature from **teacher_prefix** feature"
   ]
  },
  {
   "cell_type": "code",
   "execution_count": null,
   "metadata": {
    "_cell_guid": "85a6f6c9-b15f-4b6b-8e8b-9285957ad769",
    "_kg_hide-input": true,
    "_uuid": "46a538e7b6f05e49aa2447208776d2c0455f3be8",
    "collapsed": true
   },
   "outputs": [],
   "source": [
    "# Creating the gender column\n",
    "gender_mapping = {\"Mrs.\": \"Female\", \"Ms.\":\"Female\", \"Mr.\":\"Male\", \"Teacher\":\"Unknown\", \"Dr.\":\"Unknown\", np.nan:\"Unknown\"  }\n",
    "train_data[\"gender\"] = train_data.teacher_prefix.map(gender_mapping)\n",
    "test_data[\"gender\"] = test_data.teacher_prefix.map(gender_mapping)"
   ]
  },
  {
   "cell_type": "markdown",
   "metadata": {
    "_cell_guid": "4c81dd5e-e650-4e32-b089-9d3d22d0a537",
    "_uuid": "6f45a1af60a4bfebb2b5dabed191a4c90c05e650"
   },
   "source": [
    "## <a id='ccftnf'>6.5 Converting Categorical featues to numericals features</a>"
   ]
  },
  {
   "cell_type": "markdown",
   "metadata": {
    "_cell_guid": "f0a2b9f3-0ec0-49e3-88bf-2a4b708b86ed",
    "_uuid": "93493fdf8ce5ee213f40a45b4e457403a18f3ba5"
   },
   "source": [
    "Here i have converted 7 Categorical featues to numericals features :\n",
    "\n",
    "* **teacher_id**\n",
    "* **teacher_prefix**\n",
    "* **school_state**\n",
    "* **project_grade_category**\n",
    "* **project_subject_categories**\n",
    "* **project_subject_subcategories**\n",
    "* **gender**"
   ]
  },
  {
   "cell_type": "code",
   "execution_count": null,
   "metadata": {
    "_cell_guid": "3afd32f3-38fe-49db-9d75-f91399036e5d",
    "_kg_hide-input": true,
    "_uuid": "57638cd73964d849ddfb1afa5555cb96eef35ede",
    "collapsed": true
   },
   "outputs": [],
   "source": [
    "from sklearn import preprocessing\n",
    "def encode_features(df_train, df_test):\n",
    "    features = [\n",
    "    'teacher_id', \n",
    "    'teacher_prefix', \n",
    "    'school_state', \n",
    "    'project_grade_category',\n",
    "    'project_subject_categories', \n",
    "    'project_subject_subcategories',\n",
    "    'gender']\n",
    "    df_combined = pd.concat([df_train[features], df_test[features]])\n",
    "    \n",
    "    for feature in features:\n",
    "        le = preprocessing.LabelEncoder()\n",
    "        le = le.fit(df_combined[feature].astype(str))\n",
    "        df_train[feature] = le.transform(df_train[feature].astype(str))\n",
    "        df_test[feature] = le.transform(df_test[feature].astype(str))\n",
    "    return df_train, df_test\n",
    "    \n",
    "train_data, test_data = encode_features(train_data, test_data)"
   ]
  },
  {
   "cell_type": "markdown",
   "metadata": {
    "_cell_guid": "c1e69a3a-3163-416d-948d-c24f86f615e2",
    "_uuid": "d14b67ce60c88772349d31c85b3653ef6391522b"
   },
   "source": [
    "## <a id='ruf'>6.6 Removing Unwanted features</a>"
   ]
  },
  {
   "cell_type": "markdown",
   "metadata": {
    "_cell_guid": "51c7eade-46a2-4253-a926-7e0ca0aa43ab",
    "_uuid": "a4934cfcd9afb001422a0ba7004ae086e0380316"
   },
   "source": [
    "The unwanted featues are :\n",
    " \n",
    "* **id**\n",
    "* **project_title**\n",
    "* **project_essay_1**\n",
    "* **project_essay_2**\n",
    "* **text**\n",
    "* **project_resource_summary**"
   ]
  },
  {
   "cell_type": "code",
   "execution_count": null,
   "metadata": {
    "_cell_guid": "de2d8126-db10-4701-9a53-ec2cbc2103f7",
    "_kg_hide-input": true,
    "_uuid": "71d0d04ba076e8fedebc3babc6cc0c0be7aa1896",
    "collapsed": true
   },
   "outputs": [],
   "source": [
    "cols_to_remove = ['id','project_title','project_essay_1','project_essay_2','text','project_resource_summary']\n",
    "\n",
    "train_data = train_data.drop(cols_to_remove, axis = 1)\n",
    "test_data = test_data.drop(cols_to_remove, axis = 1)\n",
    "features = train_data.columns.values"
   ]
  },
  {
   "cell_type": "markdown",
   "metadata": {
    "_cell_guid": "ac4c06b3-5c0c-4b06-b10c-88d165535d25",
    "_uuid": "586de0a83c828fed27050dae34d0882a78089791"
   },
   "source": [
    "# <a id='bmlm'>7. Building Machine Learning Models</a>"
   ]
  },
  {
   "cell_type": "markdown",
   "metadata": {
    "_cell_guid": "fe233276-381a-4ca9-8b0c-ea06ce5ba9a5",
    "_uuid": "de3a0de79d7e61f1f9a0eca03fdcdd7bb5c0a368"
   },
   "source": [
    "## <a id='lgbm'>7.1 Light GBM</a>"
   ]
  },
  {
   "cell_type": "code",
   "execution_count": null,
   "metadata": {
    "_cell_guid": "32982c45-523a-4be0-9c5a-9fee000e7a23",
    "_kg_hide-input": true,
    "_uuid": "9ab8724160a0838b7f227b387c1a04f3c779fe17",
    "collapsed": true
   },
   "outputs": [],
   "source": [
    "print(\"Building model using Light GBM and finding AUC(Area Under Curve)\")\n",
    "from sklearn.model_selection import train_test_split\n",
    "X_train_l, X_valid_l, y_train_l, y_valid_l = train_test_split(train_data, y, test_size=0.10, random_state=2018)\n",
    "params = {\n",
    "        'boosting_type': 'gbdt',\n",
    "        'objective': 'binary',\n",
    "        'metric': 'auc',\n",
    "        'max_depth': 7,\n",
    "        'num_leaves': 32,\n",
    "        'learning_rate': 0.02,\n",
    "        'feature_fraction': 0.80,\n",
    "        'bagging_fraction': 0.80,\n",
    "        'bagging_freq': 5,\n",
    "        'verbose': 0,\n",
    "        'lambda_l2': 1,\n",
    "    }  \n",
    "\n",
    "import lightgbm as lgb\n",
    "evals_result = {}  # to record eval results for plotting\n",
    "model_lgb = lgb.train(\n",
    "        params,\n",
    "        lgb.Dataset(X_train_l, y_train_l),\n",
    "        num_boost_round=10000,\n",
    "        valid_sets=[lgb.Dataset(X_valid_l, y_valid_l)],\n",
    "        early_stopping_rounds=100,\n",
    "        evals_result=evals_result,\n",
    "        verbose_eval=25)\n",
    "from sklearn.metrics import roc_auc_score\n",
    "valid_preds_lgb = model_lgb.predict(X_valid_l, num_iteration=model_lgb.best_iteration)\n",
    "test_preds = model_lgb.predict(test_data, num_iteration=model_lgb.best_iteration)\n",
    "auc = roc_auc_score(y_valid_l, valid_preds_lgb)\n",
    "print('AUC:',auc)"
   ]
  },
  {
   "cell_type": "markdown",
   "metadata": {
    "_cell_guid": "47684998-0acc-4b1e-a52b-da26767c801f",
    "_uuid": "0e1b67b46742eeeec94855b9c2a572e9e800cd03"
   },
   "source": [
    "## <a id='xgbst'>7.2 XGBoost</a>"
   ]
  },
  {
   "cell_type": "code",
   "execution_count": null,
   "metadata": {
    "_cell_guid": "be0f4123-2c5b-4587-b7f5-b7fde4a615bc",
    "_kg_hide-input": true,
    "_uuid": "afde77ecba68a89d75a2f4b3f843760dd4ff6dfd",
    "collapsed": true
   },
   "outputs": [],
   "source": [
    "print(\"Building model using XGBoost and finding AUC(Area Under Curve)\")\n",
    "\n",
    "import xgboost as xgb\n",
    "xgb_params = {'eta': 0.2, \n",
    "                  'max_depth': 5, \n",
    "                  'subsample': 0.8, \n",
    "                  'colsample_bytree': 0.8, \n",
    "                  'objective': 'binary:logistic', \n",
    "                  'eval_metric': 'auc', \n",
    "                  'seed': 1234\n",
    "                 }\n",
    "X_train_x, X_valid_x, y_train_x, y_valid_x = train_test_split(train_data, y, test_size=0.33, random_state=2018)\n",
    "d_train = xgb.DMatrix(X_train_x, y_train_x)\n",
    "d_valid = xgb.DMatrix(X_valid_x, y_valid_x)\n",
    "d_test = xgb.DMatrix(test_data)\n",
    "watchlist = [(d_train, 'train'), (d_valid, 'valid')]\n",
    "model_xgb = xgb.train(xgb_params, d_train, 500, watchlist, verbose_eval=50, early_stopping_rounds=20)\n",
    "xgb_pred_test = model_xgb.predict(d_test)\n",
    "xgb_pred_valid = model_xgb.predict(d_valid)\n",
    "auc = roc_auc_score(y_valid_x, xgb_pred_valid)\n",
    "print('AUC:',auc)"
   ]
  },
  {
   "cell_type": "markdown",
   "metadata": {
    "_cell_guid": "f330d39f-fa81-4bb7-b81a-c4d38c669220",
    "_uuid": "d9cdb39e7bfdddcca48d75923a8d482bd98a8b60"
   },
   "source": [
    "# <a id='feva'>8. Further Evaluation</a>"
   ]
  },
  {
   "cell_type": "code",
   "execution_count": 3,
   "metadata": {
    "_cell_guid": "736d72dc-dbe6-4b34-8b3b-f20d98916746",
    "_kg_hide-input": true,
    "_uuid": "c9581188416bc8e582d07f150a8802740d366dd0"
   },
   "outputs": [],
   "source": [
    "from IPython.display import Image\n",
    "Image('../input/confusion-matrix/confusion matrix.PNG')"
   ]
  },
  {
   "cell_type": "markdown",
   "metadata": {
    "_cell_guid": "f7263c61-468d-4c21-9599-0efe77daf4c9",
    "_uuid": "0bd7aee41346adeb2cbde6a19c100c17e2d77e86"
   },
   "source": [
    "## <a id='rocaucc'>8.1 ROC AUC Curve</a>"
   ]
  },
  {
   "cell_type": "markdown",
   "metadata": {
    "_cell_guid": "afd53295-6549-4d7a-bbfb-e7a774a418e7",
    "_uuid": "e25ac41f2b972c687ef7ded43cb8346e884e7d5c"
   },
   "source": [
    "**The ROC AUC Score is the corresponding score to the ROC AUC Curve. It is simply computed by measuring the area under the curve, which is called AUC.**\n",
    "\n",
    "**A classifiers that is 100% correct, would have a ROC AUC Score of 1 and a completely random classiffier would have a score of 0.5.**"
   ]
  },
  {
   "cell_type": "code",
   "execution_count": null,
   "metadata": {
    "_cell_guid": "8a0ee33e-ef9e-49a1-b949-05e5cde76b63",
    "_kg_hide-input": true,
    "_uuid": "775b8fa5eea3dee9a2f6ed8799dcc744b7bfff92",
    "collapsed": true
   },
   "outputs": [],
   "source": [
    "from sklearn.metrics import roc_curve\n",
    "from sklearn import metrics\n",
    "fpr,tpr,thresholds=roc_curve(y_valid_l, valid_preds_lgb)\n",
    "roc_auc = metrics.auc(fpr, tpr)\n",
    "\n",
    "fpr_1,tpr_1,thresholds_1=roc_curve(y_valid_x,xgb_pred_valid)\n",
    "roc_auc_1 = metrics.auc(fpr_1, tpr_1)\n",
    "\n",
    "plt.figure(figsize=(15,8))\n",
    "\n",
    "plt.title('Receiver Operating Characteristic for different ML algorithms')\n",
    "\n",
    "plt.plot(fpr, tpr, 'b', label = 'LGBM-AUC = %0.2f' % roc_auc)\n",
    "plt.plot(fpr_1, tpr_1, 'g', label = 'XGBoost-AUC = %0.2f' % roc_auc_1)\n",
    "\n",
    "plt.legend(loc = 'upper left')\n",
    "plt.plot([0, 1], [0, 1],'r--')\n",
    "plt.xlim([0, 1])\n",
    "plt.ylim([0, 1])\n",
    "\n",
    "plt.ylabel('True Positive Rate')\n",
    "plt.xlabel('False Positive Rate')\n",
    "\n",
    "plt.show()"
   ]
  },
  {
   "cell_type": "markdown",
   "metadata": {
    "_cell_guid": "d9c4c8e0-0bdd-45fa-a47d-191df21bf530",
    "_uuid": "77f6bdfe0614433032c4e582b6830a8b55d1dbcb"
   },
   "source": [
    "## <a id='prcur'>8.2 Precision Recall curve</a>"
   ]
  },
  {
   "cell_type": "markdown",
   "metadata": {
    "_cell_guid": "1fd3e1ab-6ef4-4d8a-969e-1ffbf022eaca",
    "_uuid": "47e08f308a152e0849f7728ac2e5cb6891308436"
   },
   "source": [
    "Precision-Recall is a useful measure of success of prediction when the classes are very imbalanced. In information retrieval, precision is a measure of result relevancy, while recall is a measure of how many truly relevant results are returned.\n",
    "\n",
    "The precision-recall curve shows the tradeoff between precision and recall for different threshold. A high area under the curve represents both high recall and high precision, where high precision relates to a low false positive rate, and high recall relates to a low false negative rate. High scores for both show that the classifier is returning accurate results (high precision), as well as returning a majority of all positive results (high recall).\n",
    "\n",
    "A system with high recall but low precision returns many results, but most of its predicted labels are incorrect when compared to the training labels. A system with high precision but low recall is just the opposite, returning very few results, but most of its predicted labels are correct when compared to the training labels. An ideal system with high precision and high recall will return many results, with all results labeled correctly."
   ]
  },
  {
   "cell_type": "code",
   "execution_count": null,
   "metadata": {
    "_cell_guid": "cd923feb-c060-4cfa-8b8c-f55adc611082",
    "_kg_hide-input": true,
    "_uuid": "ef6d076104292083159451846fcae88fd96d2912",
    "collapsed": true
   },
   "outputs": [],
   "source": [
    "from sklearn.metrics import precision_recall_curve\n",
    "precision, recall, threshold = precision_recall_curve(y_valid_l, valid_preds_lgb)\n",
    "\n",
    "def plot_precision_and_recall(precision, recall, threshold):\n",
    "    plt.plot(threshold, precision[:-1], \"r-\", label=\"precision\", linewidth=5)\n",
    "    plt.plot(threshold, recall[:-1], \"b\", label=\"recall\", linewidth=5)\n",
    "    plt.xlabel(\"threshold\", fontsize=19)\n",
    "    plt.legend(loc=\"upper right\", fontsize=19)\n",
    "    plt.ylim([0, 1])\n",
    "\n",
    "plt.figure(figsize=(15, 8))\n",
    "plot_precision_and_recall(precision, recall, threshold)\n",
    "plt.show()"
   ]
  },
  {
   "cell_type": "code",
   "execution_count": null,
   "metadata": {
    "_cell_guid": "50672939-e05e-4ff2-a0e6-c1730f0fb73d",
    "_kg_hide-input": true,
    "_uuid": "3ef5ffef62c7c46dad2fd3edf0e349b292424a8b",
    "collapsed": true
   },
   "outputs": [],
   "source": [
    "def plot_precision_vs_recall(precision, recall):\n",
    "    plt.plot(recall, precision, \"g--\", linewidth=2.5)\n",
    "    plt.ylabel(\"recall\", fontsize=19)\n",
    "    plt.xlabel(\"precision\", fontsize=19)\n",
    "    plt.axis([0, 1.5, 0, 1.5])\n",
    "\n",
    "plt.figure(figsize=(15, 8))\n",
    "plot_precision_vs_recall(precision, recall)\n",
    "plt.show()"
   ]
  },
  {
   "cell_type": "markdown",
   "metadata": {
    "_cell_guid": "78d49f4a-f101-4240-9561-2301929d99f9",
    "_uuid": "8ae6ce92a00071d0570f59253b8976966dbc7e06"
   },
   "source": [
    "## <a id='pmdtlgb'>8.3 Ploting Metrics during training of Light GBM</a>"
   ]
  },
  {
   "cell_type": "code",
   "execution_count": null,
   "metadata": {
    "_cell_guid": "2b934bde-24f4-43da-ae56-ac5d48217771",
    "_kg_hide-input": true,
    "_uuid": "e8daa3ea1ba616248975557ded604b06e6f417d4",
    "collapsed": true
   },
   "outputs": [],
   "source": [
    "print('Plot metrics during training...')\n",
    "ax = lgb.plot_metric(evals_result, metric='auc')\n",
    "plt.figure(figsize=(15, 8))\n",
    "plt.show()"
   ]
  },
  {
   "cell_type": "markdown",
   "metadata": {
    "_cell_guid": "79dcbe36-95d8-4f1f-9a99-6475c33c4168",
    "_uuid": "8a8d27c1c54b85324c896cb04fcf180403df6381"
   },
   "source": [
    "## <a id='fiblgm'>8.4 Feature importances by LightGBM</a>"
   ]
  },
  {
   "cell_type": "code",
   "execution_count": null,
   "metadata": {
    "_cell_guid": "d8f2e48e-e645-484f-9c85-f838d8af93b6",
    "_kg_hide-input": true,
    "_uuid": "5f38c98ad95cc37a2ee4f5dc294459f6d7914a78",
    "collapsed": true
   },
   "outputs": [],
   "source": [
    "lgb.plot_importance(model_lgb, max_num_features=12)\n",
    "plt.title(\"Feature importances by LightGBM\")\n",
    "plt.yticks(fontsize=14)\n",
    "plt.xticks(fontsize=14)\n",
    "plt.show()"
   ]
  },
  {
   "cell_type": "markdown",
   "metadata": {
    "_cell_guid": "cff4c52c-7d1c-464f-b8a2-12931485ce67",
    "_uuid": "9bd674cc805b69ab49d7afcc2dda8041137e66b2"
   },
   "source": [
    "# <a id='bsc'>9. Brief Summary/Conclusion :</a>\n",
    "--------------------------------------------------------------------------\n",
    "* I have done analysis only on training data.\n",
    "* This is only a brief summary if want more details please go through my Notebook."
   ]
  },
  {
   "cell_type": "markdown",
   "metadata": {
    "_cell_guid": "29cf661e-7cab-4b7b-b974-059755b2edfd",
    "_uuid": "a2822e2f643ad474e3578b1fa4d9e74c62b6b7b9"
   },
   "source": [
    "* Training data is highly imbalanced that is approx. 85 % projetcs were approved and 15 % project were not approved. Majority imbalanced class is positive.\n",
    "* Out of 50 states, **California(CA)** having higher number of projects proposal submitted **approx. 14 %**  followed by **Texas(TX)(7 %)** and **Tennessee(NY)(7 %)**.\n",
    "* Out of 4 school grade levels, Project proposals submission in school grade levels is higher for **Grades Prek-2** which is approximately **41 %** followed by **Grades 3-5** which has approx. **34 %**.\n",
    "* Out of 51 Project categories,  Project proposals submission for project categories is higher  for  **Literacy & Language** which is approx. **27 %** followed by **Math & Science** which has approx. **20 %**.\n",
    "* Out of 1,82,020 Project subcategories, Project proposals submission for project sub-categoriesis is higher  for **Literacy** which is approx. **16 % ** followed by **Literacy & Mathematics** which has approx. **16 %** .\n",
    "* Out of 1,82,080 project titles, Project proposals submission for project titles is higher for **Flexible seating** which is approx. **27 %** followed by **Whiggle while your work** which has approx. **14 %**.\n",
    "* Most of the price requested for resources is between **0 to 2k dollar**.\n",
    "* Mostly price requested for resources is \n",
    "   * 0 to 2k Dollar by **teacher** prefix\n",
    "   * 0 to 4k Dolar by **Ms. , Mrs. and Mr.** prefixes \n",
    "   * 0 to 500 Dollar by **Dr.** prefix.\n",
    "* Mostly price requested for resources is \n",
    "   * 0 to 2k Dollar by **Unknowns**\n",
    "   * 0 to 4k Dolar by **Males** \n",
    "   * 0 to 5k Dollar by **Females**.\n",
    "* Mostly price requested for resources is between approx. ** 0 to 4k** **Dollar**  for all type of project grade categories.   \n",
    "* Higher number of project proposal submitted by **married womens** which is approx. **53 %**  followed by **unmarried womens** which has approx. **37 %**.\n",
    "* Project proposal submitted by **Teacher** which is approx. **2 %** is vey low as compared to **Mrs., Ms., Mr**.\n",
    "*  Number of previously posted applications by the submitting teacher was** Zero(0)** having more number of acceptance rate.\n",
    "* Female having more count which is approx. **88 %** than Male which has **10 %** in terms of projects proposals submissions.\n",
    "* USA state **WY** was having more price requested for resources in **March** month than others.\n",
    "* Most of the price requested for resources is between 0 to 2k dollar.\n",
    "* If price per project is less then more chances of approval.\n",
    "* Projects with lesser number of quantity better chances of approval.\n",
    "* If project essay description having more number number of words better chances of approval.\n",
    "* **Project Submission Time Analysis** :\n",
    "   * **September month** has the second highest number of proposals .\n",
    "   * The number of proposals decreases as we move towards the end of the week.\n",
    "   * Looks like we have approximately one years' worth of data (May 2016 to April 2017) given in the training set.\n",
    "   * There is a sudden spike on a single day (Sep 1, 2016) with respect to the number of proposals (may be some specific reason?)\n",
    "   * From Hours 03 to 05, number of proposals decreases.\n",
    "   * Hours 06 to 14, number of proposals increases.\n",
    "   * At Hour 14 has more number of proposals."
   ]
  }
 ],
 "metadata": {
  "kernelspec": {
   "display_name": "Python 3",
   "language": "python",
   "name": "python3"
  },
  "language_info": {
   "codemirror_mode": {
    "name": "ipython",
    "version": 3
   },
   "file_extension": ".py",
   "mimetype": "text/x-python",
   "name": "python",
   "nbconvert_exporter": "python",
   "pygments_lexer": "ipython3",
   "version": "3.8.3"
  }
 },
 "nbformat": 4,
 "nbformat_minor": 1
}
