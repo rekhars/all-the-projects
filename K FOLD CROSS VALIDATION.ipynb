{
 "cells": [
  {
   "cell_type": "code",
   "execution_count": 2,
   "metadata": {},
   "outputs": [],
   "source": [
    "import numpy as np\n",
    "import matplotlib.pyplot as plt\n",
    "import pandas as pd"
   ]
  },
  {
   "cell_type": "code",
   "execution_count": 5,
   "metadata": {},
   "outputs": [
    {
     "data": {
      "text/html": [
       "<div>\n",
       "<style scoped>\n",
       "    .dataframe tbody tr th:only-of-type {\n",
       "        vertical-align: middle;\n",
       "    }\n",
       "\n",
       "    .dataframe tbody tr th {\n",
       "        vertical-align: top;\n",
       "    }\n",
       "\n",
       "    .dataframe thead th {\n",
       "        text-align: right;\n",
       "    }\n",
       "</style>\n",
       "<table border=\"1\" class=\"dataframe\">\n",
       "  <thead>\n",
       "    <tr style=\"text-align: right;\">\n",
       "      <th></th>\n",
       "      <th>preg</th>\n",
       "      <th>plas</th>\n",
       "      <th>pres</th>\n",
       "      <th>skin</th>\n",
       "      <th>test</th>\n",
       "      <th>mass</th>\n",
       "      <th>pedi</th>\n",
       "      <th>age</th>\n",
       "      <th>class</th>\n",
       "    </tr>\n",
       "  </thead>\n",
       "  <tbody>\n",
       "    <tr>\n",
       "      <th>0</th>\n",
       "      <td>6</td>\n",
       "      <td>148</td>\n",
       "      <td>72</td>\n",
       "      <td>35</td>\n",
       "      <td>0</td>\n",
       "      <td>33.6</td>\n",
       "      <td>0.627</td>\n",
       "      <td>50</td>\n",
       "      <td>1</td>\n",
       "    </tr>\n",
       "    <tr>\n",
       "      <th>1</th>\n",
       "      <td>1</td>\n",
       "      <td>85</td>\n",
       "      <td>66</td>\n",
       "      <td>29</td>\n",
       "      <td>0</td>\n",
       "      <td>26.6</td>\n",
       "      <td>0.351</td>\n",
       "      <td>31</td>\n",
       "      <td>0</td>\n",
       "    </tr>\n",
       "    <tr>\n",
       "      <th>2</th>\n",
       "      <td>8</td>\n",
       "      <td>183</td>\n",
       "      <td>64</td>\n",
       "      <td>0</td>\n",
       "      <td>0</td>\n",
       "      <td>23.3</td>\n",
       "      <td>0.672</td>\n",
       "      <td>32</td>\n",
       "      <td>1</td>\n",
       "    </tr>\n",
       "    <tr>\n",
       "      <th>3</th>\n",
       "      <td>1</td>\n",
       "      <td>89</td>\n",
       "      <td>66</td>\n",
       "      <td>23</td>\n",
       "      <td>94</td>\n",
       "      <td>28.1</td>\n",
       "      <td>0.167</td>\n",
       "      <td>21</td>\n",
       "      <td>0</td>\n",
       "    </tr>\n",
       "    <tr>\n",
       "      <th>4</th>\n",
       "      <td>0</td>\n",
       "      <td>137</td>\n",
       "      <td>40</td>\n",
       "      <td>35</td>\n",
       "      <td>168</td>\n",
       "      <td>43.1</td>\n",
       "      <td>2.288</td>\n",
       "      <td>33</td>\n",
       "      <td>1</td>\n",
       "    </tr>\n",
       "  </tbody>\n",
       "</table>\n",
       "</div>"
      ],
      "text/plain": [
       "   preg  plas  pres  skin  test  mass   pedi  age  class\n",
       "0     6   148    72    35     0  33.6  0.627   50      1\n",
       "1     1    85    66    29     0  26.6  0.351   31      0\n",
       "2     8   183    64     0     0  23.3  0.672   32      1\n",
       "3     1    89    66    23    94  28.1  0.167   21      0\n",
       "4     0   137    40    35   168  43.1  2.288   33      1"
      ]
     },
     "execution_count": 5,
     "metadata": {},
     "output_type": "execute_result"
    }
   ],
   "source": [
    "# Importing the dataset\n",
    "dataframe = pd.read_csv('pima-indians-diabetes.csv')\n",
    "dataframe.head()"
   ]
  },
  {
   "cell_type": "code",
   "execution_count": 6,
   "metadata": {},
   "outputs": [
    {
     "data": {
      "text/plain": [
       "(768, 9)"
      ]
     },
     "execution_count": 6,
     "metadata": {},
     "output_type": "execute_result"
    }
   ],
   "source": [
    "dataframe.shape"
   ]
  },
  {
   "cell_type": "code",
   "execution_count": 11,
   "metadata": {},
   "outputs": [
    {
     "data": {
      "text/plain": [
       "array([[  6.   , 148.   ,  72.   , ...,  33.6  ,   0.627,  50.   ],\n",
       "       [  1.   ,  85.   ,  66.   , ...,  26.6  ,   0.351,  31.   ],\n",
       "       [  8.   , 183.   ,  64.   , ...,  23.3  ,   0.672,  32.   ],\n",
       "       ...,\n",
       "       [  5.   , 121.   ,  72.   , ...,  26.2  ,   0.245,  30.   ],\n",
       "       [  1.   , 126.   ,  60.   , ...,  30.1  ,   0.349,  47.   ],\n",
       "       [  1.   ,  93.   ,  70.   , ...,  30.4  ,   0.315,  23.   ]])"
      ]
     },
     "execution_count": 11,
     "metadata": {},
     "output_type": "execute_result"
    }
   ],
   "source": [
    "# Divide Data into X and Y\n",
    "array = dataframe.values\n",
    "X = array[:,0:8]\n",
    "Y = array[:,8]\n",
    "X"
   ]
  },
  {
   "cell_type": "code",
   "execution_count": 12,
   "metadata": {},
   "outputs": [],
   "source": [
    "################# Hold Out Validation #################\n",
    "from sklearn.model_selection import train_test_split\n",
    "from sklearn.linear_model import LogisticRegression"
   ]
  },
  {
   "cell_type": "code",
   "execution_count": 14,
   "metadata": {},
   "outputs": [
    {
     "data": {
      "text/plain": [
       "0.7559055118110236"
      ]
     },
     "execution_count": 14,
     "metadata": {},
     "output_type": "execute_result"
    }
   ],
   "source": [
    "# Split the data\n",
    "X_train, X_test, Y_train, Y_test = train_test_split(X, Y, test_size=0.33, random_state=7)\n",
    "model = LogisticRegression()\n",
    "model.fit(X_train, Y_train)\n",
    "result = model.score(X_test, Y_test)\n",
    "result"
   ]
  },
  {
   "cell_type": "code",
   "execution_count": 16,
   "metadata": {},
   "outputs": [
    {
     "data": {
      "text/plain": [
       "array([0., 1., 1., 0., 0., 0., 0., 0., 1., 0., 1., 0., 1., 1., 0., 0., 0.,\n",
       "       0., 0., 0., 0., 0., 1., 1., 0., 0., 0., 0., 0., 0., 0., 0., 0., 1.,\n",
       "       0., 0., 0., 0., 1., 1., 1., 1., 0., 0., 0., 0., 0., 0., 1., 1., 0.,\n",
       "       0., 0., 0., 1., 0., 0., 0., 0., 0., 0., 1., 0., 1., 0., 0., 0., 1.,\n",
       "       1., 0., 1., 1., 0., 0., 1., 0., 0., 0., 0., 0., 0., 0., 1., 0., 0.,\n",
       "       0., 1., 0., 1., 0., 1., 0., 1., 1., 0., 0., 1., 0., 0., 1., 0., 0.,\n",
       "       0., 0., 0., 0., 0., 1., 0., 1., 0., 1., 0., 0., 1., 0., 0., 0., 0.,\n",
       "       1., 0., 0., 0., 0., 0., 1., 0., 1., 0., 0., 0., 1., 0., 0., 0., 0.,\n",
       "       0., 0., 0., 1., 0., 0., 0., 1., 0., 0., 0., 0., 1., 0., 0., 0., 0.,\n",
       "       0., 0., 0., 1., 0., 0., 0., 0., 0., 0., 0., 1., 0., 0., 0., 0., 1.,\n",
       "       0., 1., 1., 0., 0., 0., 0., 0., 0., 0., 1., 0., 0., 0., 0., 0., 0.,\n",
       "       0., 0., 1., 0., 0., 1., 1., 0., 0., 1., 0., 0., 1., 0., 0., 1., 1.,\n",
       "       0., 0., 0., 0., 0., 0., 1., 1., 0., 0., 0., 0., 1., 1., 0., 0., 0.,\n",
       "       1., 1., 0., 0., 1., 0., 0., 1., 0., 0., 1., 0., 0., 0., 0., 0., 1.,\n",
       "       1., 0., 1., 1., 0., 0., 1., 0., 0., 0., 0., 0., 0., 1., 1., 1.])"
      ]
     },
     "execution_count": 16,
     "metadata": {},
     "output_type": "execute_result"
    }
   ],
   "source": [
    "# Predicting the Test set results\n",
    "y_pred = model.predict(X_test)\n",
    "y_pred"
   ]
  },
  {
   "cell_type": "code",
   "execution_count": 7,
   "metadata": {},
   "outputs": [
    {
     "data": {
      "text/plain": [
       "0.7559055118110236"
      ]
     },
     "execution_count": 7,
     "metadata": {},
     "output_type": "execute_result"
    }
   ],
   "source": [
    "# Checking accuracy score\n",
    "from sklearn.metrics import accuracy_score\n",
    "accuracy_score(Y_test, y_pred)"
   ]
  },
  {
   "cell_type": "code",
   "execution_count": 8,
   "metadata": {},
   "outputs": [
    {
     "name": "stdout",
     "output_type": "stream",
     "text": [
      "Accuracy:  75.59055118110236\n"
     ]
    }
   ],
   "source": [
    "# Check the accuracy\n",
    "print(\"Accuracy: \", result*100.0)"
   ]
  },
  {
   "cell_type": "code",
   "execution_count": 9,
   "metadata": {},
   "outputs": [
    {
     "data": {
      "text/plain": [
       "array([1.])"
      ]
     },
     "execution_count": 9,
     "metadata": {},
     "output_type": "execute_result"
    }
   ],
   "source": [
    "### Realtime predictions\n",
    "Real_predictions = model.predict([[1,2,3,4,5,6,7,8]])\n",
    "Real_predictions"
   ]
  },
  {
   "cell_type": "code",
   "execution_count": 17,
   "metadata": {},
   "outputs": [],
   "source": [
    "################# K Fold Validation #################\n",
    "\n",
    "from sklearn.model_selection import KFold\n",
    "from sklearn.model_selection import cross_val_score\n",
    "from sklearn.linear_model import LogisticRegression"
   ]
  },
  {
   "cell_type": "code",
   "execution_count": 18,
   "metadata": {},
   "outputs": [],
   "source": [
    "# Initialize parameters\n",
    "num_folds = 10\n",
    "seed = 7\n",
    "kfold = KFold(n_splits=num_folds, random_state=seed)\n",
    "model1 = LogisticRegression()"
   ]
  },
  {
   "cell_type": "code",
   "execution_count": 20,
   "metadata": {},
   "outputs": [
    {
     "data": {
      "text/plain": [
       "array([0.7012987 , 0.81818182, 0.74025974, 0.71428571, 0.77922078,\n",
       "       0.75324675, 0.85714286, 0.80519481, 0.72368421, 0.80263158])"
      ]
     },
     "execution_count": 20,
     "metadata": {},
     "output_type": "execute_result"
    }
   ],
   "source": [
    "# Fitting the model and Extracting the results\n",
    "results1 = cross_val_score(model1, X, Y, cv=kfold)\n",
    "results1"
   ]
  },
  {
   "cell_type": "code",
   "execution_count": 23,
   "metadata": {},
   "outputs": [
    {
     "name": "stdout",
     "output_type": "stream",
     "text": [
      "Accuracy:  [70.12987013 81.81818182 74.02597403 71.42857143 77.92207792 75.32467532\n",
      " 85.71428571 80.51948052 72.36842105 80.26315789]\n",
      "\n",
      "\n",
      "\n",
      "mean of accuracy 76.95146958304852\n",
      "std.deviation of accuracies 4.841051924567195\n"
     ]
    }
   ],
   "source": [
    "# Check the accuracy\n",
    "print(\"Accuracy: \", results1*100.0)\n",
    "print ('\\n\\n')\n",
    "print(\"mean of accuracy\", results1.mean()*100.0)\n",
    "print (\"std.deviation of accuracies\", results1.std()*100.0)"
   ]
  },
  {
   "cell_type": "code",
   "execution_count": 24,
   "metadata": {},
   "outputs": [],
   "source": [
    "################# Leave One Out Cross Validation #################\n",
    "\n",
    "from sklearn.model_selection import LeaveOneOut\n",
    "from sklearn.model_selection import cross_val_score\n",
    "from sklearn.linear_model import LogisticRegression"
   ]
  },
  {
   "cell_type": "code",
   "execution_count": 25,
   "metadata": {},
   "outputs": [],
   "source": [
    "# Initialize parameters\n",
    "loocv = LeaveOneOut()\n",
    "model2 = LogisticRegression()"
   ]
  },
  {
   "cell_type": "code",
   "execution_count": 28,
   "metadata": {},
   "outputs": [
    {
     "data": {
      "text/plain": [
       "768"
      ]
     },
     "execution_count": 28,
     "metadata": {},
     "output_type": "execute_result"
    }
   ],
   "source": [
    "# Fitting the model and Extracting the results\n",
    "results2 = cross_val_score(model2, X, Y, cv=loocv)\n",
    "len(results2)"
   ]
  },
  {
   "cell_type": "code",
   "execution_count": 29,
   "metadata": {},
   "outputs": [
    {
     "name": "stdout",
     "output_type": "stream",
     "text": [
      "Accuracy:  [100. 100. 100. 100. 100. 100.   0.   0. 100.   0. 100. 100.   0. 100.\n",
      " 100. 100.   0.   0. 100.   0. 100. 100. 100.   0. 100.   0. 100. 100.\n",
      "   0. 100. 100. 100. 100. 100. 100. 100.   0.   0.   0.   0.   0.   0.\n",
      " 100. 100.   0. 100. 100. 100.   0. 100. 100. 100. 100. 100.   0. 100.\n",
      " 100. 100.   0. 100. 100. 100. 100. 100.   0. 100.   0. 100. 100. 100.\n",
      "   0. 100. 100. 100. 100. 100. 100. 100. 100. 100. 100. 100. 100. 100.\n",
      " 100. 100.   0. 100. 100. 100. 100. 100. 100.   0. 100.   0. 100. 100.\n",
      " 100.   0. 100. 100. 100. 100. 100. 100. 100. 100. 100.   0. 100. 100.\n",
      " 100. 100. 100.   0.   0. 100. 100. 100. 100. 100. 100. 100.   0.   0.\n",
      " 100. 100.   0.   0. 100. 100. 100. 100. 100. 100. 100. 100. 100. 100.\n",
      " 100. 100. 100.   0.   0. 100. 100. 100.   0. 100. 100. 100. 100.   0.\n",
      " 100. 100. 100. 100. 100. 100. 100. 100. 100. 100.   0.   0. 100. 100.\n",
      " 100. 100.   0. 100. 100. 100. 100. 100. 100. 100.   0. 100. 100. 100.\n",
      " 100. 100. 100. 100. 100.   0.   0.   0. 100. 100. 100. 100. 100. 100.\n",
      " 100.   0.   0.   0. 100. 100. 100. 100. 100. 100. 100. 100. 100. 100.\n",
      " 100. 100.   0.   0.   0. 100.   0. 100.   0.   0. 100. 100.   0.   0.\n",
      " 100. 100. 100. 100.   0. 100. 100. 100. 100. 100. 100. 100. 100. 100.\n",
      " 100. 100. 100. 100.   0.   0. 100. 100. 100.   0. 100. 100. 100. 100.\n",
      " 100. 100.   0.   0. 100. 100.   0. 100.   0. 100. 100. 100.   0. 100.\n",
      " 100.   0. 100. 100. 100. 100. 100. 100.   0. 100.   0. 100. 100. 100.\n",
      "   0.   0. 100. 100.   0. 100.   0.   0. 100. 100. 100.   0. 100.   0.\n",
      " 100.   0.   0. 100.   0. 100. 100.   0. 100.   0. 100. 100. 100. 100.\n",
      "   0.   0. 100. 100.   0. 100.   0. 100. 100. 100. 100. 100. 100.   0.\n",
      "   0. 100. 100. 100.   0.   0.   0. 100. 100. 100. 100. 100. 100.   0.\n",
      "   0.   0. 100. 100. 100. 100. 100. 100. 100.   0. 100. 100. 100.   0.\n",
      " 100. 100. 100. 100. 100. 100.   0. 100. 100. 100. 100.   0. 100. 100.\n",
      " 100. 100.   0. 100. 100.   0. 100. 100. 100. 100. 100. 100. 100. 100.\n",
      " 100. 100. 100. 100. 100. 100. 100. 100.   0.   0.   0. 100. 100. 100.\n",
      " 100. 100. 100. 100. 100.   0. 100. 100.   0. 100.   0. 100. 100.   0.\n",
      "   0. 100. 100. 100. 100. 100.   0. 100.   0. 100. 100. 100. 100.   0.\n",
      " 100. 100. 100. 100. 100. 100. 100. 100. 100.   0. 100. 100. 100. 100.\n",
      " 100. 100.   0. 100. 100. 100. 100. 100. 100.   0.   0. 100. 100. 100.\n",
      "   0. 100. 100.   0. 100.   0. 100. 100. 100. 100. 100.   0. 100. 100.\n",
      " 100. 100. 100. 100. 100. 100. 100.   0.   0. 100. 100. 100. 100. 100.\n",
      "   0. 100. 100. 100. 100. 100. 100. 100. 100.   0. 100.   0. 100.   0.\n",
      " 100. 100. 100.   0. 100.   0. 100. 100. 100.   0. 100. 100.   0. 100.\n",
      " 100. 100. 100. 100. 100. 100.   0. 100. 100. 100. 100. 100. 100. 100.\n",
      " 100. 100. 100. 100. 100. 100. 100. 100. 100. 100. 100. 100. 100. 100.\n",
      " 100. 100. 100. 100. 100. 100. 100.   0.   0.   0.   0. 100. 100. 100.\n",
      " 100. 100.   0.   0. 100. 100. 100. 100. 100. 100. 100. 100.   0. 100.\n",
      "   0. 100. 100. 100. 100. 100. 100. 100.   0.   0. 100. 100. 100. 100.\n",
      " 100. 100. 100.   0. 100. 100.   0. 100. 100. 100.   0. 100. 100. 100.\n",
      " 100. 100. 100. 100.   0. 100. 100. 100. 100. 100. 100. 100. 100. 100.\n",
      " 100. 100. 100. 100. 100. 100. 100. 100. 100. 100. 100. 100. 100. 100.\n",
      " 100. 100.   0.   0. 100. 100.   0. 100. 100. 100. 100. 100. 100. 100.\n",
      "   0. 100. 100. 100. 100.   0. 100. 100.   0. 100. 100. 100.   0. 100.\n",
      " 100.   0.   0. 100.   0. 100. 100. 100. 100. 100. 100. 100. 100. 100.\n",
      "   0.   0.   0. 100. 100. 100.   0. 100.   0.   0. 100.   0.   0. 100.\n",
      " 100.   0. 100. 100. 100. 100.   0. 100. 100. 100. 100.   0. 100. 100.\n",
      " 100. 100. 100. 100. 100. 100. 100. 100. 100.   0. 100. 100. 100.   0.\n",
      " 100.   0. 100.   0. 100. 100.   0. 100. 100.   0. 100. 100. 100. 100.\n",
      " 100. 100. 100. 100. 100.   0. 100. 100.   0. 100. 100. 100. 100. 100.\n",
      " 100. 100.   0.   0. 100. 100. 100. 100. 100. 100. 100.   0. 100. 100.\n",
      " 100. 100.   0. 100. 100. 100. 100. 100. 100. 100. 100. 100. 100.   0.\n",
      " 100.   0. 100. 100. 100. 100. 100. 100. 100. 100.   0. 100.]\n",
      "76.82291666666666\n"
     ]
    }
   ],
   "source": [
    "# Check the Accuracy\n",
    "print(\"Accuracy: \", results2*100.0)\n",
    "print(results2.mean()*100.0)"
   ]
  },
  {
   "cell_type": "code",
   "execution_count": 30,
   "metadata": {},
   "outputs": [],
   "source": [
    "################# Repeated K Fold Cross Validation ################# \n",
    "\n",
    "from sklearn.model_selection import ShuffleSplit\n",
    "from sklearn.model_selection import cross_val_score\n",
    "from sklearn.linear_model import LogisticRegression"
   ]
  },
  {
   "cell_type": "code",
   "execution_count": 31,
   "metadata": {},
   "outputs": [],
   "source": [
    "# Initialize parameters\n",
    "n_splits = 10\n",
    "test_size = 0.33\n",
    "seed = 7\n",
    "kfold3 = ShuffleSplit(n_splits=n_splits, test_size=test_size, random_state=seed)\n",
    "model3 = LogisticRegression()"
   ]
  },
  {
   "cell_type": "code",
   "execution_count": 32,
   "metadata": {},
   "outputs": [
    {
     "data": {
      "text/plain": [
       "array([0.75590551, 0.7519685 , 0.78346457, 0.76771654, 0.76377953,\n",
       "       0.78346457, 0.7519685 , 0.79527559, 0.76377953, 0.73622047])"
      ]
     },
     "execution_count": 32,
     "metadata": {},
     "output_type": "execute_result"
    }
   ],
   "source": [
    "# Fitting the model and Extracting the results\n",
    "results3 = cross_val_score(model3, X, Y, cv=kfold3)\n",
    "results3"
   ]
  },
  {
   "cell_type": "code",
   "execution_count": 34,
   "metadata": {},
   "outputs": [
    {
     "name": "stdout",
     "output_type": "stream",
     "text": [
      "Accuracy:  [75.59055118 75.19685039 78.34645669 76.77165354 76.37795276 78.34645669\n",
      " 75.19685039 79.52755906 76.37795276 73.62204724]\n",
      "\n",
      "\n",
      "\n",
      "76.53543307086613 1.690622878234953\n"
     ]
    }
   ],
   "source": [
    "# Check the Accuracy\n",
    "print(\"Accuracy: \", results3*100.0)\n",
    "print ('\\n\\n')\n",
    "print('mean of Accuracy', results3.mean()*100.0, results3.std()*100.0)"
   ]
  }
 ],
 "metadata": {
  "kernelspec": {
   "display_name": "Python 3",
   "language": "python",
   "name": "python3"
  },
  "language_info": {
   "codemirror_mode": {
    "name": "ipython",
    "version": 3
   },
   "file_extension": ".py",
   "mimetype": "text/x-python",
   "name": "python",
   "nbconvert_exporter": "python",
   "pygments_lexer": "ipython3",
   "version": "3.6.5"
  }
 },
 "nbformat": 4,
 "nbformat_minor": 2
}
